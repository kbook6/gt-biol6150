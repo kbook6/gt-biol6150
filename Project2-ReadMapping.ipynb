{
 "cells": [
  {
   "cell_type": "markdown",
   "id": "f13fe33e",
   "metadata": {},
   "source": [
    "![logo-gt.png](attachment:logo-gt.png)"
   ]
  },
  {
   "cell_type": "markdown",
   "id": "e53587e1",
   "metadata": {},
   "source": [
    "<div class=\"alert alert-block alert-info\">\n",
    "    <h1>BIOL 4150/BIOL 6150</h1>\n",
    "    <h3>Instructor: Dr. King Jordan</h3>\n",
    "    <p>Shivam Sharma (shivamsharma13@gatech.edu), Nilavrah Sensarma (nsensarma3@gatech.edu), Bengy Gyimah-Asamoah, (bgyimaha3@gatech.edu)\n",
    "\n",
    "</p>\n",
    "</div>"
   ]
  },
  {
   "cell_type": "markdown",
   "id": "4c342f3f",
   "metadata": {},
   "source": [
    "<div class=\"alert alert-block alert-warning\">\n",
    "    <h2>Project 2 (Read Mapping) starter notebook</h2>\n",
    "    <h3>Deadline: 11:59PM, October 1st, 2024</h3>\n",
    "</div>"
   ]
  },
  {
   "cell_type": "markdown",
   "id": "879a14ff",
   "metadata": {},
   "source": [
    "---"
   ]
  },
  {
   "cell_type": "markdown",
   "id": "f404ae11",
   "metadata": {},
   "source": [
    "# **1. Getting ready for read alignment**\n",
    "### *Total Questions: 5*\n",
    "### *Total Points: 2+5+5+5+3 = 20*\n",
    "\n",
    "\n",
    "---"
   ]
  },
  {
   "cell_type": "markdown",
   "id": "69ff09a1",
   "metadata": {},
   "source": [
    "<div class=\"alert alert-block alert-warning\">\n",
    "    <h3>1.1 Do you have the post-QCed fastq file from the assigned 1000 Genomes individual</h3>\n",
    "    <p>We will start from where we left off in Project #1. We want to make sure that we are using the correct QCed fastq files.</p>\n",
    "</div>"
   ]
  },
  {
   "cell_type": "code",
   "execution_count": 4,
   "id": "9a5c6620",
   "metadata": {},
   "outputs": [
    {
     "name": "stdout",
     "output_type": "stream",
     "text": [
      "total 1.7M\n",
      "-rw-r--r--. 1 soliver35 gtperson 583K Sep 21 17:22 SRR393028_1.Trimmed_fastqc.html\n",
      "-rw-r--r--. 1 soliver35 gtperson 262K Sep 21 17:22 SRR393028_1.Trimmed_fastqc.zip\n",
      "-rw-r--r--. 1 soliver35 gtperson 583K Sep 21 17:22 SRR393028_2.Trimmed_fastqc.html\n",
      "-rw-r--r--. 1 soliver35 gtperson 261K Sep 21 17:22 SRR393028_2.Trimmed_fastqc.zip\n"
     ]
    }
   ],
   "source": [
    "##Run \"ls -lh\" here to show the two fastq files.\n",
    "!ls -lh ~/biol6150/ProjectSubmissions/Group8/Project1/fastQCAfterTrimming\n",
    "\n",
    "#Question: Does showing the HTML files matter?\n",
    "\n",
    "#/SRR393028_1.Trimmed_fastqc.zip\n",
    "#!ls -lh ~/biol6150/ProjectSubmissions/Group8/Project1/fastQCAfterTrimming/SRR393028_2.Trimmed_fastqc.zip"
   ]
  },
  {
   "cell_type": "markdown",
   "id": "cad8ccda",
   "metadata": {},
   "source": [
    "<div class=\"alert alert-block alert-warning\">\n",
    "    <h3>1.2 Download the correct reference genome for alignment step</h3>\n",
    "    <p>Please locate and donwload the human reference genome fasta file in build GRCh38</p>\n",
    "</div>"
   ]
  },
  {
   "cell_type": "code",
   "execution_count": 4,
   "id": "aaa946ba",
   "metadata": {},
   "outputs": [],
   "source": [
    "#Where does this file come from? Give the website link (FTP?) or explain how you downloaed this file.\n",
    "#Also run \"ls -lh\" here to see the size and location of your reference file."
   ]
  },
  {
   "cell_type": "code",
   "execution_count": 2,
   "id": "32835d37",
   "metadata": {},
   "outputs": [
    {
     "name": "stdout",
     "output_type": "stream",
     "text": [
      "--2024-09-21 18:21:22--  http://hgdownload.soe.ucsc.edu/goldenPath/hg38/bigZips/hg38.fa.gz\n",
      "Resolving hgdownload.soe.ucsc.edu (hgdownload.soe.ucsc.edu)... 128.114.119.163\n",
      "Connecting to hgdownload.soe.ucsc.edu (hgdownload.soe.ucsc.edu)|128.114.119.163|:80... connected.\n",
      "HTTP request sent, awaiting response... 200 OK\n",
      "Length: 983659424 (938M) [application/x-gzip]\n",
      "Saving to: ‘hg38.fa.gz’\n",
      "\n",
      "hg38.fa.gz          100%[===================>] 938.09M  14.1MB/s    in 53s     \n",
      "\n",
      "2024-09-21 18:22:15 (17.8 MB/s) - ‘hg38.fa.gz’ saved [983659424/983659424]\n",
      "\n",
      "total 942M\n",
      "-rw-r--r--. 1 soliver35 gtperson 939M Jan 16  2014 hg38.fa.gz\n",
      "-rwxrwxrwx. 1 acressy3  gtperson  14K Sep 21 18:18 Project2-ReadMapping.ipynb\n"
     ]
    }
   ],
   "source": [
    "!wget http://hgdownload.soe.ucsc.edu/goldenPath/hg38/bigZips/hg38.fa.gz\n",
    "!ls -lh"
   ]
  },
  {
   "cell_type": "markdown",
   "id": "c9db3bcf",
   "metadata": {},
   "source": [
    "<div class=\"alert alert-block alert-warning\">\n",
    "    <h3>1.3 Find out about your reference genome file.</h3>\n",
    "    <p>Does your reference fasta file have more information that just ACGT nucleotides? Please check if your fastq sequence have Ns or small/upper case ACGT nnucleotides.</p>\n",
    "</div>"
   ]
  },
  {
   "cell_type": "code",
   "execution_count": null,
   "id": "bd1432fa",
   "metadata": {},
   "outputs": [],
   "source": []
  },
  {
   "cell_type": "code",
   "execution_count": 3,
   "id": "3637229e",
   "metadata": {},
   "outputs": [],
   "source": [
    "#Just glance over the fasta file. There is no need to run a script for this. \n",
    "#Write in one sentence if you see more than just upper case ACGT nucleotides."
   ]
  },
  {
   "cell_type": "code",
   "execution_count": 3,
   "id": "92cf6bc0",
   "metadata": {},
   "outputs": [],
   "source": [
    "!mkdir -p ~/biol6150/ProjectSubmissions/Group8/Project2/ReadAlignment"
   ]
  },
  {
   "cell_type": "code",
   "execution_count": 5,
   "id": "0bbd8cbf",
   "metadata": {},
   "outputs": [],
   "source": [
    "!gunzip ~/biol6150/ProjectSubmissions/Group8/Project2/ReadAlignment/hg38.fa.gz"
   ]
  },
  {
   "cell_type": "code",
   "execution_count": 7,
   "id": "1bd62dc2",
   "metadata": {},
   "outputs": [
    {
     "name": "stdout",
     "output_type": "stream",
     "text": [
      "total 3.1G\n",
      "-rw-r--r--. 1 soliver35 gtperson 3.1G Jan 16  2014 hg38.fa\n",
      ">chr1\n",
      "NNNNNNNNNNNNNNNNNNNNNNNNNNNNNNNNNNNNNNNNNNNNNNNNNN\n",
      "NNNNNNNNNNNNNNNNNNNNNNNNNNNNNNNNNNNNNNNNNNNNNNNNNN\n",
      "NNNNNNNNNNNNNNNNNNNNNNNNNNNNNNNNNNNNNNNNNNNNNNNNNN\n",
      "NNNNNNNNNNNNNNNNNNNNNNNNNNNNNNNNNNNNNNNNNNNNNNNNNN\n",
      "NNNNNNNNNNNNNNNNNNNNNNNNNNNNNNNNNNNNNNNNNNNNNNNNNN\n",
      "NNNNNNNNNNNNNNNNNNNNNNNNNNNNNNNNNNNNNNNNNNNNNNNNNN\n",
      "NNNNNNNNNNNNNNNNNNNNNNNNNNNNNNNNNNNNNNNNNNNNNNNNNN\n",
      "NNNNNNNNNNNNNNNNNNNNNNNNNNNNNNNNNNNNNNNNNNNNNNNNNN\n",
      "NNNNNNNNNNNNNNNNNNNNNNNNNNNNNNNNNNNNNNNNNNNNNNNNNN\n",
      "AGGAGAGGTCGGTGCCGGGTCCCGGGGGTcccgcgccctccccccgcctc\n",
      "caagccgccgccgcccgcgccTCACCCGTCACCTGCACGCGACGCAGGCT\n",
      "CCGCAGGTGTCTCACGGTCATCTCCAGGATGTCCGCCTTCTCCAGCTTCG\n",
      "AGTGGCGGGAGCTCTGGGGGCGGGGATAGGCGGGAGGTCCAGGTCAGCTG\n",
      "CGACCCAGACTCCGGGTCTCGGGCCTTCGCCCCCGACTTACCTCTTTTCT\n",
      "GAGGGCGTCCAGGATGAGGGTTTTGAGCTGAGCGAGGCTCTCGTTAATAC\n",
      "GCGCTCGGCGCCGCTTCTCCATGACCGGCTTGGAGGACTGCGGGTCGGGC\n",
      "ACCGGCTGAGTCCCGCGTCCCTCCCGCCCCCCGGTCGCCCCCCTCACGCC\n",
      "CGGCCGGGACCCCACCTTGCGGTGCTCGGCCGCGCTCCGGGGCTTGTCTG\n",
      "GGGTCCGGCTGGCGCTGGCCGGCGCTCCTGCCATCGGCGAGGCGCTCGGT\n"
     ]
    }
   ],
   "source": [
    "!ls -lh ~/biol6150/ProjectSubmissions/Group8/Project2/ReadAlignment/\n",
    "!head ~/biol6150/ProjectSubmissions/Group8/Project2/ReadAlignment/hg38.fa\n",
    "!head ~/biol6150/ProjectSubmissions/Group8/Project2/ReadAlignment/hg38.fa -n20000 | tail"
   ]
  },
  {
   "cell_type": "markdown",
   "id": "f399ba57",
   "metadata": {},
   "source": [
    "There are 9 lines (in jupyter notebook) of Ns and about about 1 line of lowercase nucleotides"
   ]
  },
  {
   "cell_type": "markdown",
   "id": "09d4c26a",
   "metadata": {},
   "source": [
    "<div class=\"alert alert-block alert-warning\">\n",
    "    <h3>1.4 Using 1-3 lines, explain what upper case ACGT, lower case ACGT, and NNNs mean in your reference fasta file.</h3>\n",
    "    <p>Hint: check readme files.</p>\n",
    "</div>"
   ]
  },
  {
   "cell_type": "markdown",
   "id": "9d8559b9",
   "metadata": {},
   "source": [
    "Upper case ACGT are the non-repeating sequences, and lower cases ACGT are repeating sequences that are soft masked. \n",
    "The base sequences that could not be identified are shown by NNNs (i.e. missing bases, gaps). "
   ]
  },
  {
   "cell_type": "markdown",
   "id": "781d9e4d",
   "metadata": {},
   "source": [
    "<div class=\"alert alert-block alert-warning\">\n",
    "    <h3>1.5 Select a tool for read alignment.</h3>\n",
    "    <p>We have demonstrated bwa and minimap2 in the class. If you want to use some other tool, reach out to one of the TAs to get that tool installed on PACE-ICE.</p>\n",
    "</div>"
   ]
  },
  {
   "cell_type": "code",
   "execution_count": 4,
   "id": "9627b913",
   "metadata": {},
   "outputs": [
    {
     "name": "stdout",
     "output_type": "stream",
     "text": [
      "\n",
      "Usage:   bwa index [options] <in.fasta>\n",
      "\n",
      "Options: -a STR    BWT construction algorithm: bwtsw, is or rb2 [auto]\n",
      "         -p STR    prefix of the index [same as fasta name]\n",
      "         -b INT    block size for the bwtsw algorithm (effective with -a bwtsw) [10000000]\n",
      "         -6        index files named as <in.fasta>.64.* instead of <in.fasta>.* \n",
      "\n",
      "Warning: `-a bwtsw' does not work for short genomes, while `-a is' and\n",
      "         `-a div' do not work not for long genomes.\n",
      "\n"
     ]
    }
   ],
   "source": [
    "!bwa index\n",
    "#actually indexed below"
   ]
  },
  {
   "cell_type": "markdown",
   "id": "1be29a73",
   "metadata": {},
   "source": [
    "# **2. Read alignment**\n",
    "### *Total Questions: 4*\n",
    "### *Total Points: 10+15+5+20 = 50*\n",
    "\n",
    "\n",
    "---"
   ]
  },
  {
   "cell_type": "markdown",
   "id": "eef406db",
   "metadata": {},
   "source": [
    "<div class=\"alert alert-block alert-warning\">\n",
    "    <h3>2.1 Steps before mapping</h3>\n",
    "    <p>You already have a fasta file, but sometimes alignment tools do not accept fasta files directly. Please read your aligners documentation and run all the preliminary steps require to run the mapping command from your aligner.</p>\n",
    "</div>"
   ]
  },
  {
   "cell_type": "markdown",
   "id": "69501c85",
   "metadata": {},
   "source": [
    "<div class=\"alert alert-block alert-info\">\n",
    "    <p>Preliminary commands go in the cells below. Please use appropriate comments and markdown texts to explain what your command is doing.</p>\n",
    "</div>"
   ]
  },
  {
   "cell_type": "code",
   "execution_count": null,
   "id": "e6742cc0",
   "metadata": {},
   "outputs": [],
   "source": [
    "#Write your commands here. Insert more cells if necessary"
   ]
  },
  {
   "cell_type": "code",
   "execution_count": 2,
   "id": "cba7fd8b",
   "metadata": {
    "scrolled": true
   },
   "outputs": [
    {
     "name": "stdout",
     "output_type": "stream",
     "text": [
      "total 8.4G\n",
      "-rwxrwxrwx. 1 soliver35 gtperson 3.1G Jan 16  2014 hg38.fa\n",
      "-rw-r--r--. 1 jkim3607  gtperson  21K Sep 28 14:50 hg38.fa.amb\n",
      "-rw-r--r--. 1 jkim3607  gtperson  22K Sep 28 14:50 hg38.fa.ann\n",
      "-rw-r--r--. 1 jkim3607  gtperson 3.0G Sep 28 14:50 hg38.fa.bwt\n",
      "-rw-r--r--. 1 jkim3607  gtperson 766M Sep 28 14:50 hg38.fa.pac\n",
      "-rw-r--r--. 1 jkim3607  gtperson 1.5G Sep 28 15:04 hg38.fa.sa\n",
      "-rw-r--r--. 1 jkim3607  gtperson    0 Sep 24 15:50 hg38.mmi\n",
      "-rw-r--r--. 1 jkim3607  gtperson    0 Sep 28 11:43 SRR393028.sam\n"
     ]
    }
   ],
   "source": [
    "!ls -lh ~/biol6150/ProjectSubmissions/Group8/Project2/ReadAlignment"
   ]
  },
  {
   "cell_type": "code",
   "execution_count": 6,
   "id": "485bdfa2",
   "metadata": {},
   "outputs": [
    {
     "name": "stdout",
     "output_type": "stream",
     "text": [
      "hg38.fa  hg38.fa.amb  hg38.fa.ann  hg38.fa.pac\thg38.mmi  SRR393028.sam\n"
     ]
    }
   ],
   "source": [
    "!ls ~/biol6150/ProjectSubmissions/Group8/Project2/ReadAlignment"
   ]
  },
  {
   "cell_type": "code",
   "execution_count": 1,
   "id": "00f4e899",
   "metadata": {
    "scrolled": true
   },
   "outputs": [
    {
     "name": "stdout",
     "output_type": "stream",
     "text": [
      "@SQ\tSN:chr1\tLN:248956422\n",
      "@SQ\tSN:chr10\tLN:133797422\n",
      "@SQ\tSN:chr11\tLN:135086622\n",
      "@SQ\tSN:chr11_KI270721v1_random\tLN:100316\n",
      "@SQ\tSN:chr12\tLN:133275309\n",
      "@SQ\tSN:chr13\tLN:114364328\n",
      "@SQ\tSN:chr14\tLN:107043718\n",
      "@SQ\tSN:chr14_GL000009v2_random\tLN:201709\n",
      "@SQ\tSN:chr14_GL000225v1_random\tLN:211173\n",
      "@SQ\tSN:chr14_KI270722v1_random\tLN:194050\n",
      "   4572750   73377281 1102823023 /home/hice1/acressy3/biol6150/ProjectSubmissions/Group8/Project2/ReadAlignment/SRR393028.sam\n"
     ]
    }
   ],
   "source": [
    "#check the output\n",
    "!head ~/biol6150/ProjectSubmissions/Group8/Project2/ReadAlignment/SRR393028.sam\n",
    "!wc ~/biol6150/ProjectSubmissions/Group8/Project2/ReadAlignment/SRR393028.sam"
   ]
  },
  {
   "cell_type": "code",
   "execution_count": null,
   "id": "becbd45d",
   "metadata": {},
   "outputs": [],
   "source": [
    "#Run \"ls -lh\" to show what additional files were created in addition to your original fasta files."
   ]
  },
  {
   "cell_type": "code",
   "execution_count": 1,
   "id": "481168f1",
   "metadata": {
    "scrolled": true
   },
   "outputs": [
    {
     "name": "stdout",
     "output_type": "stream",
     "text": [
      "total 9.4G\n",
      "-rwxrwxrwx. 1 soliver35 gtperson 3.1G Jan 16  2014 hg38.fa\n",
      "-rw-r--r--. 1 jkim3607  gtperson  21K Sep 28 14:50 hg38.fa.amb\n",
      "-rw-r--r--. 1 jkim3607  gtperson  22K Sep 28 14:50 hg38.fa.ann\n",
      "-rw-r--r--. 1 jkim3607  gtperson 3.0G Sep 28 14:50 hg38.fa.bwt\n",
      "-rw-r--r--. 1 jkim3607  gtperson 766M Sep 28 14:50 hg38.fa.pac\n",
      "-rw-r--r--. 1 jkim3607  gtperson 1.5G Sep 28 15:04 hg38.fa.sa\n",
      "-rw-r--r--. 1 jkim3607  gtperson    0 Sep 24 15:50 hg38.mmi\n",
      "-rwxrwxrwx. 1 jkim3607  gtperson 1.1G Sep 28 19:28 SRR393028.sam\n"
     ]
    }
   ],
   "source": [
    "!ls -lh ~/biol6150/ProjectSubmissions/Group8/Project2/ReadAlignment"
   ]
  },
  {
   "cell_type": "markdown",
   "id": "e549fcbe",
   "metadata": {},
   "source": [
    "<div class=\"alert alert-block alert-warning\">\n",
    "    <h3>2.2 Run mapping.</h3>\n",
    "    <p>This should be one or two lines of code but it's important to understand what the options are doing.</p>\n",
    "</div>"
   ]
  },
  {
   "cell_type": "code",
   "execution_count": null,
   "id": "d477ef96",
   "metadata": {},
   "outputs": [],
   "source": [
    "#Write you command below."
   ]
  },
  {
   "cell_type": "code",
   "execution_count": 1,
   "id": "75c70390",
   "metadata": {},
   "outputs": [
    {
     "name": "stdout",
     "output_type": "stream",
     "text": [
      "[bwa_index] Pack FASTA... 24.90 sec\n",
      "[bwa_index] Construct BWT for the packed sequence...\n",
      "[bwa_index] 5708.25 seconds elapse.\n",
      "[bwa_index] Update BWT... 16.41 sec\n",
      "[bwa_index] Pack forward-only FASTA... 14.95 sec\n",
      "[bwa_index] Construct SA from BWT and Occ... 779.76 sec\n",
      "[main] Version: 0.7.17-r1188\n",
      "[main] CMD: bwa index -a rb2 /home/hice1/jkim3607/biol6150/ProjectSubmissions/Group8/Project2/ReadAlignment/hg38.fa\n",
      "[main] Real time: 6605.213 sec; CPU: 6544.299 sec\n"
     ]
    }
   ],
   "source": [
    "#index the file using bwa\n",
    "!bwa index -a rb2 ~/biol6150/ProjectSubmissions/Group8/Project2/ReadAlignment/hg38.fa"
   ]
  },
  {
   "cell_type": "code",
   "execution_count": 1,
   "id": "bd876722",
   "metadata": {},
   "outputs": [
    {
     "name": "stdout",
     "output_type": "stream",
     "text": [
      "[M::bwa_idx_load_from_disk] read 0 ALT contigs\n",
      "[M::process] read 3583244 sequences (240000084 bp)...\n",
      "[M::mem_pestat] # candidate unique pairs for (FF, FR, RF, RR): (22, 1345179, 6, 8)\n",
      "[M::mem_pestat] analyzing insert size distribution for orientation FF...\n",
      "[M::mem_pestat] (25, 50, 75) percentile: (73, 115, 139)\n",
      "[M::mem_pestat] low and high boundaries for computing mean and std.dev: (1, 271)\n",
      "[M::mem_pestat] mean and std.dev: (109.23, 49.23)\n",
      "[M::mem_pestat] low and high boundaries for proper pairs: (1, 337)\n",
      "[M::mem_pestat] analyzing insert size distribution for orientation FR...\n",
      "[M::process] read 988624 sequences (66206370 bp)...\n",
      "[M::mem_pestat] (25, 50, 75) percentile: (104, 135, 174)\n",
      "[M::mem_pestat] low and high boundaries for computing mean and std.dev: (1, 314)\n",
      "[M::mem_pestat] mean and std.dev: (142.33, 50.39)\n",
      "[M::mem_pestat] low and high boundaries for proper pairs: (1, 384)\n",
      "[M::mem_pestat] skip orientation RF as there are not enough pairs\n",
      "[M::mem_pestat] skip orientation RR as there are not enough pairs\n",
      "[M::mem_pestat] skip orientation FF\n",
      "[M::mem_process_seqs] Processed 3583244 reads in 299.381 CPU sec, 33.650 real sec\n",
      "[M::mem_pestat] # candidate unique pairs for (FF, FR, RF, RR): (6, 330060, 11, 2)\n",
      "[M::mem_pestat] skip orientation FF as there are not enough pairs\n",
      "[M::mem_pestat] analyzing insert size distribution for orientation FR...\n",
      "[M::mem_pestat] (25, 50, 75) percentile: (105, 135, 175)\n",
      "[M::mem_pestat] low and high boundaries for computing mean and std.dev: (1, 315)\n",
      "[M::mem_pestat] mean and std.dev: (142.73, 50.56)\n",
      "[M::mem_pestat] low and high boundaries for proper pairs: (1, 385)\n",
      "[M::mem_pestat] analyzing insert size distribution for orientation RF...\n",
      "[M::mem_pestat] (25, 50, 75) percentile: (206, 292, 465)\n",
      "[M::mem_pestat] low and high boundaries for computing mean and std.dev: (1, 983)\n",
      "[M::mem_pestat] mean and std.dev: (309.50, 136.50)\n",
      "[M::mem_pestat] low and high boundaries for proper pairs: (1, 1242)\n",
      "[M::mem_pestat] skip orientation RR as there are not enough pairs\n",
      "[M::mem_pestat] skip orientation RF\n",
      "[M::mem_process_seqs] Processed 988624 reads in 90.614 CPU sec, 9.217 real sec\n",
      "[main] Version: 0.7.17-r1188\n",
      "[main] CMD: bwa mem -t 24 /home/hice1/acressy3/biol6150/ProjectSubmissions/Group8/Project2/ReadAlignment/hg38.fa /home/hice1/acressy3/biol6150/ProjectSubmissions/Group8/Project1/Trimming/SRR393028_1.Trimmed.fastq /home/hice1/acressy3/biol6150/ProjectSubmissions/Group8/Project1/Trimming/SRR393028_2.Trimmed.fastq\n",
      "[main] Real time: 48.408 sec; CPU: 395.067 sec\n"
     ]
    }
   ],
   "source": [
    "#align the file using bwa\n",
    "\n",
    "!bwa mem -t 24 ~/biol6150/ProjectSubmissions/Group8/Project2/ReadAlignment/hg38.fa ~/biol6150/ProjectSubmissions/Group8/Project1/Trimming/SRR393028_1.Trimmed.fastq ~/biol6150/ProjectSubmissions/Group8/Project1/Trimming/SRR393028_2.Trimmed.fastq > ~/biol6150/ProjectSubmissions/Group8/Project2/ReadAlignment/SRR393028.sam\n"
   ]
  },
  {
   "cell_type": "code",
   "execution_count": 1,
   "id": "bd0c1c8a",
   "metadata": {},
   "outputs": [
    {
     "name": "stdout",
     "output_type": "stream",
     "text": [
      "[M::mm_idx_gen::60.096*1.62] collected minimizers\n",
      "[M::mm_idx_gen::75.676*1.90] sorted minimizers\n",
      "[M::main::75.676*1.90] loaded/built the index for 455 target sequence(s)\n",
      "[M::mm_idx_stat] kmer size: 15; skip: 10; is_hpc: 0; #seq: 455\n",
      "[M::mm_idx_stat::76.892*1.88] distinct minimizers: 100202295 (37.96% are singletons); average occurrences: 5.732; average spacing: 5.587; total length: 3209286105\n",
      "[M::main] Version: 2.26-r1175\n",
      "[M::main] CMD: minimap2 -d /home/hice1/acressy3/biol6150/ProjectSubmissions/Group8/Project2/ReadAlignment/hg38.mmi /home/hice1/acressy3/biol6150/ProjectSubmissions/Group8/Project2/ReadAlignment/hg38.fa\n",
      "[M::main] Real time: 77.056 sec; CPU: 145.093 sec; Peak RSS: 11.974 GB\n",
      "total 9.4G\n",
      "-rwxrwxrwx. 1 soliver35 gtperson 3.1G Jan 16  2014 hg38.fa\n",
      "-rw-r--r--. 1 jkim3607  gtperson  21K Sep 28 14:50 hg38.fa.amb\n",
      "-rw-r--r--. 1 jkim3607  gtperson  22K Sep 28 14:50 hg38.fa.ann\n",
      "-rw-r--r--. 1 jkim3607  gtperson 3.0G Sep 28 14:50 hg38.fa.bwt\n",
      "-rw-r--r--. 1 jkim3607  gtperson 766M Sep 28 14:50 hg38.fa.pac\n",
      "-rw-r--r--. 1 jkim3607  gtperson 1.5G Sep 28 15:04 hg38.fa.sa\n",
      "-rw-r--r--. 1 jkim3607  gtperson    0 Sep 24 15:50 hg38.mmi\n",
      "-rwxrwxrwx. 1 jkim3607  gtperson 1.1G Sep 28 19:28 SRR393028.sam\n"
     ]
    }
   ],
   "source": [
    "#index\n",
    "!minimap2 -d ~/biol6150/ProjectSubmissions/Group8/Project2/ReadAlignment/hg38.mmi ~/biol6150/ProjectSubmissions/Group8/Project2/ReadAlignment/hg38.fa\n",
    "!ls -lh ~/biol6150/ProjectSubmissions/Group8/Project2/ReadAlignment/"
   ]
  },
  {
   "cell_type": "code",
   "execution_count": null,
   "id": "217aefa6",
   "metadata": {},
   "outputs": [],
   "source": [
    "#Add one extra cell as required and explain each argument/flag that was given to the mapping command."
   ]
  },
  {
   "cell_type": "code",
   "execution_count": 1,
   "id": "24fdd6bf",
   "metadata": {},
   "outputs": [
    {
     "name": "stdout",
     "output_type": "stream",
     "text": [
      "[M::mm_idx_gen::0.004*0.91] collected minimizers\n",
      "[M::mm_idx_gen::0.005*0.75] sorted minimizers\n",
      "[M::main::0.020*0.18] loaded/built the index for 0 target sequence(s)\n",
      "[M::mm_mapopt_update::0.020*0.19] mid_occ = 898015\n",
      "[M::mm_idx_stat] kmer size: 15; skip: 10; is_hpc: 0; #seq: 0\n",
      "[M::mm_idx_stat::0.020*0.19] distinct minimizers: 0 (-nan% are singletons); average occurrences: -nan; average spacing: -nan; total length: 0\n",
      "[M::worker_pipeline::8.217*0.81] mapped 2285934 sequences\n",
      "[M::worker_pipeline::15.996*0.83] mapped 2285934 sequences\n",
      "[M::main] Version: 2.26-r1175\n",
      "[M::main] CMD: minimap2 -c -a /home/hice1/acressy3/biol6150/ProjectSubmissions/Group8/Project2/ReadAlignment/hg38.mmi /home/hice1/acressy3/biol6150/ProjectSubmissions/Group8/Project1/Trimming/SRR393028_1.Trimmed.fastq /home/hice1/acressy3/biol6150/ProjectSubmissions/Group8/Project1/Trimming/SRR393028_2.Trimmed.fastq\n",
      "[M::main] Real time: 15.996 sec; CPU: 13.269 sec; Peak RSS: 0.648 GB\n"
     ]
    }
   ],
   "source": [
    "#Align\n",
    "!minimap2 -c -a ~/biol6150/ProjectSubmissions/Group8/Project2/ReadAlignment/hg38.mmi ~/biol6150/ProjectSubmissions/Group8/Project1/Trimming/SRR393028_1.Trimmed.fastq ~/biol6150/ProjectSubmissions/Group8/Project1/Trimming/SRR393028_2.Trimmed.fastq > ~/scratch/ReadAlignment/SRR393028.Minimap.sam  "
   ]
  },
  {
   "cell_type": "markdown",
   "id": "f64d8c5c",
   "metadata": {},
   "source": [
    "<div class=\"alert alert-block alert-warning\">\n",
    "    <h3>2.3 Post alignment evaluation.</h3>\n",
    "    <p>How many lines does your SAM file have?</p>\n",
    "</div>"
   ]
  },
  {
   "cell_type": "code",
   "execution_count": null,
   "id": "bdb41feb",
   "metadata": {},
   "outputs": [],
   "source": [
    "#Just one line for this one."
   ]
  },
  {
   "cell_type": "code",
   "execution_count": 2,
   "id": "55d9ac7b",
   "metadata": {},
   "outputs": [
    {
     "name": "stdout",
     "output_type": "stream",
     "text": [
      "4572750 /home/hice1/acressy3/biol6150/ProjectSubmissions/Group8/Project2/ReadAlignment/SRR393028.sam\n"
     ]
    }
   ],
   "source": [
    "!wc -l ~/biol6150/ProjectSubmissions/Group8/Project2/ReadAlignment/SRR393028.sam"
   ]
  },
  {
   "cell_type": "markdown",
   "id": "e07de804",
   "metadata": {},
   "source": [
    "We have 4572750 lines in our SAM file."
   ]
  },
  {
   "cell_type": "markdown",
   "id": "da445c97",
   "metadata": {},
   "source": [
    "<div class=\"alert alert-block alert-warning\">\n",
    "    <h3>2.4 Look at the 7th read that maps successfully in your SAM file and answer the following questions. (10+10+10+10 = 40Points)</h3>\n",
    "    <p>1. What chromosome does it align to?</p>\n",
    "    <p>2. What is the CIGAR string for this read? Explain the CIGAR string in detail.</p>\n",
    "    <p>3. Does this read have a paired read which also aligns successfully?</p>\n",
    "    <p>4. If the paired read aligns successfully, what does the CIGAR string for this read convey?</p>\n",
    "</div>"
   ]
  },
  {
   "cell_type": "code",
   "execution_count": 9,
   "id": "6538b36b",
   "metadata": {},
   "outputs": [
    {
     "name": "stdout",
     "output_type": "stream",
     "text": [
      "@SQ\tSN:chr1\tLN:248956422\n",
      "@SQ\tSN:chr10\tLN:133797422\n",
      "@SQ\tSN:chr11\tLN:135086622\n",
      "@SQ\tSN:chr11_KI270721v1_random\tLN:100316\n",
      "@SQ\tSN:chr12\tLN:133275309\n",
      "@SQ\tSN:chr13\tLN:114364328\n",
      "@SQ\tSN:chr14\tLN:107043718\n",
      "@SQ\tSN:chr14_GL000009v2_random\tLN:201709\n",
      "@SQ\tSN:chr14_GL000225v1_random\tLN:211173\n",
      "@SQ\tSN:chr14_KI270722v1_random\tLN:194050\n",
      "@SQ\tSN:chr14_GL000194v1_random\tLN:191469\n",
      "@SQ\tSN:chr14_KI270723v1_random\tLN:38115\n",
      "@SQ\tSN:chr14_KI270724v1_random\tLN:39555\n",
      "@SQ\tSN:chr14_KI270725v1_random\tLN:172810\n",
      "@SQ\tSN:chr14_KI270726v1_random\tLN:43739\n",
      "@SQ\tSN:chr15\tLN:101991189\n",
      "@SQ\tSN:chr15_KI270727v1_random\tLN:448248\n",
      "@SQ\tSN:chr16\tLN:90338345\n",
      "@SQ\tSN:chr16_KI270728v1_random\tLN:1872759\n",
      "@SQ\tSN:chr17\tLN:83257441\n",
      "@SQ\tSN:chr17_GL000205v2_random\tLN:185591\n",
      "@SQ\tSN:chr17_KI270729v1_random\tLN:280839\n",
      "@SQ\tSN:chr17_KI270730v1_random\tLN:112551\n",
      "@SQ\tSN:chr18\tLN:80373285\n",
      "@SQ\tSN:chr19\tLN:58617616\n",
      "@SQ\tSN:chr1_KI270706v1_random\tLN:175055\n",
      "@SQ\tSN:chr1_KI270707v1_random\tLN:32032\n",
      "@SQ\tSN:chr1_KI270708v1_random\tLN:127682\n",
      "@SQ\tSN:chr1_KI270709v1_random\tLN:66860\n",
      "@SQ\tSN:chr1_KI270710v1_random\tLN:40176\n",
      "@SQ\tSN:chr1_KI270711v1_random\tLN:42210\n",
      "@SQ\tSN:chr1_KI270712v1_random\tLN:176043\n",
      "@SQ\tSN:chr1_KI270713v1_random\tLN:40745\n",
      "@SQ\tSN:chr1_KI270714v1_random\tLN:41717\n",
      "@SQ\tSN:chr2\tLN:242193529\n",
      "@SQ\tSN:chr20\tLN:64444167\n",
      "@SQ\tSN:chr21\tLN:46709983\n",
      "@SQ\tSN:chr22\tLN:50818468\n",
      "@SQ\tSN:chr22_KI270731v1_random\tLN:150754\n",
      "@SQ\tSN:chr22_KI270732v1_random\tLN:41543\n",
      "@SQ\tSN:chr22_KI270733v1_random\tLN:179772\n",
      "@SQ\tSN:chr22_KI270734v1_random\tLN:165050\n",
      "@SQ\tSN:chr22_KI270735v1_random\tLN:42811\n",
      "@SQ\tSN:chr22_KI270736v1_random\tLN:181920\n",
      "@SQ\tSN:chr22_KI270737v1_random\tLN:103838\n",
      "@SQ\tSN:chr22_KI270738v1_random\tLN:99375\n",
      "@SQ\tSN:chr22_KI270739v1_random\tLN:73985\n",
      "@SQ\tSN:chr2_KI270715v1_random\tLN:161471\n",
      "@SQ\tSN:chr2_KI270716v1_random\tLN:153799\n",
      "@SQ\tSN:chr3\tLN:198295559\n",
      "@SQ\tSN:chr3_GL000221v1_random\tLN:155397\n",
      "@SQ\tSN:chr4\tLN:190214555\n",
      "@SQ\tSN:chr4_GL000008v2_random\tLN:209709\n",
      "@SQ\tSN:chr5\tLN:181538259\n",
      "@SQ\tSN:chr5_GL000208v1_random\tLN:92689\n",
      "@SQ\tSN:chr6\tLN:170805979\n",
      "@SQ\tSN:chr7\tLN:159345973\n",
      "@SQ\tSN:chr8\tLN:145138636\n",
      "@SQ\tSN:chr9\tLN:138394717\n",
      "@SQ\tSN:chr9_KI270717v1_random\tLN:40062\n",
      "@SQ\tSN:chr9_KI270718v1_random\tLN:38054\n",
      "@SQ\tSN:chr9_KI270719v1_random\tLN:176845\n",
      "@SQ\tSN:chr9_KI270720v1_random\tLN:39050\n",
      "@SQ\tSN:chr1_KI270762v1_alt\tLN:354444\n",
      "@SQ\tSN:chr1_KI270766v1_alt\tLN:256271\n",
      "@SQ\tSN:chr1_KI270760v1_alt\tLN:109528\n",
      "@SQ\tSN:chr1_KI270765v1_alt\tLN:185285\n",
      "@SQ\tSN:chr1_GL383518v1_alt\tLN:182439\n",
      "@SQ\tSN:chr1_GL383519v1_alt\tLN:110268\n",
      "@SQ\tSN:chr1_GL383520v2_alt\tLN:366580\n",
      "@SQ\tSN:chr1_KI270764v1_alt\tLN:50258\n",
      "@SQ\tSN:chr1_KI270763v1_alt\tLN:911658\n",
      "@SQ\tSN:chr1_KI270759v1_alt\tLN:425601\n",
      "@SQ\tSN:chr1_KI270761v1_alt\tLN:165834\n",
      "@SQ\tSN:chr2_KI270770v1_alt\tLN:136240\n",
      "@SQ\tSN:chr2_KI270773v1_alt\tLN:70887\n",
      "@SQ\tSN:chr2_KI270774v1_alt\tLN:223625\n",
      "@SQ\tSN:chr2_KI270769v1_alt\tLN:120616\n",
      "@SQ\tSN:chr2_GL383521v1_alt\tLN:143390\n",
      "@SQ\tSN:chr2_KI270772v1_alt\tLN:133041\n",
      "@SQ\tSN:chr2_KI270775v1_alt\tLN:138019\n",
      "@SQ\tSN:chr2_KI270771v1_alt\tLN:110395\n",
      "@SQ\tSN:chr2_KI270768v1_alt\tLN:110099\n",
      "@SQ\tSN:chr2_GL582966v2_alt\tLN:96131\n",
      "@SQ\tSN:chr2_GL383522v1_alt\tLN:123821\n",
      "@SQ\tSN:chr2_KI270776v1_alt\tLN:174166\n",
      "@SQ\tSN:chr2_KI270767v1_alt\tLN:161578\n",
      "@SQ\tSN:chr3_JH636055v2_alt\tLN:173151\n",
      "@SQ\tSN:chr3_KI270783v1_alt\tLN:109187\n",
      "@SQ\tSN:chr3_KI270780v1_alt\tLN:224108\n",
      "@SQ\tSN:chr3_GL383526v1_alt\tLN:180671\n",
      "@SQ\tSN:chr3_KI270777v1_alt\tLN:173649\n",
      "@SQ\tSN:chr3_KI270778v1_alt\tLN:248252\n",
      "@SQ\tSN:chr3_KI270781v1_alt\tLN:113034\n",
      "@SQ\tSN:chr3_KI270779v1_alt\tLN:205312\n",
      "@SQ\tSN:chr3_KI270782v1_alt\tLN:162429\n",
      "@SQ\tSN:chr3_KI270784v1_alt\tLN:184404\n",
      "@SQ\tSN:chr4_KI270790v1_alt\tLN:220246\n",
      "@SQ\tSN:chr4_GL383528v1_alt\tLN:376187\n",
      "@SQ\tSN:chr4_KI270787v1_alt\tLN:111943\n",
      "@SQ\tSN:chr4_GL000257v2_alt\tLN:586476\n",
      "@SQ\tSN:chr4_KI270788v1_alt\tLN:158965\n",
      "@SQ\tSN:chr4_GL383527v1_alt\tLN:164536\n",
      "@SQ\tSN:chr4_KI270785v1_alt\tLN:119912\n",
      "@SQ\tSN:chr4_KI270789v1_alt\tLN:205944\n",
      "@SQ\tSN:chr4_KI270786v1_alt\tLN:244096\n",
      "@SQ\tSN:chr5_KI270793v1_alt\tLN:126136\n",
      "@SQ\tSN:chr5_KI270792v1_alt\tLN:179043\n",
      "@SQ\tSN:chr5_KI270791v1_alt\tLN:195710\n",
      "@SQ\tSN:chr5_GL383532v1_alt\tLN:82728\n",
      "@SQ\tSN:chr5_GL949742v1_alt\tLN:226852\n",
      "@SQ\tSN:chr5_KI270794v1_alt\tLN:164558\n",
      "@SQ\tSN:chr5_GL339449v2_alt\tLN:1612928\n",
      "@SQ\tSN:chr5_GL383530v1_alt\tLN:101241\n",
      "@SQ\tSN:chr5_KI270796v1_alt\tLN:172708\n",
      "@SQ\tSN:chr5_GL383531v1_alt\tLN:173459\n",
      "@SQ\tSN:chr5_KI270795v1_alt\tLN:131892\n",
      "@SQ\tSN:chr6_GL000250v2_alt\tLN:4672374\n",
      "@SQ\tSN:chr6_KI270800v1_alt\tLN:175808\n",
      "@SQ\tSN:chr6_KI270799v1_alt\tLN:152148\n",
      "@SQ\tSN:chr6_GL383533v1_alt\tLN:124736\n",
      "@SQ\tSN:chr6_KI270801v1_alt\tLN:870480\n",
      "@SQ\tSN:chr6_KI270802v1_alt\tLN:75005\n",
      "@SQ\tSN:chr6_KB021644v2_alt\tLN:185823\n",
      "@SQ\tSN:chr6_KI270797v1_alt\tLN:197536\n",
      "@SQ\tSN:chr6_KI270798v1_alt\tLN:271782\n",
      "@SQ\tSN:chr7_KI270804v1_alt\tLN:157952\n",
      "@SQ\tSN:chr7_KI270809v1_alt\tLN:209586\n",
      "@SQ\tSN:chr7_KI270806v1_alt\tLN:158166\n",
      "@SQ\tSN:chr7_GL383534v2_alt\tLN:119183\n",
      "@SQ\tSN:chr7_KI270803v1_alt\tLN:1111570\n",
      "@SQ\tSN:chr7_KI270808v1_alt\tLN:271455\n",
      "@SQ\tSN:chr7_KI270807v1_alt\tLN:126434\n",
      "@SQ\tSN:chr7_KI270805v1_alt\tLN:209988\n",
      "@SQ\tSN:chr8_KI270818v1_alt\tLN:145606\n",
      "@SQ\tSN:chr8_KI270812v1_alt\tLN:282736\n",
      "@SQ\tSN:chr8_KI270811v1_alt\tLN:292436\n",
      "@SQ\tSN:chr8_KI270821v1_alt\tLN:985506\n",
      "@SQ\tSN:chr8_KI270813v1_alt\tLN:300230\n",
      "@SQ\tSN:chr8_KI270822v1_alt\tLN:624492\n",
      "@SQ\tSN:chr8_KI270814v1_alt\tLN:141812\n",
      "@SQ\tSN:chr8_KI270810v1_alt\tLN:374415\n",
      "@SQ\tSN:chr8_KI270819v1_alt\tLN:133535\n",
      "@SQ\tSN:chr8_KI270820v1_alt\tLN:36640\n",
      "@SQ\tSN:chr8_KI270817v1_alt\tLN:158983\n",
      "@SQ\tSN:chr8_KI270816v1_alt\tLN:305841\n",
      "@SQ\tSN:chr8_KI270815v1_alt\tLN:132244\n",
      "@SQ\tSN:chr9_GL383539v1_alt\tLN:162988\n",
      "@SQ\tSN:chr9_GL383540v1_alt\tLN:71551\n",
      "@SQ\tSN:chr9_GL383541v1_alt\tLN:171286\n",
      "@SQ\tSN:chr9_GL383542v1_alt\tLN:60032\n",
      "@SQ\tSN:chr9_KI270823v1_alt\tLN:439082\n",
      "@SQ\tSN:chr10_GL383545v1_alt\tLN:179254\n",
      "@SQ\tSN:chr10_KI270824v1_alt\tLN:181496\n",
      "@SQ\tSN:chr10_GL383546v1_alt\tLN:309802\n",
      "@SQ\tSN:chr10_KI270825v1_alt\tLN:188315\n",
      "@SQ\tSN:chr11_KI270832v1_alt\tLN:210133\n",
      "@SQ\tSN:chr11_KI270830v1_alt\tLN:177092\n",
      "@SQ\tSN:chr11_KI270831v1_alt\tLN:296895\n",
      "@SQ\tSN:chr11_KI270829v1_alt\tLN:204059\n",
      "@SQ\tSN:chr11_GL383547v1_alt\tLN:154407\n",
      "@SQ\tSN:chr11_JH159136v1_alt\tLN:200998\n",
      "@SQ\tSN:chr11_JH159137v1_alt\tLN:191409\n",
      "@SQ\tSN:chr11_KI270827v1_alt\tLN:67707\n",
      "@SQ\tSN:chr11_KI270826v1_alt\tLN:186169\n",
      "@SQ\tSN:chr12_GL877875v1_alt\tLN:167313\n",
      "@SQ\tSN:chr12_GL877876v1_alt\tLN:408271\n",
      "@SQ\tSN:chr12_KI270837v1_alt\tLN:40090\n",
      "@SQ\tSN:chr12_GL383549v1_alt\tLN:120804\n",
      "@SQ\tSN:chr12_KI270835v1_alt\tLN:238139\n",
      "@SQ\tSN:chr12_GL383550v2_alt\tLN:169178\n",
      "@SQ\tSN:chr12_GL383552v1_alt\tLN:138655\n",
      "@SQ\tSN:chr12_GL383553v2_alt\tLN:152874\n",
      "@SQ\tSN:chr12_KI270834v1_alt\tLN:119498\n",
      "@SQ\tSN:chr12_GL383551v1_alt\tLN:184319\n",
      "@SQ\tSN:chr12_KI270833v1_alt\tLN:76061\n",
      "@SQ\tSN:chr12_KI270836v1_alt\tLN:56134\n",
      "@SQ\tSN:chr13_KI270840v1_alt\tLN:191684\n",
      "@SQ\tSN:chr13_KI270839v1_alt\tLN:180306\n",
      "@SQ\tSN:chr13_KI270843v1_alt\tLN:103832\n",
      "@SQ\tSN:chr13_KI270841v1_alt\tLN:169134\n",
      "@SQ\tSN:chr13_KI270838v1_alt\tLN:306913\n",
      "@SQ\tSN:chr13_KI270842v1_alt\tLN:37287\n",
      "@SQ\tSN:chr14_KI270844v1_alt\tLN:322166\n",
      "@SQ\tSN:chr14_KI270847v1_alt\tLN:1511111\n",
      "@SQ\tSN:chr14_KI270845v1_alt\tLN:180703\n",
      "@SQ\tSN:chr14_KI270846v1_alt\tLN:1351393\n",
      "@SQ\tSN:chr15_KI270852v1_alt\tLN:478999\n",
      "@SQ\tSN:chr15_KI270851v1_alt\tLN:263054\n",
      "@SQ\tSN:chr15_KI270848v1_alt\tLN:327382\n",
      "@SQ\tSN:chr15_GL383554v1_alt\tLN:296527\n",
      "@SQ\tSN:chr15_KI270849v1_alt\tLN:244917\n",
      "@SQ\tSN:chr15_GL383555v2_alt\tLN:388773\n",
      "@SQ\tSN:chr15_KI270850v1_alt\tLN:430880\n",
      "@SQ\tSN:chr16_KI270854v1_alt\tLN:134193\n",
      "@SQ\tSN:chr16_KI270856v1_alt\tLN:63982\n",
      "@SQ\tSN:chr16_KI270855v1_alt\tLN:232857\n",
      "@SQ\tSN:chr16_KI270853v1_alt\tLN:2659700\n",
      "@SQ\tSN:chr16_GL383556v1_alt\tLN:192462\n",
      "@SQ\tSN:chr16_GL383557v1_alt\tLN:89672\n",
      "@SQ\tSN:chr17_GL383563v3_alt\tLN:375691\n",
      "@SQ\tSN:chr17_KI270862v1_alt\tLN:391357\n",
      "@SQ\tSN:chr17_KI270861v1_alt\tLN:196688\n",
      "@SQ\tSN:chr17_KI270857v1_alt\tLN:2877074\n",
      "@SQ\tSN:chr17_JH159146v1_alt\tLN:278131\n",
      "@SQ\tSN:chr17_JH159147v1_alt\tLN:70345\n",
      "@SQ\tSN:chr17_GL383564v2_alt\tLN:133151\n",
      "@SQ\tSN:chr17_GL000258v2_alt\tLN:1821992\n",
      "@SQ\tSN:chr17_GL383565v1_alt\tLN:223995\n",
      "@SQ\tSN:chr17_KI270858v1_alt\tLN:235827\n",
      "@SQ\tSN:chr17_KI270859v1_alt\tLN:108763\n",
      "@SQ\tSN:chr17_GL383566v1_alt\tLN:90219\n",
      "@SQ\tSN:chr17_KI270860v1_alt\tLN:178921\n",
      "@SQ\tSN:chr18_KI270864v1_alt\tLN:111737\n",
      "@SQ\tSN:chr18_GL383567v1_alt\tLN:289831\n",
      "@SQ\tSN:chr18_GL383570v1_alt\tLN:164789\n",
      "@SQ\tSN:chr18_GL383571v1_alt\tLN:198278\n",
      "@SQ\tSN:chr18_GL383568v1_alt\tLN:104552\n",
      "@SQ\tSN:chr18_GL383569v1_alt\tLN:167950\n",
      "@SQ\tSN:chr18_GL383572v1_alt\tLN:159547\n",
      "@SQ\tSN:chr18_KI270863v1_alt\tLN:167999\n",
      "@SQ\tSN:chr19_KI270868v1_alt\tLN:61734\n",
      "@SQ\tSN:chr19_KI270865v1_alt\tLN:52969\n",
      "@SQ\tSN:chr19_GL383573v1_alt\tLN:385657\n",
      "@SQ\tSN:chr19_GL383575v2_alt\tLN:170222\n",
      "@SQ\tSN:chr19_GL383576v1_alt\tLN:188024\n",
      "@SQ\tSN:chr19_GL383574v1_alt\tLN:155864\n",
      "@SQ\tSN:chr19_KI270866v1_alt\tLN:43156\n",
      "@SQ\tSN:chr19_KI270867v1_alt\tLN:233762\n",
      "@SQ\tSN:chr19_GL949746v1_alt\tLN:987716\n",
      "@SQ\tSN:chr20_GL383577v2_alt\tLN:128386\n",
      "@SQ\tSN:chr20_KI270869v1_alt\tLN:118774\n",
      "@SQ\tSN:chr20_KI270871v1_alt\tLN:58661\n",
      "@SQ\tSN:chr20_KI270870v1_alt\tLN:183433\n",
      "@SQ\tSN:chr21_GL383578v2_alt\tLN:63917\n",
      "@SQ\tSN:chr21_KI270874v1_alt\tLN:166743\n",
      "@SQ\tSN:chr21_KI270873v1_alt\tLN:143900\n",
      "@SQ\tSN:chr21_GL383579v2_alt\tLN:201197\n",
      "@SQ\tSN:chr21_GL383580v2_alt\tLN:74653\n",
      "@SQ\tSN:chr21_GL383581v2_alt\tLN:116689\n",
      "@SQ\tSN:chr21_KI270872v1_alt\tLN:82692\n",
      "@SQ\tSN:chr22_KI270875v1_alt\tLN:259914\n",
      "@SQ\tSN:chr22_KI270878v1_alt\tLN:186262\n",
      "@SQ\tSN:chr22_KI270879v1_alt\tLN:304135\n",
      "@SQ\tSN:chr22_KI270876v1_alt\tLN:263666\n",
      "@SQ\tSN:chr22_KI270877v1_alt\tLN:101331\n",
      "@SQ\tSN:chr22_GL383583v2_alt\tLN:96924\n",
      "@SQ\tSN:chr22_GL383582v2_alt\tLN:162811\n",
      "@SQ\tSN:chrX_KI270880v1_alt\tLN:284869\n",
      "@SQ\tSN:chrX_KI270881v1_alt\tLN:144206\n",
      "@SQ\tSN:chr19_KI270882v1_alt\tLN:248807\n",
      "@SQ\tSN:chr19_KI270883v1_alt\tLN:170399\n",
      "@SQ\tSN:chr19_KI270884v1_alt\tLN:157053\n",
      "@SQ\tSN:chr19_KI270885v1_alt\tLN:171027\n",
      "@SQ\tSN:chr19_KI270886v1_alt\tLN:204239\n",
      "@SQ\tSN:chr19_KI270887v1_alt\tLN:209512\n",
      "@SQ\tSN:chr19_KI270888v1_alt\tLN:155532\n",
      "@SQ\tSN:chr19_KI270889v1_alt\tLN:170698\n",
      "@SQ\tSN:chr19_KI270890v1_alt\tLN:184499\n",
      "@SQ\tSN:chr19_KI270891v1_alt\tLN:170680\n",
      "@SQ\tSN:chr1_KI270892v1_alt\tLN:162212\n",
      "@SQ\tSN:chr2_KI270894v1_alt\tLN:214158\n",
      "@SQ\tSN:chr2_KI270893v1_alt\tLN:161218\n",
      "@SQ\tSN:chr3_KI270895v1_alt\tLN:162896\n",
      "@SQ\tSN:chr4_KI270896v1_alt\tLN:378547\n",
      "@SQ\tSN:chr5_KI270897v1_alt\tLN:1144418\n",
      "@SQ\tSN:chr5_KI270898v1_alt\tLN:130957\n",
      "@SQ\tSN:chr6_GL000251v2_alt\tLN:4795265\n",
      "@SQ\tSN:chr7_KI270899v1_alt\tLN:190869\n",
      "@SQ\tSN:chr8_KI270901v1_alt\tLN:136959\n",
      "@SQ\tSN:chr8_KI270900v1_alt\tLN:318687\n",
      "@SQ\tSN:chr11_KI270902v1_alt\tLN:106711\n",
      "@SQ\tSN:chr11_KI270903v1_alt\tLN:214625\n",
      "@SQ\tSN:chr12_KI270904v1_alt\tLN:572349\n",
      "@SQ\tSN:chr15_KI270906v1_alt\tLN:196384\n",
      "@SQ\tSN:chr15_KI270905v1_alt\tLN:5161414\n",
      "@SQ\tSN:chr17_KI270907v1_alt\tLN:137721\n",
      "@SQ\tSN:chr17_KI270910v1_alt\tLN:157099\n",
      "@SQ\tSN:chr17_KI270909v1_alt\tLN:325800\n",
      "@SQ\tSN:chr17_JH159148v1_alt\tLN:88070\n",
      "@SQ\tSN:chr17_KI270908v1_alt\tLN:1423190\n",
      "@SQ\tSN:chr18_KI270912v1_alt\tLN:174061\n",
      "@SQ\tSN:chr18_KI270911v1_alt\tLN:157710\n",
      "@SQ\tSN:chr19_GL949747v2_alt\tLN:729520\n",
      "@SQ\tSN:chr22_KB663609v1_alt\tLN:74013\n",
      "@SQ\tSN:chrX_KI270913v1_alt\tLN:274009\n",
      "@SQ\tSN:chr19_KI270914v1_alt\tLN:205194\n",
      "@SQ\tSN:chr19_KI270915v1_alt\tLN:170665\n",
      "@SQ\tSN:chr19_KI270916v1_alt\tLN:184516\n",
      "@SQ\tSN:chr19_KI270917v1_alt\tLN:190932\n",
      "@SQ\tSN:chr19_KI270918v1_alt\tLN:123111\n",
      "@SQ\tSN:chr19_KI270919v1_alt\tLN:170701\n",
      "@SQ\tSN:chr19_KI270920v1_alt\tLN:198005\n",
      "@SQ\tSN:chr19_KI270921v1_alt\tLN:282224\n",
      "@SQ\tSN:chr19_KI270922v1_alt\tLN:187935\n",
      "@SQ\tSN:chr19_KI270923v1_alt\tLN:189352\n",
      "@SQ\tSN:chr3_KI270924v1_alt\tLN:166540\n",
      "@SQ\tSN:chr4_KI270925v1_alt\tLN:555799\n",
      "@SQ\tSN:chr6_GL000252v2_alt\tLN:4604811\n",
      "@SQ\tSN:chr8_KI270926v1_alt\tLN:229282\n",
      "@SQ\tSN:chr11_KI270927v1_alt\tLN:218612\n",
      "@SQ\tSN:chr19_GL949748v2_alt\tLN:1064304\n",
      "@SQ\tSN:chr22_KI270928v1_alt\tLN:176103\n",
      "@SQ\tSN:chr19_KI270929v1_alt\tLN:186203\n",
      "@SQ\tSN:chr19_KI270930v1_alt\tLN:200773\n",
      "@SQ\tSN:chr19_KI270931v1_alt\tLN:170148\n",
      "@SQ\tSN:chr19_KI270932v1_alt\tLN:215732\n",
      "@SQ\tSN:chr19_KI270933v1_alt\tLN:170537\n",
      "@SQ\tSN:chr19_GL000209v2_alt\tLN:177381\n",
      "@SQ\tSN:chr3_KI270934v1_alt\tLN:163458\n",
      "@SQ\tSN:chr6_GL000253v2_alt\tLN:4677643\n",
      "@SQ\tSN:chr19_GL949749v2_alt\tLN:1091841\n",
      "@SQ\tSN:chr3_KI270935v1_alt\tLN:197351\n",
      "@SQ\tSN:chr6_GL000254v2_alt\tLN:4827813\n",
      "@SQ\tSN:chr19_GL949750v2_alt\tLN:1066390\n",
      "@SQ\tSN:chr3_KI270936v1_alt\tLN:164170\n",
      "@SQ\tSN:chr6_GL000255v2_alt\tLN:4606388\n",
      "@SQ\tSN:chr19_GL949751v2_alt\tLN:1002683\n",
      "@SQ\tSN:chr3_KI270937v1_alt\tLN:165607\n",
      "@SQ\tSN:chr6_GL000256v2_alt\tLN:4929269\n",
      "@SQ\tSN:chr19_GL949752v1_alt\tLN:987100\n",
      "@SQ\tSN:chr6_KI270758v1_alt\tLN:76752\n",
      "@SQ\tSN:chr19_GL949753v2_alt\tLN:796479\n",
      "@SQ\tSN:chr19_KI270938v1_alt\tLN:1066800\n",
      "@SQ\tSN:chrM\tLN:16569\n",
      "@SQ\tSN:chrUn_KI270302v1\tLN:2274\n",
      "@SQ\tSN:chrUn_KI270304v1\tLN:2165\n",
      "@SQ\tSN:chrUn_KI270303v1\tLN:1942\n",
      "@SQ\tSN:chrUn_KI270305v1\tLN:1472\n",
      "@SQ\tSN:chrUn_KI270322v1\tLN:21476\n",
      "@SQ\tSN:chrUn_KI270320v1\tLN:4416\n",
      "@SQ\tSN:chrUn_KI270310v1\tLN:1201\n",
      "@SQ\tSN:chrUn_KI270316v1\tLN:1444\n",
      "@SQ\tSN:chrUn_KI270315v1\tLN:2276\n",
      "@SQ\tSN:chrUn_KI270312v1\tLN:998\n",
      "@SQ\tSN:chrUn_KI270311v1\tLN:12399\n",
      "@SQ\tSN:chrUn_KI270317v1\tLN:37690\n",
      "@SQ\tSN:chrUn_KI270412v1\tLN:1179\n",
      "@SQ\tSN:chrUn_KI270411v1\tLN:2646\n",
      "@SQ\tSN:chrUn_KI270414v1\tLN:2489\n",
      "@SQ\tSN:chrUn_KI270419v1\tLN:1029\n",
      "@SQ\tSN:chrUn_KI270418v1\tLN:2145\n",
      "@SQ\tSN:chrUn_KI270420v1\tLN:2321\n",
      "@SQ\tSN:chrUn_KI270424v1\tLN:2140\n",
      "@SQ\tSN:chrUn_KI270417v1\tLN:2043\n",
      "@SQ\tSN:chrUn_KI270422v1\tLN:1445\n",
      "@SQ\tSN:chrUn_KI270423v1\tLN:981\n",
      "@SQ\tSN:chrUn_KI270425v1\tLN:1884\n",
      "@SQ\tSN:chrUn_KI270429v1\tLN:1361\n",
      "@SQ\tSN:chrUn_KI270442v1\tLN:392061\n",
      "@SQ\tSN:chrUn_KI270466v1\tLN:1233\n",
      "@SQ\tSN:chrUn_KI270465v1\tLN:1774\n",
      "@SQ\tSN:chrUn_KI270467v1\tLN:3920\n",
      "@SQ\tSN:chrUn_KI270435v1\tLN:92983\n",
      "@SQ\tSN:chrUn_KI270438v1\tLN:112505\n",
      "@SQ\tSN:chrUn_KI270468v1\tLN:4055\n",
      "@SQ\tSN:chrUn_KI270510v1\tLN:2415\n",
      "@SQ\tSN:chrUn_KI270509v1\tLN:2318\n",
      "@SQ\tSN:chrUn_KI270518v1\tLN:2186\n",
      "@SQ\tSN:chrUn_KI270508v1\tLN:1951\n",
      "@SQ\tSN:chrUn_KI270516v1\tLN:1300\n",
      "@SQ\tSN:chrUn_KI270512v1\tLN:22689\n",
      "@SQ\tSN:chrUn_KI270519v1\tLN:138126\n",
      "@SQ\tSN:chrUn_KI270522v1\tLN:5674\n",
      "@SQ\tSN:chrUn_KI270511v1\tLN:8127\n",
      "@SQ\tSN:chrUn_KI270515v1\tLN:6361\n",
      "@SQ\tSN:chrUn_KI270507v1\tLN:5353\n",
      "@SQ\tSN:chrUn_KI270517v1\tLN:3253\n",
      "@SQ\tSN:chrUn_KI270529v1\tLN:1899\n",
      "@SQ\tSN:chrUn_KI270528v1\tLN:2983\n",
      "@SQ\tSN:chrUn_KI270530v1\tLN:2168\n",
      "@SQ\tSN:chrUn_KI270539v1\tLN:993\n",
      "@SQ\tSN:chrUn_KI270538v1\tLN:91309\n",
      "@SQ\tSN:chrUn_KI270544v1\tLN:1202\n",
      "@SQ\tSN:chrUn_KI270548v1\tLN:1599\n",
      "@SQ\tSN:chrUn_KI270583v1\tLN:1400\n",
      "@SQ\tSN:chrUn_KI270587v1\tLN:2969\n",
      "@SQ\tSN:chrUn_KI270580v1\tLN:1553\n",
      "@SQ\tSN:chrUn_KI270581v1\tLN:7046\n",
      "@SQ\tSN:chrUn_KI270579v1\tLN:31033\n",
      "@SQ\tSN:chrUn_KI270589v1\tLN:44474\n",
      "@SQ\tSN:chrUn_KI270590v1\tLN:4685\n",
      "@SQ\tSN:chrUn_KI270584v1\tLN:4513\n",
      "@SQ\tSN:chrUn_KI270582v1\tLN:6504\n",
      "@SQ\tSN:chrUn_KI270588v1\tLN:6158\n",
      "@SQ\tSN:chrUn_KI270593v1\tLN:3041\n",
      "@SQ\tSN:chrUn_KI270591v1\tLN:5796\n",
      "@SQ\tSN:chrUn_KI270330v1\tLN:1652\n",
      "@SQ\tSN:chrUn_KI270329v1\tLN:1040\n",
      "@SQ\tSN:chrUn_KI270334v1\tLN:1368\n",
      "@SQ\tSN:chrUn_KI270333v1\tLN:2699\n",
      "@SQ\tSN:chrUn_KI270335v1\tLN:1048\n",
      "@SQ\tSN:chrUn_KI270338v1\tLN:1428\n",
      "@SQ\tSN:chrUn_KI270340v1\tLN:1428\n",
      "@SQ\tSN:chrUn_KI270336v1\tLN:1026\n",
      "@SQ\tSN:chrUn_KI270337v1\tLN:1121\n",
      "@SQ\tSN:chrUn_KI270363v1\tLN:1803\n",
      "@SQ\tSN:chrUn_KI270364v1\tLN:2855\n",
      "@SQ\tSN:chrUn_KI270362v1\tLN:3530\n",
      "@SQ\tSN:chrUn_KI270366v1\tLN:8320\n",
      "@SQ\tSN:chrUn_KI270378v1\tLN:1048\n",
      "@SQ\tSN:chrUn_KI270379v1\tLN:1045\n",
      "@SQ\tSN:chrUn_KI270389v1\tLN:1298\n",
      "@SQ\tSN:chrUn_KI270390v1\tLN:2387\n",
      "@SQ\tSN:chrUn_KI270387v1\tLN:1537\n",
      "@SQ\tSN:chrUn_KI270395v1\tLN:1143\n",
      "@SQ\tSN:chrUn_KI270396v1\tLN:1880\n",
      "@SQ\tSN:chrUn_KI270388v1\tLN:1216\n",
      "@SQ\tSN:chrUn_KI270394v1\tLN:970\n",
      "@SQ\tSN:chrUn_KI270386v1\tLN:1788\n",
      "@SQ\tSN:chrUn_KI270391v1\tLN:1484\n",
      "@SQ\tSN:chrUn_KI270383v1\tLN:1750\n",
      "@SQ\tSN:chrUn_KI270393v1\tLN:1308\n",
      "@SQ\tSN:chrUn_KI270384v1\tLN:1658\n",
      "@SQ\tSN:chrUn_KI270392v1\tLN:971\n",
      "@SQ\tSN:chrUn_KI270381v1\tLN:1930\n",
      "@SQ\tSN:chrUn_KI270385v1\tLN:990\n",
      "@SQ\tSN:chrUn_KI270382v1\tLN:4215\n",
      "@SQ\tSN:chrUn_KI270376v1\tLN:1136\n",
      "@SQ\tSN:chrUn_KI270374v1\tLN:2656\n",
      "@SQ\tSN:chrUn_KI270372v1\tLN:1650\n",
      "@SQ\tSN:chrUn_KI270373v1\tLN:1451\n",
      "@SQ\tSN:chrUn_KI270375v1\tLN:2378\n",
      "@SQ\tSN:chrUn_KI270371v1\tLN:2805\n",
      "@SQ\tSN:chrUn_KI270448v1\tLN:7992\n",
      "@SQ\tSN:chrUn_KI270521v1\tLN:7642\n",
      "@SQ\tSN:chrUn_GL000195v1\tLN:182896\n",
      "@SQ\tSN:chrUn_GL000219v1\tLN:179198\n",
      "@SQ\tSN:chrUn_GL000220v1\tLN:161802\n",
      "@SQ\tSN:chrUn_GL000224v1\tLN:179693\n",
      "@SQ\tSN:chrUn_KI270741v1\tLN:157432\n",
      "@SQ\tSN:chrUn_GL000226v1\tLN:15008\n",
      "@SQ\tSN:chrUn_GL000213v1\tLN:164239\n",
      "@SQ\tSN:chrUn_KI270743v1\tLN:210658\n",
      "@SQ\tSN:chrUn_KI270744v1\tLN:168472\n",
      "@SQ\tSN:chrUn_KI270745v1\tLN:41891\n",
      "@SQ\tSN:chrUn_KI270746v1\tLN:66486\n",
      "@SQ\tSN:chrUn_KI270747v1\tLN:198735\n",
      "@SQ\tSN:chrUn_KI270748v1\tLN:93321\n",
      "@SQ\tSN:chrUn_KI270749v1\tLN:158759\n",
      "@SQ\tSN:chrUn_KI270750v1\tLN:148850\n",
      "@SQ\tSN:chrUn_KI270751v1\tLN:150742\n",
      "@SQ\tSN:chrUn_KI270752v1\tLN:27745\n",
      "@SQ\tSN:chrUn_KI270753v1\tLN:62944\n",
      "@SQ\tSN:chrUn_KI270754v1\tLN:40191\n",
      "@SQ\tSN:chrUn_KI270755v1\tLN:36723\n",
      "@SQ\tSN:chrUn_KI270756v1\tLN:79590\n",
      "@SQ\tSN:chrUn_KI270757v1\tLN:71251\n",
      "@SQ\tSN:chrUn_GL000214v1\tLN:137718\n",
      "@SQ\tSN:chrUn_KI270742v1\tLN:186739\n",
      "@SQ\tSN:chrUn_GL000216v2\tLN:176608\n",
      "@SQ\tSN:chrUn_GL000218v1\tLN:161147\n",
      "@SQ\tSN:chrX\tLN:156040895\n",
      "@SQ\tSN:chrY\tLN:57227415\n",
      "@SQ\tSN:chrY_KI270740v1_random\tLN:37240\n",
      "@PG\tID:bwa\tPN:bwa\tVN:0.7.17-r1188\tCL:bwa mem -t 24 /home/hice1/acressy3/biol6150/ProjectSubmissions/Group8/Project2/ReadAlignment/hg38.fa /home/hice1/acressy3/biol6150/ProjectSubmissions/Group8/Project1/Trimming/SRR393028_1.Trimmed.fastq /home/hice1/acressy3/biol6150/ProjectSubmissions/Group8/Project1/Trimming/SRR393028_2.Trimmed.fastq\n",
      "SRR393028.1\t99\tchr1\t11132\t0\t67M\t=\t11206\t141\tGTAGAACCTCAGTAATCCGAAAAGCCGGGGTCGACCGCCCCTTGCTTGCAGCCGGGCACTACAGGAC\t???????????????????????????????????????????????????????????????????\tNM:i:1\tMD:Z:29A37\tMC:Z:67M\tAS:i:62\tXS:i:62\tXA:Z:chr15,-101979769,67M,1;chr16,+10813,67M,2;chrY,-57215380,67M,3;chrX,-156028860,67M,3;chr9,+11245,67M,3;\n",
      "SRR393028.1\t147\tchr1\t11206\t0\t67M\t=\t11132\t-141\tCTCACGGTGCTGTGCCAGGGCGCCCCCTGCTGGCGACTAGGGCAACTGCAGGGCTCTCTTGCTTAGA\t???????????????????????????????????????????????????????????????????\tNM:i:0\tMD:Z:67\tMC:Z:67M\tAS:i:67\tXS:i:67\n",
      "SRR393028.2\t99\tchr1\t12150\t0\t67M\t=\t12245\t162\tTAATACCACGACCAGGCATGGGGGAAAGATTGGAGGAAAGTTGAGTGAGAGGATCAACTTCTCTGAC\t???????????????????????????????????????????????????????????????????\tNM:i:5\tMD:Z:9A9A20A10C12C2\tMC:Z:67M\tAS:i:44\tXS:i:47\n",
      "SRR393028.2\t147\tchr1\t12245\t0\t67M\t=\t12150\t-162\tTCATCTCCTTGGCTGTGATACGTGGCCGGCCCTCGCTCCAGCAGCTGGACCGCTACCTGCCGTCTGC\t???????????????????????????????????????????????????????????????????\tNM:i:1\tMD:Z:51C15\tMC:Z:67M\tAS:i:62\tXS:i:62\n",
      "SRR393028.3\t99\tchr1\t12563\t0\t67M\t=\t12716\t220\tCAGCTGGTGATGTGTGGGCCCACCGGCCCCAGGCTCCTGTCTCCCCCCAGGTGTGTGGTGATGCCAG\t???????????????????????????????????????????????????????????????????\tNM:i:0\tMD:Z:67\tMC:Z:67M\tAS:i:67\tXS:i:67\n",
      "SRR393028.3\t147\tchr1\t12716\t0\t67M\t=\t12563\t-220\tGCAGAGGTGAGAGGAGAGTAGACAGTGAGTGGGAGTGGCGTCGCCCCTAGGGCTCTACGGGGCCGGC\t???????????????????????????????????????????????????????????????????\tNM:i:0\tMD:Z:67\tMC:Z:67M\tAS:i:67\tXS:i:67\n",
      "SRR393028.4\t99\tchr15\t101977902\t0\t67M\t=\t101978046\t211\tCAGCCAGGCTTGCCTATGGACTGGTTGACAGCCTTCATGCACAGGTTCTCCACCAGAGCCTTTCTTG\t???????????????????????????????????????????????????????????????????\tNM:i:0\tMD:Z:67\tMC:Z:67M\tAS:i:67\tXS:i:67\n",
      "SRR393028.4\t147\tchr15\t101978046\t0\t67M\t=\t101977902\t-211\tTGGGAAAGACTCTGCCAGGCCTTGGAGCCAGACTAGGAGGCTTTATAGGCCACCGCAAGCAGCAGGG\t???????????????????????????????????????????????????????????????????\tNM:i:0\tMD:Z:67\tMC:Z:67M\tAS:i:67\tXS:i:67\n",
      "SRR393028.5\t99\tchr15\t101977494\t0\t67M\t=\t101977729\t302\tAGAGGCCTACTTCTGGTGAAACTGGGCAGACAAAAGGCAGTGAGAAATGTGATCTCGGGGTGGTGGA\t???????????????????????????????????????????????????????????????????\tNM:i:0\tMD:Z:67\tMC:Z:67M\tAS:i:67\tXS:i:67\n",
      "SRR393028.5\t147\tchr15\t101977729\t0\t67M\t=\t101977494\t-302\tGGTGCCTGATGGCCCTGCCTTCGTGGGAACAGAGGCTAAGGCTTTGAGTTACAGCTGCCTCCCCAAC\t???????????????????????????????????????????????????????????????????\tNM:i:0\tMD:Z:67\tMC:Z:67M\tAS:i:67\tXS:i:67\n",
      "SRR393028.6\t83\tchr1\t13404\t20\t67M\t=\t13305\t-166\tGCCTCCACCACCCCGAGATCACATTTCTCACTGCCTTTTGTCTGCCCAGTTTCACCAGAAGTAGGCC\t???????????????????????????????????????????????????????????????????\tNM:i:0\tMD:Z:67\tMC:Z:67M\tAS:i:67\tXS:i:67\n",
      "SRR393028.6\t163\tchr1\t13305\t20\t67M\t=\t13404\t166\tTGTTGGCCTGGATCTGAGCCCTGGTGGAGGTCAAAGCCACCTTTGGTTCTGCCATTGCTGCTGTGTG\t???????????????????????????????????????????????????????????????????\tNM:i:0\tMD:Z:67\tMC:Z:67M\tAS:i:67\tXS:i:62\n",
      "SRR393028.7\t99\tchr1\t183932\t0\t67M\t=\t183967\t102\tACCCCGAGATCACATTTCTCACTGCCTTTTGTCTGCCCAGTTTCACCAGAAGTAGGCCTCTTCCTGA\t???????????????????????????????????????????????????????????????????\tNM:i:0\tMD:Z:67\tMC:Z:67M\tAS:i:67\tXS:i:67\n",
      "SRR393028.7\t147\tchr1\t183967\t0\t67M\t=\t183932\t-102\tCCCAGTTTCACCAGAAGTAGGCCTCTTCCTGACAGGCAGCTGCACCACTGCCTGGCGCTGTGCCCTT\t???????????????????????????????????????????????????????????????????\tNM:i:0\tMD:Z:67\tMC:Z:67M\tAS:i:67\tXS:i:67\n",
      "SRR393028.8\t83\tchr1\t183975\t0\t67M\t=\t183866\t-176\tCACCAGAAGTAGGCCTCTTCCTGACAGGCAGCTGCACCACTGCCTGGCGCTGTGCCCTTCCTTTGCT\t???????????????????????????????????????????????????????????????????\tNM:i:0\tMD:Z:67\tMC:Z:67M\tAS:i:67\tXS:i:67\n",
      "SRR393028.8\t163\tchr1\t183866\t0\t67M\t=\t183975\t176\tTTGGTTCTGCCATTGCTGCTGTGTGGAAGTTCACTCCTGCCTTTTCCTTTCCCTAGAGCCTCCACCA\t???????????????????????????????????????????????????????????????????\tNM:i:0\tMD:Z:67\tMC:Z:67M\tAS:i:67\tXS:i:67\n",
      "SRR393028.9\t99\tchr1\t183937\t0\t67M\t=\t183982\t112\tGAGATCACATTTCTCACTGCCTTTTGTCTGCCCAGTTTCACCAGAAGTAGGCCTCTTCCTGACAGGC\t???????????????????????????????????????????????????????????????????\tNM:i:0\tMD:Z:67\tMC:Z:67M\tAS:i:67\tXS:i:67\n",
      "SRR393028.9\t147\tchr1\t183982\t0\t67M\t=\t183937\t-112\tAGTAGGCCTCTTCCTGACAGGCAGCTGCACCACTGCCTGGCGCTGTGCCCTTCCTTTGCTCTGCCCG\t???????????????????????????????????????????????????????????????????\tNM:i:0\tMD:Z:67\tMC:Z:67M\tAS:i:67\tXS:i:67\n",
      "SRR393028.10\t99\tchrY\t57213087\t0\t67M\t=\t57213157\t137\tGGCAGCTGCCTGTCAGGAAGAGGCCTACTTCTGGAGAAACTGGGCCGACAAAAGGCAGAGAGAAATG\t???????????????????????????????????????????????????????????????????\tNM:i:4\tMD:Z:0T33T10A12T8\tMC:Z:67M\tAS:i:51\tXS:i:51\n",
      "SRR393028.10\t147\tchrY\t57213157\t0\t67M\t=\t57213087\t-137\tTCTCGGGGTGGTGGAGTCTCTAGGGAAAGGAAAAGGCAGGAGTGAACGTCCACACAGCAGAAATGGC\t???????????????????????????????????????????????????????????????????\tNM:i:3\tMD:Z:16G30T12C6\tMC:Z:67M\tAS:i:52\tXS:i:52\n",
      "SRR393028.11\t99\tchr1\t183870\t0\t65M2S\t=\t183997\t194\tTTCTGCCATTGCTGCTGTGTGGGAGTTCACTCCTGCGTTGTCCTTTCCCTAGAGCCTCCACCACCGA\t???????????????????????????????????????????????????????????????????\tNM:i:3\tMD:Z:22A13C2T25\tMC:Z:67M\tAS:i:50\tXS:i:50\n",
      "SRR393028.11\t147\tchr1\t183997\t0\t67M\t=\t183870\t-194\tGACAGGCAGCTGCACCACTGCCTGGCGCTGTGCCCTTCCTTTGCCCTGCCCGCCGGAGACGGTGTTT\t???????????????????????????????????????????????????????????????????\tNM:i:2\tMD:Z:44T8T13\tMC:Z:65M2S\tAS:i:57\tXS:i:57\n",
      "SRR393028.12\t83\tchr1\t13482\t0\t67M\t=\t13372\t-177\tGGCAGCTGCACCGCTGCCGGGCGCTGTGCCCTTCCTTTGCTCTGCCCGCTGGAGACGGTGTTTGTCA\t???????????????????????????????????????????????????????????????????\tNM:i:2\tMD:Z:12A5T48\tMC:Z:67M\tAS:i:57\tXS:i:57\n",
      "SRR393028.12\t163\tchr1\t13372\t0\t67M\t=\t13482\t177\tGAAGATCACTCCTGCCTTTTCCTTTCCCTAGAGCCTCCACCACCCCGAGATCACATTTCTCACTGCC\t???????????????????????????????????????????????????????????????????\tNM:i:1\tMD:Z:4T62\tMC:Z:67M\tAS:i:62\tXS:i:62\n",
      "SRR393028.13\t99\tchr15\t101977377\t0\t67M\t=\t101977503\t193\tTGGGTTTCACCTTTGTAGCAGGATCCCTGCAGACCAGGCCCATGACAAACACCGTCTCCAGCGGGCA\t???????????????????????????????????????????????????????????????????\tNM:i:0\tMD:Z:67\tMC:Z:67M\tAS:i:67\tXS:i:67\n",
      "SRR393028.13\t147\tchr15\t101977503\t0\t67M\t=\t101977377\t-193\tCTTCTGGTGAAACTGGGCAGACAAAAGGCAGTGAGAAATGTGATCTCGGGGTGGTGGAGGCCCTAGG\t???????????????????????????????????????????????????????????????????\tNM:i:1\tMD:Z:61T5\tMC:Z:67M\tAS:i:62\tXS:i:62\n",
      "SRR393028.14\t99\tchr15\t101976276\t0\t67M\t=\t101976348\t139\tTGACACCTTCCCCCCCAGACCCAGACTTGGGCCGTTGCTCTGACATGGACACAGCCAGGACAAGCTG\t???????????????????????????????????????????????????????????????????\tNM:i:0\tMD:Z:67\tMC:Z:67M\tAS:i:67\tXS:i:67\n",
      "SRR393028.14\t147\tchr15\t101976348\t0\t67M\t=\t101976276\t-139\tACCTACTTCCTTGGGAGGGGGTGACGGAACCAGCACTGTGTGGAGACCAGCTTCAAGGAGCGGAAGG\t???????????????????????????????????????????????????????????????????\tNM:i:0\tMD:Z:67\tMC:Z:67M\tAS:i:67\tXS:i:67\n",
      "SRR393028.15\t99\tchr1\t14601\t24\t67M\t=\t14663\t129\tCCAAGGAAGTAGGTCTGAGCAGCTTGTCCTGGCTGTGTCCATGTCAGAGCAACGGCCCAAGTCTGGG\t???????????????????????????????????????????????????????????????????\tNM:i:0\tMD:Z:67\tMC:Z:67M\tAS:i:67\tXS:i:67\n",
      "SRR393028.15\t147\tchr1\t14663\t24\t67M\t=\t14601\t-129\tCTGGGTCTGGGGGGGAAGGTGTCATGGAGCCCCCTACGATTCCCAGTCGTCCTCGTCCTCCTCTGCC\t???????????????????????????????????????????????????????????????????\tNM:i:0\tMD:Z:67\tMC:Z:67M\tAS:i:67\tXS:i:67\n",
      "SRR393028.16\t99\tchr1\t14662\t18\t67M\t=\t14689\t94\tTCTGGGTCTGGGGGGGAAGGTGTCATGGAGCCCCCTACGATTCCCAGTCGTCCTCGTCCTCCTCTGC\t???????????????????????????????????????????????????????????????????\tNM:i:0\tMD:Z:67\tMC:Z:67M\tAS:i:67\tXS:i:67\n",
      "SRR393028.16\t147\tchr1\t14689\t18\t67M\t=\t14662\t-94\tGAGCCCCCTACGATTCCCAGTCGTCCTCGTCCTCCTCTGCCTGTGGCTGCTGCGGTGGCGGCAGAGG\t???????????????????????????????????????????????????????????????????\tNM:i:0\tMD:Z:67\tMC:Z:67M\tAS:i:67\tXS:i:63\tXA:Z:chr9,-14800,67M,1;chr1,-185210,67M,1;chr15,+101976207,67M,1;chr2,+113598681,67M,2;chr16,-14374,29M3I35M,3;\n",
      "SRR393028.17\t99\tchr1\t14678\t24\t60M7S\t=\t14698\t87\tAAGGTGTCATGGAGCCCCCTACGATTCCCAGTCGTCCTCGTCCTCCTCTGCCTGTGGCTGGTCCGGG\t???????????????????????????????????????????????????????????????????\tNM:i:0\tMD:Z:60\tMC:Z:67M\tAS:i:60\tXS:i:60\n",
      "SRR393028.17\t147\tchr1\t14698\t24\t67M\t=\t14678\t-87\tACGATTCCCAGTCGTCGTCGTCCTCCTCTGCCTGTGGCGGCTGCGGTGGCGGCAGAGGAGGGATGGA\t???????????????????????????????????????????????????????????????????\tNM:i:2\tMD:Z:16C21T28\tMC:Z:60M7S\tAS:i:57\tXS:i:55\tXA:Z:chr15,+101976198,67M,3;chr1,-185219,67M,3;chr9,-14809,67M,3;chr2,+113598672,67M,4;\n",
      "SRR393028.18\t99\tchr1\t185048\t0\t67M\t=\t185257\t276\tAGCTGTGTGGCCTCAGGCCAGCCTTCCGCTCCTTGAAGCTGGTCTCCGCACAGTGCTGGTTCCATCA\t???????????????????????????????????????????????????????????????????\tNM:i:3\tMD:Z:15A31A15G3\tMC:Z:67M\tAS:i:53\tXS:i:53\n",
      "SRR393028.18\t147\tchr1\t185257\t0\t67M\t=\t185048\t-276\tTGCTGCGGTGGCGGCAGAGGAGGGATGGAGTCTGACACGCGGGCAAAGGCTCCTCCGGGCCCCTAAC\t???????????????????????????????????????????????????????????????????\tNM:i:1\tMD:Z:64C2\tMC:Z:67M\tAS:i:64\tXS:i:64\n",
      "SRR393028.19\t99\tchr1\t14677\t10\t67M\t=\t14773\t153\tGAAGGTGTCATGAAGCCCCCTACGATTCCCAGTCGTCCTCGTCCTCCTCTGCCTGTGGCTGCTGCGG\t???????????????????????????????????????????????????????????????????\tNM:i:1\tMD:Z:12G54\tMC:Z:10S57M\tAS:i:62\tXS:i:62\n",
      "SRR393028.19\t147\tchr1\t14773\t10\t10S57M\t=\t14677\t-153\tGAGGATGACCCGCGGGCAACGGATCCTCCGGGCCCCTCACCAGCCCCAGGTCCTTTCCCAGAGATGC\t???????????????????????????????????????????????????????????????????\tNM:i:2\tMD:Z:9A2C44\tMC:Z:67M\tAS:i:47\tXS:i:47\n",
      "SRR393028.20\t83\tchr1\t14795\t0\t67M\t=\t14710\t-152\tCCCCTCACCAGCCCCAGGTCCTTTCCCAGAGATGCCTGGAGGGAAAAGGCTGAGTGAGGGTGGTTGG\t???????????????????????????????????????????????????????????????????\tNM:i:0\tMD:Z:67\tMC:Z:67M\tAS:i:67\tXS:i:67\n",
      "SRR393028.20\t163\tchr1\t14710\t0\t67M\t=\t14795\t152\tCGTCCTCGTCCTCCTCTGCCTGTGGCTGCTGCGGTGGCGGGAGAGGGGGGGTGGGGTCTGGTACGCG\t???????????????????????????????????????????????????????????????????\tNM:i:6\tMD:Z:40C5A3A3A5A0C5\tMC:Z:67M\tAS:i:41\tXS:i:41\tXA:Z:chr1,+185231,67M,6;chr15,-101976186,67M,6;chr9,+14821,40M27S,0;chr2,-113598681,21S46M,2;\n",
      "SRR393028.21\t99\tchr1\t14768\t0\t67M\t=\t14804\t103\tTGACACGCGGGCAAAGGCTCCTCCGGGCCCCTCACCAGCCCCAGGTCCTTTCCCAGAGATGCCTGGA\t???????????????????????????????????????????????????????????????????\tNM:i:0\tMD:Z:67\tMC:Z:67M\tAS:i:67\tXS:i:67\n",
      "SRR393028.21\t147\tchr1\t14804\t0\t67M\t=\t14768\t-103\tAGCCCCAGGTCCTTTCCCAGAGATGCCTGGAGGGAAAAGGCTGAGTGAGGGTGGTTGGTGGGAAACC\t???????????????????????????????????????????????????????????????????\tNM:i:0\tMD:Z:67\tMC:Z:67M\tAS:i:67\tXS:i:67\n",
      "SRR393028.22\t99\tchr1\t185256\t0\t67M\t=\t185325\t136\tCTGCTGCGGTGGCGGCAAAGGAGGGATGGAGTCTGACACGCGGGCAAAGCCTCCTCCGGGCCCCTCC\t???????????????????????????????????????????????????????????????????\tNM:i:3\tMD:Z:17G31G16A0\tMC:Z:67M\tAS:i:56\tXS:i:56\n",
      "SRR393028.22\t147\tchr1\t185325\t0\t67M\t=\t185256\t-136\tAGCCCCAGGTCCTTTCCCAGAGATGCCTGGAGGGAAAAGGCTGAGTGAGGGTGGTTGGTGGGAAACC\t???????????????????????????????????????????????????????????????????\tNM:i:0\tMD:Z:67\tMC:Z:67M\tAS:i:67\tXS:i:67\n"
     ]
    }
   ],
   "source": [
    "!head -500 ~/biol6150/ProjectSubmissions/Group8/Project2/ReadAlignment/SRR393028.sam"
   ]
  },
  {
   "cell_type": "markdown",
   "id": "d9213ddd",
   "metadata": {},
   "source": [
    "1. The seventh read (SRR393028.7) aligns to to chromosome 1.\n",
    "\n",
    "2. The SAM file spits out 11 different fields that correspond to different descriptions. The 6th field is the CIGAR string, usually in the format of a number followed by a capital letter (or multiple number-letter combos). The CIGAR string for this read is 67M =. It means there are 67 matches because M stands for match or mistmatch, but followed by an equals sign, it means there is a match. If followed by an X, this would mean there is a mismatch. Some other letters include I=insertion, D=deletion, N=skipped region, S=soft clipping, H=hard clipping, P=padding, X=sequence mismatch, and == sequence match. \n",
    "\n",
    "3. This read has a paired read that also aligns successfully. We know this because there is a SAM flag value of 99 and 147. A SAM flag value of 99 means that the read is properly paired, has a mate reverse strand, and is first in pair. A SAM flag value of 147 means the same thing but that it is second in a pair.\n",
    "\n",
    "4. Since the paired reads aligned successfully, the CIGAR string conveys that 67 base pairs matched successfully. "
   ]
  },
  {
   "cell_type": "markdown",
   "id": "0f530460",
   "metadata": {},
   "source": [
    "# **3. Read alignment evaluation**\n",
    "### *Total Questions: 5*\n",
    "### *Total Points: 2+5+10+3+10 = 30*\n",
    "\n",
    "\n",
    "---"
   ]
  },
  {
   "cell_type": "markdown",
   "id": "6dc0f9f5",
   "metadata": {},
   "source": [
    "<div class=\"alert alert-block alert-warning\">\n",
    "    <h3>3.1 Samtools is a classic bioinformatics tools.</h3>\n",
    "    <p>Check if you have samtools installed on your environment.</p>\n",
    "</div>"
   ]
  },
  {
   "cell_type": "code",
   "execution_count": 3,
   "id": "4b469ea4",
   "metadata": {},
   "outputs": [
    {
     "name": "stdout",
     "output_type": "stream",
     "text": [
      "\n",
      "Program: samtools (Tools for alignments in the SAM format)\n",
      "Version: 1.17 (using htslib 1.17)\n",
      "\n",
      "Usage:   samtools <command> [options]\n",
      "\n",
      "Commands:\n",
      "  -- Indexing\n",
      "     dict           create a sequence dictionary file\n",
      "     faidx          index/extract FASTA\n",
      "     fqidx          index/extract FASTQ\n",
      "     index          index alignment\n",
      "\n",
      "  -- Editing\n",
      "     calmd          recalculate MD/NM tags and '=' bases\n",
      "     fixmate        fix mate information\n",
      "     reheader       replace BAM header\n",
      "     targetcut      cut fosmid regions (for fosmid pool only)\n",
      "     addreplacerg   adds or replaces RG tags\n",
      "     markdup        mark duplicates\n",
      "     ampliconclip   clip oligos from the end of reads\n",
      "\n",
      "  -- File operations\n",
      "     collate        shuffle and group alignments by name\n",
      "     cat            concatenate BAMs\n",
      "     consensus      produce a consensus Pileup/FASTA/FASTQ\n",
      "     merge          merge sorted alignments\n",
      "     mpileup        multi-way pileup\n",
      "     sort           sort alignment file\n",
      "     split          splits a file by read group\n",
      "     quickcheck     quickly check if SAM/BAM/CRAM file appears intact\n",
      "     fastq          converts a BAM to a FASTQ\n",
      "     fasta          converts a BAM to a FASTA\n",
      "     import         Converts FASTA or FASTQ files to SAM/BAM/CRAM\n",
      "     reference      Generates a reference from aligned data\n",
      "     reset          Reverts aligner changes in reads\n",
      "\n",
      "  -- Statistics\n",
      "     bedcov         read depth per BED region\n",
      "     coverage       alignment depth and percent coverage\n",
      "     depth          compute the depth\n",
      "     flagstat       simple stats\n",
      "     idxstats       BAM index stats\n",
      "     cram-size      list CRAM Content-ID and Data-Series sizes\n",
      "     phase          phase heterozygotes\n",
      "     stats          generate stats (former bamcheck)\n",
      "     ampliconstats  generate amplicon specific stats\n",
      "\n",
      "  -- Viewing\n",
      "     flags          explain BAM flags\n",
      "     head           header viewer\n",
      "     tview          text alignment viewer\n",
      "     view           SAM<->BAM<->CRAM conversion\n",
      "     depad          convert padded BAM to unpadded BAM\n",
      "     samples        list the samples in a set of SAM/BAM/CRAM files\n",
      "\n",
      "  -- Misc\n",
      "     help [cmd]     display this help message or help for [cmd]\n",
      "     version        detailed version information\n",
      "\n"
     ]
    }
   ],
   "source": [
    "#Just run the \"samtools\" command here and make sure it does not say \"samtools not found\".\n",
    "!samtools"
   ]
  },
  {
   "cell_type": "markdown",
   "id": "3c73d9fc",
   "metadata": {},
   "source": [
    "<div class=\"alert alert-block alert-warning\">\n",
    "    <h3>3.2 Is your SAM file sorted by coordinates?</h3>\n",
    "    <p>SAM or BAM (which we will create later) can be sorted by the read name or read coordinate. Look at your SAM file and see if you can run a Samtools command to find out if your file is sorted. (Hint: Google your question)</p>\n",
    "</div>"
   ]
  },
  {
   "cell_type": "code",
   "execution_count": 11,
   "id": "59076e1b",
   "metadata": {},
   "outputs": [],
   "source": [
    "#Tell us if your SAM file is sorted."
   ]
  },
  {
   "cell_type": "markdown",
   "id": "b9da1069",
   "metadata": {},
   "source": [
    "Our SAM file is not sorted."
   ]
  },
  {
   "cell_type": "code",
   "execution_count": 12,
   "id": "3af73d7e",
   "metadata": {},
   "outputs": [],
   "source": [
    "#Tell us how you reached your answer and clerly write the commands used in additional cell with descriptive comments."
   ]
  },
  {
   "cell_type": "code",
   "execution_count": 12,
   "id": "e27e1bc7",
   "metadata": {},
   "outputs": [
    {
     "name": "stdout",
     "output_type": "stream",
     "text": [
      "SRR393028.2305516\t83\tchr12\t55839646\t60\t67M\t=\t55839576\t-137\tGGTTCACCCCCCGGTAGGTCCCCTCAGTCCCGAACTCGTCTTCCTCGAAGTTCACACTGCCCAGCTC\t???????????????????????????????????????????????????????????????????\tNM:i:4\tMD:Z:10A19A12G7G15\tMC:Z:1S35M31S\tAS:i:47\tXS:i:0\n",
      "SRR393028.2305516\t163\tchr12\t55839576\t44\t1S35M31S\t=\t55839646\t137\tTAGGGCCTGGGATTATCGGGACTGCCAAAGCCCCAGTATGAGGGCCGCTTCTGGGGCTGCAATGATG\t???????????????????????????????????????????????????????????????????\tNM:i:3\tMD:Z:11A8G4C9\tMC:Z:67M\tAS:i:20\tXS:i:0\n",
      "SRR393028.2305517\t83\tchr11\t71082729\t60\t67M\t=\t71082685\t-111\tCTGGAGCCGGAGGAGAGGATAAGTCACTGTGGCCCGAAACTATTTCTTTAAGGCGGACACTCTTCAT\t???????????????????????????????????????????????????????????????????\tNM:i:2\tMD:Z:7A11G47\tMC:Z:67M\tAS:i:57\tXS:i:19\n",
      "SRR393028.2305517\t163\tchr11\t71082685\t60\t67M\t=\t71082729\t111\tGTCAAGAGCTGAGGGCATCCGGCCAGGGATTGGCAGGGGGCAGCCTGGAGCAGGATGAGAGGAGAAG\t???????????????????????????????????????????????????????????????????\tNM:i:3\tMD:Z:0C29G24G11\tMC:Z:67M\tAS:i:56\tXS:i:22\n",
      "SRR393028.2305518\t77\t*\t0\t0\t*\t*\t0\t0\tGATGTGCTCTCGGGGGGAGTTCCCTACTCCTCCGCTGCGGTGCCACGGCACCGTATATGACCACAAC\t???????????????????????????????????????????????????????????????????\tAS:i:0\tXS:i:0\n",
      "SRR393028.2305518\t141\t*\t0\t0\t*\t*\t0\t0\tGCTACTGCCCGTAACTAGCTCTCTATTCTGCACATATCGGGTGACTCGACACCGGGCCGTGGGAGGG\t???????????????????????????????????????????????????????????????????\tAS:i:0\tXS:i:0\n",
      "SRR393028.2305519\t77\t*\t0\t0\t*\t*\t0\t0\tACCGGGTACCTCTCTTTGACTGTGCTCAAGTTACTGTTTGGTTTTTGCTCTGTCAACAACAGCATCT\t???????????????????????????????????????????????????????????????????\tAS:i:0\tXS:i:0\n",
      "SRR393028.2305519\t141\t*\t0\t0\t*\t*\t0\t0\tGAGCTCATGTGTTGGATGAGGAAGTACAGGTGTATCTTTCAGAGTGAGAAAGTGATGCTGTTTTTCA\t???????????????????????????????????????????????????????????????????\tAS:i:0\tXS:i:0\n",
      "SRR393028.2305520\t99\tchr11\t96371047\t60\t11S50M6S\t=\t96371069\t89\tTTCTAGAGGCTAAGCTCTCTAGTCGAGGCTGAATAAAGCGGTTATGCAAATATTGAAGAGACGTTAA\t???????????????????????????????????????????????????????????????????\tNM:i:4\tMD:Z:11A10C11C6A8\tMC:Z:67M\tAS:i:30\tXS:i:0\n",
      "SRR393028.2305520\t147\tchr11\t96371069\t60\t67M\t=\t96371047\t-89\tCAAAGCGGTTATCCAAATAAAGAAGAGCTGTTATCATTTTTTTTGCACCTGATTTTTGCCTTGTGCC\t???????????????????????????????????????????????????????????????????\tNM:i:7\tMD:Z:20T6A5G3A1C7T0A18\tMC:Z:11S50M6S\tAS:i:32\tXS:i:22\n"
     ]
    }
   ],
   "source": [
    "!tail ~/biol6150/ProjectSubmissions/Group8/Project2/ReadAlignment/SRR393028.sam"
   ]
  },
  {
   "cell_type": "markdown",
   "id": "1992e6f1",
   "metadata": {},
   "source": [
    "<div class=\"alert alert-block alert-warning\">\n",
    "    <h3>3.3 Sort your SAM file?</h3>\n",
    "    <p>Sort your SAM file by genomic coordinates,</p>\n",
    "    <p>When you run this command, what is the output format of your result file?</p>\n",
    "    <h4>Tweak samtools and change your sorted SAM file's output to SAM. (Hint: You should be able to read the file using simple cat or less)</h4>\n",
    "</div>"
   ]
  },
  {
   "cell_type": "markdown",
   "id": "eebf5bad",
   "metadata": {},
   "source": [
    "Our result SAM file is sorted by coordinates. We know this because SO in the @HD line means sorting order."
   ]
  },
  {
   "cell_type": "code",
   "execution_count": 13,
   "id": "f05ae2be",
   "metadata": {},
   "outputs": [
    {
     "name": "stdout",
     "output_type": "stream",
     "text": [
      "[bam_sort_core] merging from 1 files and 1 in-memory blocks...\n"
     ]
    }
   ],
   "source": [
    "#Run the sort command here.\n",
    "!samtools sort ~/biol6150/ProjectSubmissions/Group8/Project2/ReadAlignment/SRR393028.sam -o ~/biol6150/ProjectSubmissions/Group8/Project2/ReadAlignment/SRR393028.sorted.sam"
   ]
  },
  {
   "cell_type": "code",
   "execution_count": null,
   "id": "b5a61e2c",
   "metadata": {},
   "outputs": [],
   "source": [
    "#Head your sorted SAM file here. Show the first 5 lines."
   ]
  },
  {
   "cell_type": "code",
   "execution_count": 15,
   "id": "bb35fa59",
   "metadata": {},
   "outputs": [
    {
     "name": "stdout",
     "output_type": "stream",
     "text": [
      "@HD\tVN:1.6\tSO:coordinate\n",
      "@SQ\tSN:chr1\tLN:248956422\n",
      "@SQ\tSN:chr10\tLN:133797422\n",
      "@SQ\tSN:chr11\tLN:135086622\n",
      "@SQ\tSN:chr11_KI270721v1_random\tLN:100316\n"
     ]
    }
   ],
   "source": [
    "!head -5 ~/biol6150/ProjectSubmissions/Group8/Project2/ReadAlignment/SRR393028.sorted.sam"
   ]
  },
  {
   "cell_type": "code",
   "execution_count": null,
   "id": "da809aa0",
   "metadata": {},
   "outputs": [],
   "source": [
    "#Write any other commands used here as well."
   ]
  },
  {
   "cell_type": "markdown",
   "id": "d6a149f8",
   "metadata": {},
   "source": [
    "<div class=\"alert alert-block alert-warning\">\n",
    "    <h3>3.4 Convert your SAM file to a BAM file.</h3>\n",
    "    <p>This should be a single one line command.</p>\n",
    "</div>"
   ]
  },
  {
   "cell_type": "code",
   "execution_count": 16,
   "id": "61b32b0f",
   "metadata": {},
   "outputs": [],
   "source": [
    "!samtools view -S -b ~/biol6150/ProjectSubmissions/Group8/Project2/ReadAlignment/SRR393028.sorted.sam > ~/biol6150//ProjectSubmissions/Group8/Project2/ReadAlignment/SRR393028.sorted.bam"
   ]
  },
  {
   "cell_type": "code",
   "execution_count": 18,
   "id": "6537a5e6",
   "metadata": {},
   "outputs": [
    {
     "name": "stdout",
     "output_type": "stream",
     "text": [
      "total 11G\n",
      "-rwxrwxrwx. 1 soliver35 gtperson 3.1G Jan 16  2014 hg38.fa\n",
      "-rw-r--r--. 1 jkim3607  gtperson  21K Sep 28 14:50 hg38.fa.amb\n",
      "-rw-r--r--. 1 jkim3607  gtperson  22K Sep 28 14:50 hg38.fa.ann\n",
      "-rw-r--r--. 1 jkim3607  gtperson 3.0G Sep 28 14:50 hg38.fa.bwt\n",
      "-rw-r--r--. 1 jkim3607  gtperson 766M Sep 28 14:50 hg38.fa.pac\n",
      "-rw-r--r--. 1 jkim3607  gtperson 1.5G Sep 28 15:04 hg38.fa.sa\n",
      "-rw-r--r--. 1 jkim3607  gtperson    0 Sep 24 15:50 hg38.mmi\n",
      "-rwxrwxrwx. 1 jkim3607  gtperson 1.1G Sep 28 19:28 SRR393028.sam\n",
      "-rw-r--r--. 1 acressy3  gtperson 141M Sep 29 20:37 SRR393028.sorted.bam\n",
      "-rwxrwxrwx. 1 acressy3  gtperson 1.1G Sep 29 20:27 SRR393028.sorted.sam\n"
     ]
    }
   ],
   "source": [
    "#Write the command run \"ls -lh\" to show the size and location of the file.\n",
    "!ls -lh ~/biol6150/ProjectSubmissions/Group8/Project2/ReadAlignment"
   ]
  },
  {
   "cell_type": "markdown",
   "id": "669013a5",
   "metadata": {},
   "source": [
    "<div class=\"alert alert-block alert-warning\">\n",
    "    <h3>3.5 Statistics of your SAM file.</h3>\n",
    "    <p>1.How many total raw sequences does your SAM file have?</p>\n",
    "    <p>2.How many total reads are mapped in your SAM file?</p>\n",
    "</div>"
   ]
  },
  {
   "cell_type": "code",
   "execution_count": 1,
   "id": "e6efcb2a",
   "metadata": {},
   "outputs": [
    {
     "name": "stdout",
     "output_type": "stream",
     "text": [
      "4572294\n"
     ]
    }
   ],
   "source": [
    "#Show your commands and answers in additional cells as required.\n",
    "#counting total raw sequences in SAM file\n",
    "!samtools view -c ~/biol6150/ProjectSubmissions/Group8/Project2/ReadAlignment/SRR393028.sorted.sam"
   ]
  },
  {
   "cell_type": "code",
   "execution_count": 1,
   "id": "c7c12fe5",
   "metadata": {},
   "outputs": [
    {
     "name": "stdout",
     "output_type": "stream",
     "text": [
      "4572294 73375905 1102806463\n"
     ]
    }
   ],
   "source": [
    "#double checking the raw sequence count\n",
    "!grep -v '^@' ~/biol6150/ProjectSubmissions/Group8/Project2/ReadAlignment/SRR393028.sorted.sam | wc"
   ]
  },
  {
   "cell_type": "code",
   "execution_count": 1,
   "id": "e8fcfc96",
   "metadata": {},
   "outputs": [
    {
     "name": "stdout",
     "output_type": "stream",
     "text": [
      "4572294 + 0 in total (QC-passed reads + QC-failed reads)\n",
      "4571868 + 0 primary\n",
      "0 + 0 secondary\n",
      "426 + 0 supplementary\n",
      "0 + 0 duplicates\n",
      "0 + 0 primary duplicates\n",
      "4455191 + 0 mapped (97.44% : N/A)\n",
      "4454765 + 0 primary mapped (97.44% : N/A)\n",
      "4571868 + 0 paired in sequencing\n",
      "2285934 + 0 read1\n",
      "2285934 + 0 read2\n",
      "4358108 + 0 properly paired (95.32% : N/A)\n",
      "4405492 + 0 with itself and mate mapped\n",
      "49273 + 0 singletons (1.08% : N/A)\n",
      "30440 + 0 with mate mapped to a different chr\n",
      "24231 + 0 with mate mapped to a different chr (mapQ>=5)\n"
     ]
    }
   ],
   "source": [
    "#counting total reads mapped in SAM file\n",
    "!samtools flagstat ~/biol6150/ProjectSubmissions/Group8/Project2/ReadAlignment/SRR393028.sorted.sam"
   ]
  },
  {
   "cell_type": "code",
   "execution_count": 17,
   "id": "eb4fa95e",
   "metadata": {},
   "outputs": [],
   "source": [
    "#You can parse the SAM file manually, or figure out a faster way to do this."
   ]
  },
  {
   "cell_type": "markdown",
   "id": "c1daff1c",
   "metadata": {},
   "source": [
    "1. The SAM file has 4572294 raw sequences, as detemined with the samtools view -c command, which counts the number of reads in the file. \n",
    "2. The SAM file has 4455191 total reads mapped (97.44%). This was determined using samtools flagstat, which returns statistics for the SAM file. The number of reads mapped can be determined from the line containing \"+ 0 mapped.\""
   ]
  }
 ],
 "metadata": {
  "kernelspec": {
   "display_name": "Python [conda env:biol6150]",
   "language": "python",
   "name": "conda-env-biol6150-py"
  },
  "language_info": {
   "codemirror_mode": {
    "name": "ipython",
    "version": 3
   },
   "file_extension": ".py",
   "mimetype": "text/x-python",
   "name": "python",
   "nbconvert_exporter": "python",
   "pygments_lexer": "ipython3",
   "version": "3.11.5"
  }
 },
 "nbformat": 4,
 "nbformat_minor": 5
}
