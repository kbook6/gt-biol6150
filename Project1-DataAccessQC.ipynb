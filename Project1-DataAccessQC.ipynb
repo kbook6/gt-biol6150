{
 "cells": [
  {
   "cell_type": "markdown",
   "id": "f13fe33e",
   "metadata": {},
   "source": [
    "![logo-gt.png](attachment:logo-gt.png)"
   ]
  },
  {
   "cell_type": "markdown",
   "id": "e53587e1",
   "metadata": {},
   "source": [
    "<div class=\"alert alert-block alert-info\">\n",
    "    <h1>BIOS 4150/BIOL 6150</h1>\n",
    "    <h3>Instructor: Dr. King Jordan</h3>\n",
    "    <p>Shivam Sharma (shivamsharma13@gatech.edu),</p>\n",
    "    <p>Nilavrah Sensarma (nsensarma3@gatech.edu),</p> \n",
    "    <p>Bengy Gyimah-Asamoah, (bgyimaha3@gatech.edu)</p>\n",
    "</p>\n",
    "</div>"
   ]
  },
  {
   "cell_type": "markdown",
   "id": "4c342f3f",
   "metadata": {},
   "source": [
    "<div class=\"alert alert-block alert-warning\">\n",
    "    <h2>Project 1 (Data access & QC) starter notebook</h2>\n",
    "    <h3>Deadline: 11:59PM, September 24rd, 2024</h3>\n",
    "</div>"
   ]
  },
  {
   "cell_type": "markdown",
   "id": "879a14ff",
   "metadata": {},
   "source": [
    "---"
   ]
  },
  {
   "cell_type": "markdown",
   "id": "f404ae11",
   "metadata": {},
   "source": [
    "# **1. Your assigned 1000 Genomes individual**\n",
    "### *Total Questions: 3*\n",
    "### *Total Points: 3+3+4 = 10*\n",
    "\n",
    "\n",
    "---"
   ]
  },
  {
   "cell_type": "markdown",
   "id": "69ff09a1",
   "metadata": {},
   "source": [
    "<div class=\"alert alert-block alert-warning\">\n",
    "    <h3>1.1 Does you group have an assigned individual ID from the 1000 Genomes Project?</h3>\n",
    "    <p>Find the individual on the international genomes website and paste a screenshot below</p>\n",
    "</div>"
   ]
  },
  {
   "cell_type": "code",
   "execution_count": null,
   "id": "9a5c6620",
   "metadata": {},
   "outputs": [],
   "source": [
    "##Add image here for 1.1\n"
   ]
  },
  {
   "cell_type": "markdown",
   "id": "ea7fb1a1",
   "metadata": {},
   "source": [
    "![AssignedIndividual.png](./AssignedIndividual.png)"
   ]
  },
  {
   "cell_type": "markdown",
   "id": "cad8ccda",
   "metadata": {},
   "source": [
    "<div class=\"alert alert-block alert-warning\">\n",
    "    <h3>1.2 What population does your assigned individual belong to?</h3>\n",
    "    <p>Write about where the geographical location of where this individual lived at the time of recruitment </p>\n",
    "</div>"
   ]
  },
  {
   "cell_type": "code",
   "execution_count": null,
   "id": "aaa946ba",
   "metadata": {},
   "outputs": [],
   "source": [
    "#Write about the individual and their ancestors here."
   ]
  },
  {
   "cell_type": "markdown",
   "id": "c3f1acbe",
   "metadata": {},
   "source": [
    "She was born and is from Barbados, as well as her past two ancestral generations (her grandparents) on both the maternal and paternal side. "
   ]
  },
  {
   "cell_type": "markdown",
   "id": "c9db3bcf",
   "metadata": {},
   "source": [
    "<div class=\"alert alert-block alert-warning\">\n",
    "    <h3>1.3 More about your individual's population?</h3>\n",
    "    <p>Read more about this population and write about their recent historical  (100-500 years) ancestors.</p>\n",
    "</div>"
   ]
  },
  {
   "cell_type": "code",
   "execution_count": null,
   "id": "3637229e",
   "metadata": {},
   "outputs": [],
   "source": [
    "#Write about the individual and their ancestors here."
   ]
  },
  {
   "cell_type": "markdown",
   "id": "582a6db5",
   "metadata": {},
   "source": [
    "She is of African Caribbean ancestry (which both sets of grandparents also identify with as they were also born in Barbados), meaning that her distant ancestors were originally from Africa, but recently are from the Caribbean. "
   ]
  },
  {
   "cell_type": "markdown",
   "id": "1be29a73",
   "metadata": {},
   "source": [
    "# **2. Exome sequencing**\n",
    "### *Total Questions: 3*\n",
    "### *Total Points: 5+5=10*\n",
    "\n",
    "\n",
    "---"
   ]
  },
  {
   "cell_type": "markdown",
   "id": "af2bb9d3",
   "metadata": {},
   "source": [
    "<div class=\"alert alert-block alert-warning\">\n",
    "    <h3>2.1 Does your assigned individual has exome sequencing data? If yes, then what is the SRR ID for that sequencing run?</h3>\n",
    "    <p>Does you individual have multiple SRR IDs? In case they do, which one would you pick? (Hint: The sequencing information is coming from the same individual; but larger file size might be more preferable)</p>\n",
    "</div>"
   ]
  },
  {
   "cell_type": "code",
   "execution_count": null,
   "id": "2ad2828b",
   "metadata": {},
   "outputs": [],
   "source": [
    "#Write about the SRR ID here."
   ]
  },
  {
   "cell_type": "markdown",
   "id": "92b21998",
   "metadata": {},
   "source": [
    "The SRR ID is SRR393028. We chose this one because it is the only one with a paired sequence (SRR393028_1 and SRR393028_2)."
   ]
  },
  {
   "cell_type": "markdown",
   "id": "fca94a31",
   "metadata": {},
   "source": [
    "<div class=\"alert alert-block alert-warning\">\n",
    "    <h3>2.2 Looking at just the exome sequencing of this individual, how many variants would you expect them to carry compared to the reference genome?</h3>\n",
    "    <p>Keep in mind this is 1 individual, and learn about the expected number of variants from WGS, WES, and Genotyping</p>\n",
    "</div>"
   ]
  },
  {
   "cell_type": "markdown",
   "id": "792f4e17",
   "metadata": {},
   "source": [
    "According to a study, a person’s ~6 billion-nucleotide genome sequence will have around 5,000,000 SNVs, 600,000 insertion/deletion variants, and 25,000 structural variants. Our genome sequence has total 4611040 reads, so the expected number of variants would be 18444. The amount of data produced for analysis in WES is approximately 10 Gb (150x) per patient, whereas the amount of data produced in WGS is 120 Gb (35x)."
   ]
  },
  {
   "cell_type": "markdown",
   "id": "9190c760",
   "metadata": {},
   "source": [
    "# **3. Data access**\n",
    "### *Total Questions: 3*\n",
    "### *Total Points: 5+5 = 10*\n",
    "\n",
    "\n",
    "---"
   ]
  },
  {
   "cell_type": "markdown",
   "id": "be2163af",
   "metadata": {},
   "source": [
    "<div class=\"alert alert-block alert-warning\">\n",
    "    <h3>3.1 Download the exome sequencing data for this individual and write the size of the files?</h3>\n",
    "    <p>3.1.1 How many files do you have? Is the sequencing paired?</p>\n",
    "    <p>3.1.2 How many reads are present in each file? </p>\n",
    "</div>"
   ]
  },
  {
   "cell_type": "code",
   "execution_count": null,
   "id": "0f16c8cb",
   "metadata": {},
   "outputs": [],
   "source": [
    "#Show your download command and ls the directory."
   ]
  },
  {
   "cell_type": "code",
   "execution_count": 1,
   "id": "16855c9a",
   "metadata": {},
   "outputs": [
    {
     "name": "stdout",
     "output_type": "stream",
     "text": [
      "--2024-09-21 18:43:26--  ftp://ftp.sra.ebi.ac.uk/vol1/fastq/SRR393/SRR393028/SRR393028_1.fastq.gz\n",
      "           => ‘SRR393028_1.fastq.gz’\n",
      "Resolving ftp.sra.ebi.ac.uk (ftp.sra.ebi.ac.uk)... 193.62.193.165\n",
      "Connecting to ftp.sra.ebi.ac.uk (ftp.sra.ebi.ac.uk)|193.62.193.165|:21... connected.\n",
      "Logging in as anonymous ... Logged in!\n",
      "==> SYST ... done.    ==> PWD ... done.\n",
      "==> TYPE I ... done.  ==> CWD (1) /vol1/fastq/SRR393/SRR393028 ... done.\n",
      "==> SIZE SRR393028_1.fastq.gz ... 51844801\n",
      "==> PASV ... done.    ==> RETR SRR393028_1.fastq.gz ... done.\n",
      "Length: 51844801 (49M) (unauthoritative)\n",
      "\n",
      "SRR393028_1.fastq.g 100%[===================>]  49.44M  6.43MB/s    in 9.8s    \n",
      "\n",
      "2024-09-21 18:43:37 (5.03 MB/s) - ‘SRR393028_1.fastq.gz’ saved [51844801]\n",
      "\n",
      "--2024-09-21 18:43:37--  ftp://ftp.sra.ebi.ac.uk/vol1/fastq/SRR393/SRR393028/SRR393028_2.fastq.gz\n",
      "           => ‘SRR393028_2.fastq.gz’\n",
      "Resolving ftp.sra.ebi.ac.uk (ftp.sra.ebi.ac.uk)... 193.62.193.165\n",
      "Connecting to ftp.sra.ebi.ac.uk (ftp.sra.ebi.ac.uk)|193.62.193.165|:21... connected.\n",
      "Logging in as anonymous ... Logged in!\n",
      "==> SYST ... done.    ==> PWD ... done.\n",
      "==> TYPE I ... done.  ==> CWD (1) /vol1/fastq/SRR393/SRR393028 ... done.\n",
      "==> SIZE SRR393028_2.fastq.gz ... 52663283\n",
      "==> PASV ... done.    ==> RETR SRR393028_2.fastq.gz ... done.\n",
      "Length: 52663283 (50M) (unauthoritative)\n",
      "\n",
      "SRR393028_2.fastq.g 100%[===================>]  50.22M  6.74MB/s    in 8.8s    \n",
      "\n",
      "2024-09-21 18:43:48 (5.74 MB/s) - ‘SRR393028_2.fastq.gz’ saved [52663283]\n",
      "\n"
     ]
    }
   ],
   "source": [
    "#Download the file.\n",
    "!wget ftp://ftp.sra.ebi.ac.uk/vol1/fastq/SRR393/SRR393028/SRR393028_1.fastq.gz\n",
    "!wget ftp://ftp.sra.ebi.ac.uk/vol1/fastq/SRR393/SRR393028/SRR393028_2.fastq.gz"
   ]
  },
  {
   "cell_type": "markdown",
   "id": "5c368e70",
   "metadata": {},
   "source": [
    "![proj1terminal.png](./proj1terminal.png)"
   ]
  },
  {
   "cell_type": "code",
   "execution_count": 3,
   "id": "8716151e",
   "metadata": {},
   "outputs": [],
   "source": [
    "#Write about the fastq file here."
   ]
  },
  {
   "cell_type": "markdown",
   "id": "373fc342",
   "metadata": {},
   "source": [
    "We downloaded two files SRR39028_1.fastq.gz and SRR39028_2.fastq.gz. \n",
    "\n",
    "In SRR393028_1.fastq.gz, there are 51844801 reads in each file. In SRR393028_2.fastq.gz, there are 52663283 reads in each file. \n",
    "\n",
    "These are paired sequences.\n",
    "\n",
    "In terminal, there is no .qz because the screenshot was taken after we unzipped the files."
   ]
  },
  {
   "cell_type": "code",
   "execution_count": 2,
   "id": "01a59752",
   "metadata": {},
   "outputs": [
    {
     "name": "stdout",
     "output_type": "stream",
     "text": [
      "@SRR393028.1 1/1\n",
      "CACAGACGGGTAGAACCTCAGTAATCCGAAAAGCCGGGGTCGACCGCCCCTTGCTTGCAGCCGGGCACTACAGGAC\n",
      "+\n",
      "????????????????????????????????????????????????????????????????????????????\n",
      "@SRR393028.2 2/1\n",
      "CATGTAACCTAATACCACGACCAGGCATGGGGGAAAGATTGGAGGAAAGTTGAGTGAGAGGATCAACTTCTCTGAC\n",
      "+\n",
      "????????????????????????????????????????????????????????????????????????????\n",
      "@SRR393028.3 3/1\n",
      "AGAACGGAGCAGCTGGTGATGTGTGGGCCCACCGGCCCCAGGCTCCTGTCTCCCCCCAGGTGTGTGGTGATGCCAG\n",
      "\n",
      "gzip: stdout: Broken pipe\n",
      "----\n",
      "@SRR393028.1 1/2\n",
      "TGCCACCACTCTAAGCAAGAGAGCCCTGCAGTTGCCCTAGTCGCCAGCAGGGGGCGCCCTGGCACAGCACCGTGAG\n",
      "+\n",
      "????????????????????????????????????????????????????????????????????????????\n",
      "@SRR393028.2 2/2\n",
      "CCGATGGCAGCAGACGGCAGGTAGCGGTCCAGCTGCTGGAGCGAGGGCCGGCCACGTATCACAGCCAAGGAGATGA\n",
      "+\n",
      "????????????????????????????????????????????????????????????????????????????\n",
      "@SRR393028.3 3/2\n",
      "ACAGGAGACGCCGGCCCCGTAGAGCCCTAGGGGCGACGCCACTCCCACTCACTGTCTACTCTCCTCTCACCTCTGC\n",
      "\n",
      "gzip: stdout: Broken pipe\n"
     ]
    }
   ],
   "source": [
    "#Have a quick look at the files downloaded.\n",
    "!zcat ~/biol6150/ProjectSubmissions/Group8/Project1/SRR393028_1.fastq.gz | head \n",
    "!echo \"----\"\n",
    "!zcat ~/biol6150/ProjectSubmissions/Group8/Project1/SRR393028_2.fastq.gz | head "
   ]
  },
  {
   "cell_type": "markdown",
   "id": "69ad7538",
   "metadata": {},
   "source": [
    "There is a phred score of 30 which is in the standard range for quality scores."
   ]
  },
  {
   "cell_type": "code",
   "execution_count": null,
   "id": "7f8110c2",
   "metadata": {},
   "outputs": [],
   "source": [
    "#Write about the fastq file here."
   ]
  },
  {
   "cell_type": "markdown",
   "id": "a5d636e2",
   "metadata": {},
   "source": [
    "There is a phred score of 30 which is in the standard range for quality scores."
   ]
  },
  {
   "cell_type": "markdown",
   "id": "883898ab",
   "metadata": {},
   "source": [
    "# **4. Pre-QC with FastQC**\n",
    "### *Total Questions: 2*\n",
    "### *Total Points: 6+6+8 = 20*\n",
    "\n",
    "\n",
    "---"
   ]
  },
  {
   "cell_type": "markdown",
   "id": "ce2355a7",
   "metadata": {},
   "source": [
    "<div class=\"alert alert-block alert-warning\">\n",
    "    <h3>4.1 Show your exact command below.</h3>\n",
    "</div>"
   ]
  },
  {
   "cell_type": "code",
   "execution_count": 4,
   "id": "a6ce88a1",
   "metadata": {},
   "outputs": [],
   "source": [
    "#Create a directory for QC results.\n",
    "!mkdir -p ~/biol6150/ProjectSubmissions/Group8/Project1/fastQCBeforeTrimming\n",
    "!mkdir -p ~/biol6150/ProjectSubmissions/Group8/Project1/Trimming\n",
    "!mkdir -p ~/biol6150/ProjectSubmissions/Group8/Project1/fastQCAfterTrimming"
   ]
  },
  {
   "cell_type": "code",
   "execution_count": 6,
   "id": "714f8eab",
   "metadata": {},
   "outputs": [
    {
     "name": "stdout",
     "output_type": "stream",
     "text": [
      "application/gzip\n",
      "application/gzip\n",
      "Started analysis of SRR393028_1.fastq.gz\n",
      "Approx 5% complete for SRR393028_1.fastq.gz\n",
      "Approx 10% complete for SRR393028_1.fastq.gz\n",
      "Approx 15% complete for SRR393028_1.fastq.gz\n",
      "Approx 20% complete for SRR393028_1.fastq.gz\n",
      "Approx 25% complete for SRR393028_1.fastq.gz\n",
      "Approx 30% complete for SRR393028_1.fastq.gz\n",
      "Approx 35% complete for SRR393028_1.fastq.gz\n",
      "Approx 40% complete for SRR393028_1.fastq.gz\n",
      "Approx 45% complete for SRR393028_1.fastq.gz\n",
      "Approx 50% complete for SRR393028_1.fastq.gz\n",
      "Approx 55% complete for SRR393028_1.fastq.gz\n",
      "Approx 60% complete for SRR393028_1.fastq.gz\n",
      "Approx 65% complete for SRR393028_1.fastq.gz\n",
      "Approx 70% complete for SRR393028_1.fastq.gz\n",
      "Approx 75% complete for SRR393028_1.fastq.gz\n",
      "Approx 80% complete for SRR393028_1.fastq.gz\n",
      "Approx 85% complete for SRR393028_1.fastq.gz\n",
      "Approx 90% complete for SRR393028_1.fastq.gz\n",
      "Approx 95% complete for SRR393028_1.fastq.gz\n",
      "Analysis complete for SRR393028_1.fastq.gz\n",
      "Started analysis of SRR393028_2.fastq.gz\n",
      "Approx 5% complete for SRR393028_2.fastq.gz\n",
      "Approx 10% complete for SRR393028_2.fastq.gz\n",
      "Approx 15% complete for SRR393028_2.fastq.gz\n",
      "Approx 20% complete for SRR393028_2.fastq.gz\n",
      "Approx 25% complete for SRR393028_2.fastq.gz\n",
      "Approx 30% complete for SRR393028_2.fastq.gz\n",
      "Approx 35% complete for SRR393028_2.fastq.gz\n",
      "Approx 40% complete for SRR393028_2.fastq.gz\n",
      "Approx 45% complete for SRR393028_2.fastq.gz\n",
      "Approx 50% complete for SRR393028_2.fastq.gz\n",
      "Approx 55% complete for SRR393028_2.fastq.gz\n",
      "Approx 60% complete for SRR393028_2.fastq.gz\n",
      "Approx 65% complete for SRR393028_2.fastq.gz\n",
      "Approx 70% complete for SRR393028_2.fastq.gz\n",
      "Approx 75% complete for SRR393028_2.fastq.gz\n",
      "Approx 80% complete for SRR393028_2.fastq.gz\n",
      "Approx 85% complete for SRR393028_2.fastq.gz\n",
      "Approx 90% complete for SRR393028_2.fastq.gz\n",
      "Approx 95% complete for SRR393028_2.fastq.gz\n",
      "Analysis complete for SRR393028_2.fastq.gz\n"
     ]
    }
   ],
   "source": [
    "#Command here.\n",
    "#Run fastqc.\n",
    "!fastqc -o ~/biol6150/ProjectSubmissions/Group8/Project1/fastQCBeforeTrimming/ ~/biol6150/ProjectSubmissions/Group8/Project1/SRR393028_1.fastq.gz ~/biol6150/ProjectSubmissions/Group8/Project1/SRR393028_2.fastq.gz\n"
   ]
  },
  {
   "cell_type": "markdown",
   "id": "afe25fb4",
   "metadata": {},
   "source": [
    "<div class=\"alert alert-block alert-warning\">\n",
    "    <h3>4.2 Show <i>per base sequencing quality</i>?</h3>\n",
    "    <p>Add a screenshot below</p>\n",
    "</div>"
   ]
  },
  {
   "cell_type": "code",
   "execution_count": null,
   "id": "333bc195",
   "metadata": {},
   "outputs": [],
   "source": [
    "##Add image here for 4.2"
   ]
  },
  {
   "cell_type": "markdown",
   "id": "0a0bfdc0",
   "metadata": {},
   "source": [
    "![Quality_1.png](./Quality_1.png)"
   ]
  },
  {
   "cell_type": "markdown",
   "id": "6d6ee553",
   "metadata": {},
   "source": [
    "![Quality_1.png](./Quality_2.png)"
   ]
  },
  {
   "cell_type": "markdown",
   "id": "07530108",
   "metadata": {},
   "source": [
    "<div class=\"alert alert-block alert-warning\">\n",
    "    <h3>4.3 Show <i>Per base sequence content</i>?</h3>\n",
    "    <p>Add a screenshot below</p>\n",
    "</div>"
   ]
  },
  {
   "cell_type": "code",
   "execution_count": null,
   "id": "e402fd38",
   "metadata": {},
   "outputs": [],
   "source": [
    "##Add image here for 4.3"
   ]
  },
  {
   "cell_type": "markdown",
   "id": "baeca055",
   "metadata": {},
   "source": [
    "![Content_1.png](./Content_1.png)"
   ]
  },
  {
   "cell_type": "markdown",
   "id": "7b3fa118",
   "metadata": {},
   "source": [
    "![Content_2.png](./Content_2.png)"
   ]
  },
  {
   "cell_type": "markdown",
   "id": "fcfe1f2a",
   "metadata": {},
   "source": [
    "# **5. Trimming with fastp or trimmmomatic**\n",
    "### *Total Questions: 3*\n",
    "### *Total Points: 10+10+10 = 30*\n",
    "\n",
    "\n",
    "---"
   ]
  },
  {
   "cell_type": "markdown",
   "id": "792ded3a",
   "metadata": {},
   "source": [
    "<div class=\"alert alert-block alert-warning\">\n",
    "    <h3>5.1 What was the tools and command you used?</h3>\n",
    "    <p>Write the tool name and exact command below</p>\n",
    "</div>"
   ]
  },
  {
   "cell_type": "code",
   "execution_count": 7,
   "id": "d7c14535",
   "metadata": {
    "scrolled": true
   },
   "outputs": [],
   "source": [
    "#extracting fastq.gz files\n",
    "!gzip -d ~/biol6150/ProjectSubmissions/Group8/Project1/SRR393028_1.fastq.gz\n",
    "!gzip -d ~/biol6150/ProjectSubmissions/Group8/Project1/SRR393028_2.fastq.gz"
   ]
  },
  {
   "cell_type": "code",
   "execution_count": 12,
   "id": "13ed5873",
   "metadata": {},
   "outputs": [
    {
     "name": "stdout",
     "output_type": "stream",
     "text": [
      "Read1 before filtering:\n",
      "total reads: 2305520\n",
      "total bases: 175219520\n",
      "Q20 bases: 173915740(99.2559%)\n",
      "Q30 bases: 173915740(99.2559%)\n",
      "\n",
      "Read2 before filtering:\n",
      "total reads: 2305520\n",
      "total bases: 175219520\n",
      "Q20 bases: 173915740(99.2559%)\n",
      "Q30 bases: 173915740(99.2559%)\n",
      "\n",
      "Read1 after filtering:\n",
      "total reads: 2285934\n",
      "total bases: 153103227\n",
      "Q20 bases: 153103227(100%)\n",
      "Q30 bases: 153103227(100%)\n",
      "\n",
      "Read2 after filtering:\n",
      "total reads: 2285934\n",
      "total bases: 153103227\n",
      "Q20 bases: 153103227(100%)\n",
      "Q30 bases: 153103227(100%)\n",
      "\n",
      "Filtering result:\n",
      "reads passed filter: 4571868\n",
      "reads failed due to low quality: 34310\n",
      "reads failed due to too many N: 4862\n",
      "reads failed due to too short: 0\n",
      "reads with adapter trimmed: 65992\n",
      "bases trimmed due to adapters: 109404\n",
      "\n",
      "Duplication rate: 0.387461%\n",
      "\n",
      "Insert size peak (evaluated by paired-end reads): 121\n",
      "\n",
      "JSON report: fastp.json\n",
      "HTML report: fastp.html\n",
      "\n",
      "fastp -i /home/hice1/soliver35/biol6150/ProjectSubmissions/Group8/Project1/SRR393028_1.fastq -I /home/hice1/soliver35/biol6150/ProjectSubmissions/Group8/Project1/SRR393028_2.fastq -o /home/hice1/soliver35/biol6150/ProjectSubmissions/Group8/Project1/Trimming/SRR393028_1.Trimmed.fastq -O /home/hice1/soliver35/biol6150/ProjectSubmissions/Group8/Project1/Trimming/SRR393028_2.Trimmed.fastq -f 9 -t 0 \n",
      "fastp v0.23.4, time used: 22 seconds\n"
     ]
    }
   ],
   "source": [
    "#Exact command here\n",
    "\n",
    "!fastp -i ~/biol6150/ProjectSubmissions/Group8/Project1/SRR393028_1.fastq -I ~/biol6150/ProjectSubmissions/Group8/Project1/SRR393028_2.fastq -o ~/biol6150/ProjectSubmissions/Group8/Project1/Trimming/SRR393028_1.Trimmed.fastq -O ~/biol6150/ProjectSubmissions/Group8/Project1/Trimming/SRR393028_2.Trimmed.fastq -f 9 -t 0\n"
   ]
  },
  {
   "cell_type": "markdown",
   "id": "1fb95eaf",
   "metadata": {},
   "source": [
    "<div class=\"alert alert-block alert-warning\">\n",
    "    <h3>5.2 How did you perform the trimming?</h3>\n",
    "    <p>Did you use dynamic built in features or hard coded parameters?</p>\n",
    "    <p>Did you have to go back and repeat the trimming after run(s) for <b>postQC?</b></p>\n",
    "</div>"
   ]
  },
  {
   "cell_type": "markdown",
   "id": "22300f89",
   "metadata": {},
   "source": [
    "We used the fastp, which is a built in feature of our environment. "
   ]
  },
  {
   "cell_type": "markdown",
   "id": "257bbac7",
   "metadata": {},
   "source": [
    "<div class=\"alert alert-block alert-warning\">\n",
    "    <h3>5.3 What percentage of reads did you lose in the trimming process?</h3>\n",
    "    <p>5.3.1 Write the total number of reads before and after trimming</p>\n",
    "    <p>5.3.2 If you had a paired fastq file, are there any reads after trimming present in one file and not the other? (eg: present in reverse but not in forward?)</p>\n",
    "    \n",
    "</div>"
   ]
  },
  {
   "cell_type": "markdown",
   "id": "d3b87a65",
   "metadata": {},
   "source": [
    "Before trimming: 4.611040 M\n",
    "After trimming: 4.571868 M\n",
    "Percent Lost: 0.85%"
   ]
  },
  {
   "cell_type": "markdown",
   "id": "37e3612c",
   "metadata": {},
   "source": [
    "# **6. Post-QC with FastQC?**\n",
    "### *Total Questions: 2*\n",
    "### *Total Points: 6+8+6=20*\n",
    "\n",
    "\n",
    "---"
   ]
  },
  {
   "cell_type": "markdown",
   "id": "f53ed1f0",
   "metadata": {},
   "source": [
    "<div class=\"alert alert-block alert-warning\">\n",
    "    <h3>6.1 Show your exact command below.</h3>\n",
    "</div>"
   ]
  },
  {
   "cell_type": "code",
   "execution_count": 2,
   "id": "77128fd1",
   "metadata": {},
   "outputs": [
    {
     "name": "stdout",
     "output_type": "stream",
     "text": [
      "null\n",
      "null\n",
      "Started analysis of SRR393028_1.Trimmed.fastq\n",
      "Approx 5% complete for SRR393028_1.Trimmed.fastq\n",
      "Approx 10% complete for SRR393028_1.Trimmed.fastq\n",
      "Approx 15% complete for SRR393028_1.Trimmed.fastq\n",
      "Approx 20% complete for SRR393028_1.Trimmed.fastq\n",
      "Approx 25% complete for SRR393028_1.Trimmed.fastq\n",
      "Approx 30% complete for SRR393028_1.Trimmed.fastq\n",
      "Approx 35% complete for SRR393028_1.Trimmed.fastq\n",
      "Approx 40% complete for SRR393028_1.Trimmed.fastq\n",
      "Approx 45% complete for SRR393028_1.Trimmed.fastq\n",
      "Approx 50% complete for SRR393028_1.Trimmed.fastq\n",
      "Approx 55% complete for SRR393028_1.Trimmed.fastq\n",
      "Approx 60% complete for SRR393028_1.Trimmed.fastq\n",
      "Approx 65% complete for SRR393028_1.Trimmed.fastq\n",
      "Approx 70% complete for SRR393028_1.Trimmed.fastq\n",
      "Approx 75% complete for SRR393028_1.Trimmed.fastq\n",
      "Approx 80% complete for SRR393028_1.Trimmed.fastq\n",
      "Approx 85% complete for SRR393028_1.Trimmed.fastq\n",
      "Approx 90% complete for SRR393028_1.Trimmed.fastq\n",
      "Approx 95% complete for SRR393028_1.Trimmed.fastq\n",
      "Analysis complete for SRR393028_1.Trimmed.fastq\n",
      "Started analysis of SRR393028_2.Trimmed.fastq\n",
      "Approx 5% complete for SRR393028_2.Trimmed.fastq\n",
      "Approx 10% complete for SRR393028_2.Trimmed.fastq\n",
      "Approx 15% complete for SRR393028_2.Trimmed.fastq\n",
      "Approx 20% complete for SRR393028_2.Trimmed.fastq\n",
      "Approx 25% complete for SRR393028_2.Trimmed.fastq\n",
      "Approx 30% complete for SRR393028_2.Trimmed.fastq\n",
      "Approx 35% complete for SRR393028_2.Trimmed.fastq\n",
      "Approx 40% complete for SRR393028_2.Trimmed.fastq\n",
      "Approx 45% complete for SRR393028_2.Trimmed.fastq\n",
      "Approx 50% complete for SRR393028_2.Trimmed.fastq\n",
      "Approx 55% complete for SRR393028_2.Trimmed.fastq\n",
      "Approx 60% complete for SRR393028_2.Trimmed.fastq\n",
      "Approx 65% complete for SRR393028_2.Trimmed.fastq\n",
      "Approx 70% complete for SRR393028_2.Trimmed.fastq\n",
      "Approx 75% complete for SRR393028_2.Trimmed.fastq\n",
      "Approx 80% complete for SRR393028_2.Trimmed.fastq\n",
      "Approx 85% complete for SRR393028_2.Trimmed.fastq\n",
      "Approx 90% complete for SRR393028_2.Trimmed.fastq\n",
      "Approx 95% complete for SRR393028_2.Trimmed.fastq\n",
      "Analysis complete for SRR393028_2.Trimmed.fastq\n"
     ]
    }
   ],
   "source": [
    "#command here\n",
    "!fastqc -o ~/biol6150/ProjectSubmissions/Group8/Project1/fastQCAfterTrimming/ ~/biol6150/ProjectSubmissions/Group8/Project1/Trimming/SRR393028_1.Trimmed.fastq ~/biol6150/ProjectSubmissions/Group8/Project1/Trimming/SRR393028_2.Trimmed.fastq"
   ]
  },
  {
   "cell_type": "markdown",
   "id": "f41fbb01",
   "metadata": {},
   "source": [
    "<div class=\"alert alert-block alert-warning\">\n",
    "    <h3>6.2 Show <i>per base sequencing quality</h3>\n",
    "    <p>If the quality was falling below 20 for certain regions then trim it. Add a screenshot below</p>\n",
    "</div>"
   ]
  },
  {
   "cell_type": "markdown",
   "id": "c9f00d95",
   "metadata": {},
   "source": [
    "![6.2_picture_1.png](./6.2_picture_1.png)\n",
    "![6.2_picture_2.png](./6.2_picture_2.png)"
   ]
  },
  {
   "cell_type": "markdown",
   "id": "ccc0a690",
   "metadata": {},
   "source": [
    "Sequence quality after trimming for SRR393028_1 (top) and SRR393028_2 (bottom)."
   ]
  },
  {
   "cell_type": "markdown",
   "id": "f5d2678d",
   "metadata": {},
   "source": [
    "<div class=\"alert alert-block alert-warning\">\n",
    "    <h3>6.3 Show <i>Per base sequence content</i>?</h3>\n",
    "    <p>Ideally we shouldn't see adapters at the beginning of the reads in the fastq files. Add a screenshot below</p>\n",
    "</div>"
   ]
  },
  {
   "cell_type": "markdown",
   "id": "4b196174",
   "metadata": {},
   "source": [
    "![6.3_2.png](./6.3_2.png)"
   ]
  },
  {
   "cell_type": "markdown",
   "id": "3b7271c0",
   "metadata": {},
   "source": [
    "After trimming per base sequence content for SRR393028_1"
   ]
  },
  {
   "cell_type": "markdown",
   "id": "52f47913",
   "metadata": {},
   "source": [
    "![ContentAfterTrim_2.png](./ContentAfterTrim_2.png)"
   ]
  },
  {
   "cell_type": "markdown",
   "id": "8e24bc46",
   "metadata": {},
   "source": [
    "After trimming per base sequence content for SRR393028_2"
   ]
  }
 ],
 "metadata": {
  "kernelspec": {
   "display_name": "Python [conda env:biol6150]",
   "language": "python",
   "name": "conda-env-biol6150-py"
  },
  "language_info": {
   "codemirror_mode": {
    "name": "ipython",
    "version": 3
   },
   "file_extension": ".py",
   "mimetype": "text/x-python",
   "name": "python",
   "nbconvert_exporter": "python",
   "pygments_lexer": "ipython3",
   "version": "3.11.5"
  }
 },
 "nbformat": 4,
 "nbformat_minor": 5
}
