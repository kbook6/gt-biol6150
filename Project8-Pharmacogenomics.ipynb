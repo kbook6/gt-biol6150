{
 "cells": [
  {
   "cell_type": "markdown",
   "id": "f13fe33e",
   "metadata": {},
   "source": [
    "![logo-gt.png](attachment:logo-gt.png)"
   ]
  },
  {
   "cell_type": "markdown",
   "id": "e53587e1",
   "metadata": {},
   "source": [
    "<div class=\"alert alert-block alert-info\">\n",
    "    <h1>BIOS 4150/BIOL 6150</h1>\n",
    "    <h3>Instructor: Dr. King Jordan</h3>\n",
    "    <p>Shivam Sharma (shivamsharma13@gatech.edu), Nilavrah Sensarma (nsensarma3@gatech.edu), Bengy Gyimah-Asamoah, (bgyimaha3@gatech.edu)\n",
    "\n",
    "</p>\n",
    "</div>"
   ]
  },
  {
   "cell_type": "markdown",
   "id": "4c342f3f",
   "metadata": {},
   "source": [
    "<div class=\"alert alert-block alert-warning\">\n",
    "    <h2>Project 8 (Pharmacogenomics) starter notebook</h2>\n",
    "    <h3>Deadline: 11:59PM, November 18th, 2024</h3>\n",
    "</div>"
   ]
  },
  {
   "cell_type": "markdown",
   "id": "e3f25848",
   "metadata": {},
   "source": [
    "<div class=\"alert alert-block alert-danger\">\n",
    "    <h2>Alert!</h2>\n",
    "    <p>Do not delete any comments or information boxes the starter notebook comes with</p>\n",
    "</div>"
   ]
  },
  {
   "cell_type": "markdown",
   "id": "879a14ff",
   "metadata": {},
   "source": [
    "---"
   ]
  },
  {
   "cell_type": "markdown",
   "id": "f404ae11",
   "metadata": {},
   "source": [
    "# **1. Knowing your data**\n",
    "### *Total Questions: 3*\n",
    "### *Total Points: 5+5+20 = 30*\n",
    "\n",
    "\n",
    "---"
   ]
  },
  {
   "cell_type": "markdown",
   "id": "69ff09a1",
   "metadata": {},
   "source": [
    "<div class=\"alert alert-block alert-warning\">\n",
    "    <h3>1.1 Download the information file</h3>\n",
    "    <p>For this project, you will need to access PharmGKB annotated variants. PharmGKB has multiple resources, but we will focus on the clinical variant data file. This file should have variant-drug pairs and level of evidence for all clinical annotations.</p>\n",
    "    <p>Download the file and show top 5 lines of the file</p>\n",
    "</div>"
   ]
  },
  {
   "cell_type": "code",
   "execution_count": 1,
   "id": "6326b653",
   "metadata": {},
   "outputs": [
    {
     "name": "stdout",
     "output_type": "stream",
     "text": [
      "variant\tgene\ttype\tlevel of evidence\tchemicals\tphenotypes\r\n",
      "CYP2C9*1, CYP2C9*2, CYP2C9*3, CYP2C9*13\tCYP2C9\tMetabolism/PK\t1A\tmeloxicam\t\r\n",
      "CYP2C9*1, CYP2C9*3, CYP2C9*13\tCYP2C9\tMetabolism/PK\t1A\tlornoxicam\t\r\n",
      "CYP2C9*1, CYP2C9*2, CYP2C9*3\tCYP2C9\tMetabolism/PK\t1A\tsiponimod\t\r\n",
      "rs17376848\tDPYD\tToxicity\t1A\tcapecitabine\tNeoplasms\r\n"
     ]
    }
   ],
   "source": [
    "#Show the file here.\n",
    "!head -n 5  ~/biol6150/ProjectSubmissions/Group8/Project8/clinicalVariants.tsv"
   ]
  },
  {
   "cell_type": "markdown",
   "id": "7bd4bf19",
   "metadata": {},
   "source": [
    "<div class=\"alert alert-block alert-warning\">\n",
    "    <h3>1.2 Filter the file</h3>\n",
    "    <p>Although star alleles can be processed, we will only focus on dbSNP annotated variants (those that have rs ids)</p>\n",
    "    <p>Filter the file for dbSNP annotated variants and count them</p>\n",
    "    \n",
    "</div>"
   ]
  },
  {
   "cell_type": "code",
   "execution_count": null,
   "id": "f8ceb857",
   "metadata": {},
   "outputs": [],
   "source": [
    "#The following code was run in R (can be found under 'Project8_Final.R' in the folder 'Rcode')\n",
    "install.packages('readr')\n",
    "library(readr)\n",
    "data <- read_tsv(\"clinicalVariants.tsv\")\n",
    "filtered_data <- data[grep(\"^rs[0-9]+$\", data$variant), ]\n",
    "dim(filtered_data)\n",
    "write.table(filtered_data, file = \"filtered_clinicalVariants.tsv\", sep = \"\\t\", row.names = FALSE, col.names = TRUE, quote = FALSE)\n",
    "#The output for dim(filtered_data) is Rows: 4575 Columns: 6"
   ]
  },
  {
   "cell_type": "code",
   "execution_count": 2,
   "id": "fc73a26d",
   "metadata": {},
   "outputs": [
    {
     "name": "stdout",
     "output_type": "stream",
     "text": [
      "4576 /home/hice1/acressy3/biol6150/ProjectSubmissions/Group8/Project8/filtered_clinicalVariants.tsv\r\n"
     ]
    }
   ],
   "source": [
    "# wc -l after filtering \n",
    "!wc -l ~/biol6150/ProjectSubmissions/Group8/Project8/filtered_clinicalVariants.tsv"
   ]
  },
  {
   "cell_type": "markdown",
   "id": "277e4a68",
   "metadata": {},
   "source": [
    "4576 includes the header which means there are 4575 dbSNP annotated variants"
   ]
  },
  {
   "cell_type": "markdown",
   "id": "348f7044",
   "metadata": {},
   "source": [
    "<div class=\"alert alert-block alert-warning\">\n",
    "    <h3>1.3 Think ahead!</h3>\n",
    "    <p><b>Eventual Goal:</b> Quantify the presence of the variants obtained in Question 1.2. We will extract these variants from the 1000 genomes VCF file.</p>\n",
    "    <p>Use whatever resource you want to. The end goal is to have appropriate information about these variants obtained in 1.2.</p>\n",
    "    <p>If you have to subset a VCF file (extract variants of interest), you will need information such as CHR, POS, etc. Although you can simply use the ID column to extract variants, that might not work everywhere.</p>\n",
    "    <p>If you want to use R, please feel free to do so. Add screenshots from PACE-ICE RStudio here. Your R workflow would essentially output a nice tsv file which you use later to extract variants</p>\n",
    "    \n",
    "</div>"
   ]
  },
  {
   "cell_type": "markdown",
   "id": "898c9445",
   "metadata": {},
   "source": [
    "<div class=\"alert alert-block alert-danger\">\n",
    "    <h2>Alert!</h2>\n",
    "    <p>We do not want you to use dbSNP IDs (rs ids) to extract variants from the 1000 genomes data. The 1000 genomes file we provided you has dbSNP IDs and a simple bcftools command will do the job. But most VCF files you will come across in your work will not have dbSNP IDs. Therefore, we expect you to find relevant information about the variants obtained in Question 1.2 before moving to section 2.</p>\n",
    "</div>"
   ]
  },
  {
   "cell_type": "code",
   "execution_count": null,
   "id": "a09a205e",
   "metadata": {},
   "outputs": [],
   "source": [
    "#The end goal is to have variants "
   ]
  },
  {
   "cell_type": "code",
   "execution_count": null,
   "id": "8e98751d",
   "metadata": {},
   "outputs": [],
   "source": [
    "#After speaking with Shivam, we are moving forward using the rsIDs"
   ]
  },
  {
   "cell_type": "markdown",
   "id": "d36be296",
   "metadata": {},
   "source": [
    "# **2. Extract data**\n",
    "### *Total Questions: 2*\n",
    "### *Total Points: 5+15=20*\n",
    "\n",
    "\n",
    "---"
   ]
  },
  {
   "cell_type": "markdown",
   "id": "59e334aa",
   "metadata": {},
   "source": [
    "<div class=\"alert alert-block alert-warning\">\n",
    "    <h3>2.1 Subset the VCF files</h3>\n",
    "    <p>2.1.1 How many variants obtained in 1.2 were found in the 1000 genomes data?</p>\n",
    "    <p>2.1.2 Subset the VCF files (all chromosomes) and write the number of Pharmacogenomic variants found in chromosome 2.</p>\n",
    "</div>"
   ]
  },
  {
   "cell_type": "code",
   "execution_count": 2,
   "id": "1a683675",
   "metadata": {},
   "outputs": [],
   "source": [
    "#All commands/code goes here."
   ]
  },
  {
   "cell_type": "code",
   "execution_count": 1,
   "id": "8f6230b7",
   "metadata": {
    "scrolled": false
   },
   "outputs": [
    {
     "name": "stdout",
     "output_type": "stream",
     "text": [
      "chr 1 done\n",
      "chr 2 done\n",
      "chr 3 done\n",
      "chr 4 done\n",
      "chr 5 done\n",
      "chr 6 done\n",
      "chr 7 done\n",
      "chr 8 done\n",
      "chr 9 done\n",
      "chr 10 done\n",
      "chr 11 done\n",
      "chr 12 done\n",
      "chr 13 done\n",
      "chr 14 done\n",
      "chr 15 done\n",
      "chr 16 done\n",
      "chr 17 done\n",
      "chr 18 done\n",
      "chr 19 done\n",
      "chr 20 done\n",
      "chr 21 done\n",
      "chr 22 done\n"
     ]
    }
   ],
   "source": [
    "#Show python, R or bash code here.\n",
    "#Extract clinical variants from the 1000 genomes chromosomal data\n",
    "!bcftools view -i 'ID=@clinicalVariants_rsIDs.txt' ~/biol6150/Data/1000Genomes/phase3.chr1.GRCh38.GT.crossmap.vcf.gz > ~/biol6150/ProjectSubmissions/Group8/Project8/clinvar_1000G/clinvar_1000G_chr1.vcf\n",
    "print(\"chr 1 done\")\n",
    "!bcftools view -i 'ID=@clinicalVariants_rsIDs.txt' ~/biol6150/Data/1000Genomes/phase3.chr2.GRCh38.GT.crossmap.vcf.gz > ~/biol6150/ProjectSubmissions/Group8/Project8/clinvar_1000G/clinvar_1000G_chr2.vcf\n",
    "print(\"chr 2 done\")\n",
    "!bcftools view -i 'ID=@clinicalVariants_rsIDs.txt' ~/biol6150/Data/1000Genomes/phase3.chr3.GRCh38.GT.crossmap.vcf.gz > ~/biol6150/ProjectSubmissions/Group8/Project8/clinvar_1000G/clinvar_1000G_chr3.vcf\n",
    "print(\"chr 3 done\")\n",
    "!bcftools view -i 'ID=@clinicalVariants_rsIDs.txt' ~/biol6150/Data/1000Genomes/phase3.chr4.GRCh38.GT.crossmap.vcf.gz > ~/biol6150/ProjectSubmissions/Group8/Project8/clinvar_1000G/clinvar_1000G_chr4.vcf\n",
    "print(\"chr 4 done\")\n",
    "!bcftools view -i 'ID=@clinicalVariants_rsIDs.txt' ~/biol6150/Data/1000Genomes/phase3.chr5.GRCh38.GT.crossmap.vcf.gz > ~/biol6150/ProjectSubmissions/Group8/Project8/clinvar_1000G/clinvar_1000G_chr5.vcf\n",
    "print(\"chr 5 done\")\n",
    "!bcftools view -i 'ID=@clinicalVariants_rsIDs.txt' ~/biol6150/Data/1000Genomes/phase3.chr6.GRCh38.GT.crossmap.vcf.gz > ~/biol6150/ProjectSubmissions/Group8/Project8/clinvar_1000G/clinvar_1000G_chr6.vcf\n",
    "print(\"chr 6 done\")\n",
    "!bcftools view -i 'ID=@clinicalVariants_rsIDs.txt' ~/biol6150/Data/1000Genomes/phase3.chr7.GRCh38.GT.crossmap.vcf.gz > ~/biol6150/ProjectSubmissions/Group8/Project8/clinvar_1000G/clinvar_1000G_chr7.vcf\n",
    "print(\"chr 7 done\")\n",
    "!bcftools view -i 'ID=@clinicalVariants_rsIDs.txt' ~/biol6150/Data/1000Genomes/phase3.chr8.GRCh38.GT.crossmap.vcf.gz > ~/biol6150/ProjectSubmissions/Group8/Project8/clinvar_1000G/clinvar_1000G_chr8.vcf\n",
    "print(\"chr 8 done\")\n",
    "!bcftools view -i 'ID=@clinicalVariants_rsIDs.txt' ~/biol6150/Data/1000Genomes/phase3.chr9.GRCh38.GT.crossmap.vcf.gz > ~/biol6150/ProjectSubmissions/Group8/Project8/clinvar_1000G/clinvar_1000G_chr9.vcf\n",
    "print(\"chr 9 done\")\n",
    "!bcftools view -i 'ID=@clinicalVariants_rsIDs.txt' ~/biol6150/Data/1000Genomes/phase3.chr10.GRCh38.GT.crossmap.vcf.gz > ~/biol6150/ProjectSubmissions/Group8/Project8/clinvar_1000G/clinvar_1000G_chr10.vcf\n",
    "print(\"chr 10 done\")\n",
    "!bcftools view -i 'ID=@clinicalVariants_rsIDs.txt' ~/biol6150/Data/1000Genomes/phase3.chr11.GRCh38.GT.crossmap.vcf.gz > ~/biol6150/ProjectSubmissions/Group8/Project8/clinvar_1000G/clinvar_1000G_chr11.vcf\n",
    "print(\"chr 11 done\")\n",
    "!bcftools view -i 'ID=@clinicalVariants_rsIDs.txt' ~/biol6150/Data/1000Genomes/phase3.chr12.GRCh38.GT.crossmap.vcf.gz > ~/biol6150/ProjectSubmissions/Group8/Project8/clinvar_1000G/clinvar_1000G_chr12.vcf\n",
    "print(\"chr 12 done\")\n",
    "!bcftools view -i 'ID=@clinicalVariants_rsIDs.txt' ~/biol6150/Data/1000Genomes/phase3.chr13.GRCh38.GT.crossmap.vcf.gz > ~/biol6150/ProjectSubmissions/Group8/Project8/clinvar_1000G/clinvar_1000G_chr13.vcf\n",
    "print(\"chr 13 done\")\n",
    "!bcftools view -i 'ID=@clinicalVariants_rsIDs.txt' ~/biol6150/Data/1000Genomes/phase3.chr14.GRCh38.GT.crossmap.vcf.gz > ~/biol6150/ProjectSubmissions/Group8/Project8/clinvar_1000G/clinvar_1000G_chr14.vcf\n",
    "print(\"chr 14 done\")\n",
    "!bcftools view -i 'ID=@clinicalVariants_rsIDs.txt' ~/biol6150/Data/1000Genomes/phase3.chr15.GRCh38.GT.crossmap.vcf.gz > ~/biol6150/ProjectSubmissions/Group8/Project8/clinvar_1000G/clinvar_1000G_chr15.vcf\n",
    "print(\"chr 15 done\")\n",
    "!bcftools view -i 'ID=@clinicalVariants_rsIDs.txt' ~/biol6150/Data/1000Genomes/phase3.chr16.GRCh38.GT.crossmap.vcf.gz > ~/biol6150/ProjectSubmissions/Group8/Project8/clinvar_1000G/clinvar_1000G_chr16.vcf\n",
    "print(\"chr 16 done\")\n",
    "!bcftools view -i 'ID=@clinicalVariants_rsIDs.txt' ~/biol6150/Data/1000Genomes/phase3.chr17.GRCh38.GT.crossmap.vcf.gz > ~/biol6150/ProjectSubmissions/Group8/Project8/clinvar_1000G/clinvar_1000G_chr17.vcf\n",
    "print(\"chr 17 done\")\n",
    "!bcftools view -i 'ID=@clinicalVariants_rsIDs.txt' ~/biol6150/Data/1000Genomes/phase3.chr18.GRCh38.GT.crossmap.vcf.gz > ~/biol6150/ProjectSubmissions/Group8/Project8/clinvar_1000G/clinvar_1000G_chr18.vcf\n",
    "print(\"chr 18 done\")\n",
    "!bcftools view -i 'ID=@clinicalVariants_rsIDs.txt' ~/biol6150/Data/1000Genomes/phase3.chr19.GRCh38.GT.crossmap.vcf.gz > ~/biol6150/ProjectSubmissions/Group8/Project8/clinvar_1000G/clinvar_1000G_chr19.vcf\n",
    "print(\"chr 19 done\")\n",
    "!bcftools view -i 'ID=@clinicalVariants_rsIDs.txt' ~/biol6150/Data/1000Genomes/phase3.chr20.GRCh38.GT.crossmap.vcf.gz > ~/biol6150/ProjectSubmissions/Group8/Project8/clinvar_1000G/clinvar_1000G_chr20.vcf\n",
    "print(\"chr 20 done\")\n",
    "!bcftools view -i 'ID=@clinicalVariants_rsIDs.txt' ~/biol6150/Data/1000Genomes/phase3.chr21.GRCh38.GT.crossmap.vcf.gz > ~/biol6150/ProjectSubmissions/Group8/Project8/clinvar_1000G/clinvar_1000G_chr21.vcf\n",
    "print(\"chr 21 done\")\n",
    "!bcftools view -i 'ID=@clinicalVariants_rsIDs.txt' ~/biol6150/Data/1000Genomes/phase3.chr22.GRCh38.GT.crossmap.vcf.gz > ~/biol6150/ProjectSubmissions/Group8/Project8/clinvar_1000G/clinvar_1000G_chr22.vcf\n",
    "print(\"chr 22 done\")"
   ]
  },
  {
   "cell_type": "code",
   "execution_count": 1,
   "id": "6a5e040b",
   "metadata": {},
   "outputs": [
    {
     "name": "stdout",
     "output_type": "stream",
     "text": [
      "Checking the headers and starting positions of 22 files\n",
      "Concatenating /home/hice1/acressy3/biol6150/ProjectSubmissions/Group8/Project8/clinvar_1000G/clinvar_1000G_chr10.vcf\t0.005921 seconds\n",
      "Concatenating /home/hice1/acressy3/biol6150/ProjectSubmissions/Group8/Project8/clinvar_1000G/clinvar_1000G_chr11.vcf\t0.004811 seconds\n",
      "Concatenating /home/hice1/acressy3/biol6150/ProjectSubmissions/Group8/Project8/clinvar_1000G/clinvar_1000G_chr12.vcf\t0.004859 seconds\n",
      "Concatenating /home/hice1/acressy3/biol6150/ProjectSubmissions/Group8/Project8/clinvar_1000G/clinvar_1000G_chr13.vcf\t0.004263 seconds\n",
      "Concatenating /home/hice1/acressy3/biol6150/ProjectSubmissions/Group8/Project8/clinvar_1000G/clinvar_1000G_chr14.vcf\t0.004388 seconds\n",
      "Concatenating /home/hice1/acressy3/biol6150/ProjectSubmissions/Group8/Project8/clinvar_1000G/clinvar_1000G_chr15.vcf\t0.004561 seconds\n",
      "Concatenating /home/hice1/acressy3/biol6150/ProjectSubmissions/Group8/Project8/clinvar_1000G/clinvar_1000G_chr16.vcf\t0.004880 seconds\n",
      "Concatenating /home/hice1/acressy3/biol6150/ProjectSubmissions/Group8/Project8/clinvar_1000G/clinvar_1000G_chr17.vcf\t0.004380 seconds\n",
      "Concatenating /home/hice1/acressy3/biol6150/ProjectSubmissions/Group8/Project8/clinvar_1000G/clinvar_1000G_chr18.vcf\t0.004336 seconds\n",
      "Concatenating /home/hice1/acressy3/biol6150/ProjectSubmissions/Group8/Project8/clinvar_1000G/clinvar_1000G_chr19.vcf\t0.004855 seconds\n",
      "Concatenating /home/hice1/acressy3/biol6150/ProjectSubmissions/Group8/Project8/clinvar_1000G/clinvar_1000G_chr1.vcf\t0.005684 seconds\n",
      "Concatenating /home/hice1/acressy3/biol6150/ProjectSubmissions/Group8/Project8/clinvar_1000G/clinvar_1000G_chr20.vcf\t0.005511 seconds\n",
      "Concatenating /home/hice1/acressy3/biol6150/ProjectSubmissions/Group8/Project8/clinvar_1000G/clinvar_1000G_chr21.vcf\t0.004435 seconds\n",
      "Concatenating /home/hice1/acressy3/biol6150/ProjectSubmissions/Group8/Project8/clinvar_1000G/clinvar_1000G_chr22.vcf\t0.004398 seconds\n",
      "Concatenating /home/hice1/acressy3/biol6150/ProjectSubmissions/Group8/Project8/clinvar_1000G/clinvar_1000G_chr2.vcf\t0.005007 seconds\n",
      "Concatenating /home/hice1/acressy3/biol6150/ProjectSubmissions/Group8/Project8/clinvar_1000G/clinvar_1000G_chr3.vcf\t0.004990 seconds\n",
      "Concatenating /home/hice1/acressy3/biol6150/ProjectSubmissions/Group8/Project8/clinvar_1000G/clinvar_1000G_chr4.vcf\t0.004768 seconds\n",
      "Concatenating /home/hice1/acressy3/biol6150/ProjectSubmissions/Group8/Project8/clinvar_1000G/clinvar_1000G_chr5.vcf\t0.004691 seconds\n",
      "Concatenating /home/hice1/acressy3/biol6150/ProjectSubmissions/Group8/Project8/clinvar_1000G/clinvar_1000G_chr6.vcf\t0.005632 seconds\n",
      "Concatenating /home/hice1/acressy3/biol6150/ProjectSubmissions/Group8/Project8/clinvar_1000G/clinvar_1000G_chr7.vcf\t0.004968 seconds\n",
      "Concatenating /home/hice1/acressy3/biol6150/ProjectSubmissions/Group8/Project8/clinvar_1000G/clinvar_1000G_chr8.vcf\t0.004404 seconds\n",
      "Concatenating /home/hice1/acressy3/biol6150/ProjectSubmissions/Group8/Project8/clinvar_1000G/clinvar_1000G_chr9.vcf\t0.004582 seconds\n"
     ]
    }
   ],
   "source": [
    "#combine all of the individual chromosome .vcf files into one .vcf file\n",
    "!bcftools concat -o ~/biol6150/ProjectSubmissions/Group8/Project8/clinvar_1000G_all.vcf -O v ~/biol6150/ProjectSubmissions/Group8/Project8/clinvar_1000G/clinvar_1000G_chr*.vcf"
   ]
  },
  {
   "cell_type": "code",
   "execution_count": 1,
   "id": "e984ea66",
   "metadata": {},
   "outputs": [
    {
     "name": "stdout",
     "output_type": "stream",
     "text": [
      "2542\r\n"
     ]
    }
   ],
   "source": [
    "#check number of clinical variants found in 1000 genomes data\n",
    "!bcftools view -H ~/biol6150/ProjectSubmissions/Group8/Project8/clinvar_1000G_all.vcf | wc -l"
   ]
  },
  {
   "cell_type": "code",
   "execution_count": 3,
   "id": "1297f7a8",
   "metadata": {},
   "outputs": [
    {
     "name": "stdout",
     "output_type": "stream",
     "text": [
      "179\r\n"
     ]
    }
   ],
   "source": [
    "#check number pharmocogenomic variants found on chromosome 2\n",
    "!bcftools view -H ~/biol6150/ProjectSubmissions/Group8/Project8/clinvar_1000G/clinvar_1000G_chr2.vcf | wc -l"
   ]
  },
  {
   "cell_type": "markdown",
   "id": "41762ecc",
   "metadata": {},
   "source": [
    "2.1.1 2542 variants from 1.2 were found in the 1000 genomes data.\n",
    "\n",
    "2.1.2 There are 179 pharmacogenomic variants found on chromosome 2"
   ]
  },
  {
   "cell_type": "markdown",
   "id": "9841242e",
   "metadata": {},
   "source": [
    "# **3. Pharmacogenomic variant distribution in 1000 genomes populations**\n",
    "### *Total Steps: 3*\n",
    "### *Total Points:  25+5+20=50*\n",
    "\n",
    "\n",
    "---"
   ]
  },
  {
   "cell_type": "markdown",
   "id": "9a085bd2",
   "metadata": {},
   "source": [
    "<div class=\"alert alert-block alert-warning\">\n",
    "    <h3>3.1 Distribution by populations</h3>\n",
    "        <p>For the 26 populations present in the 1000 genomes data, show the distribution of pharmaocgenomic variant frequencies stratified by \"level of evidence\"</p><hr>\n",
    "    <h4>Step 1 - Find variant frequencies for all pharmacogenomic variants within each population.</h4>\n",
    "    <p>The end result of this step should be a TSV file which has <i>x rows and 26 + w columns</i>. x = number of pharmacogenomic variants found in 1000 genome VCF files. 26 columns represent each 1000 genome population. w will be additonal metadata about the pharmacogenomic variant such as CHR POS ID etc</p>\n",
    "    <p>This is a good exercise to implement a nice bash or python based solution where you can streamline a lot of things.</p>\n",
    "    <h4>Step 2 - Annotate variants by level of evidence</h4>\n",
    "    <p>This should be easy, just annotate them in your code or create separate files.</p>\n",
    "    <h4>Step 3 - Visualize using boxplots</h4>\n",
    "    <p>Every level of evidence will have it's set of 26 box plots showing frequency distribution of all variants </p>\n",
    "    <p>In the end you will have multiple box plot graphs like the one shown below. Each graph will correspond to a specific level of evidence as determined by PharmaGKB (1A, 1B, 2A, 2B, ... , etc)</p>\n",
    "</div>"
   ]
  },
  {
   "cell_type": "markdown",
   "id": "60d7a05e",
   "metadata": {},
   "source": [
    "![Screenshot%202024-11-06%20at%2011.55.00%20PM-2.png](attachment:Screenshot%202024-11-06%20at%2011.55.00%20PM-2.png)"
   ]
  },
  {
   "cell_type": "code",
   "execution_count": 3,
   "id": "456344d9",
   "metadata": {},
   "outputs": [],
   "source": [
    "#All work goes here."
   ]
  },
  {
   "cell_type": "code",
   "execution_count": null,
   "id": "0a5b0690",
   "metadata": {},
   "outputs": [],
   "source": [
    "#Step 1 - Find variant frequencies for all pharmacogenomic variants within each population."
   ]
  },
  {
   "cell_type": "code",
   "execution_count": 1,
   "id": "f6e68f7c",
   "metadata": {
    "scrolled": true
   },
   "outputs": [
    {
     "name": "stdout",
     "output_type": "stream",
     "text": [
      "--2024-11-17 14:40:59--  https://ftp.1000genomes.ebi.ac.uk/vol1/ftp/release/20130502/integrated_call_samples_v3.20130502.ALL.panel\n",
      "Resolving ftp.1000genomes.ebi.ac.uk (ftp.1000genomes.ebi.ac.uk)... 193.62.193.167\n",
      "Connecting to ftp.1000genomes.ebi.ac.uk (ftp.1000genomes.ebi.ac.uk)|193.62.193.167|:443... connected.\n",
      "HTTP request sent, awaiting response... 200 OK\n",
      "Length: 55156 (54K)\n",
      "Saving to: ‘integrated_call_samples_v3.20130502.ALL.panel.1’\n",
      "\n",
      "integrated_call_sam 100%[===================>]  53.86K   191KB/s    in 0.3s    \n",
      "\n",
      "2024-11-17 14:41:00 (191 KB/s) - ‘integrated_call_samples_v3.20130502.ALL.panel.1’ saved [55156/55156]\n",
      "\n"
     ]
    }
   ],
   "source": [
    "#download the population info file\n",
    "!wget https://ftp.1000genomes.ebi.ac.uk/vol1/ftp/release/20130502/integrated_call_samples_v3.20130502.ALL.panel"
   ]
  },
  {
   "cell_type": "code",
   "execution_count": 1,
   "id": "3fa7437f",
   "metadata": {},
   "outputs": [],
   "source": [
    "#Associate individuals with their variants (based on chromosome position not rsIDs)\n",
    "!bcftools query -i 'GT~\"1\"' -f '%CHROM\\t%POS\\t[%SAMPLE\\n]' ~/biol6150/ProjectSubmissions/Group8/Project8/clinvar_1000G_all.vcf > ~/biol6150/ProjectSubmissions/Group8/Project8/individuals_with_variants.txt"
   ]
  },
  {
   "cell_type": "code",
   "execution_count": 2,
   "id": "b9eb9a0e",
   "metadata": {},
   "outputs": [],
   "source": [
    "#Associate individuals with their populations\n",
    "!sort -k1,1 ~/biol6150/ProjectSubmissions/Group8/Project8/integrated_call_samples_v3.20130502.ALL.panel > ~/biol6150/ProjectSubmissions/Group8/Project8/sorted_panel.txt\n",
    "!sort -k3,3 ~/biol6150/ProjectSubmissions/Group8/Project8/individuals_with_variants.txt > ~/biol6150/ProjectSubmissions/Group8/Project8/sorted_individuals.txt\n",
    "!join -1 3 -2 1 ~/biol6150/ProjectSubmissions/Group8/Project8/sorted_individuals.txt ~/biol6150/ProjectSubmissions/Group8/Project8/sorted_panel.txt > ~/biol6150/ProjectSubmissions/Group8/Project8/individuals_with_population.txt"
   ]
  },
  {
   "cell_type": "code",
   "execution_count": 1,
   "id": "bb76cba1",
   "metadata": {},
   "outputs": [],
   "source": [
    "#converting the 1000 genomes clinical variants .vcf file into a .tsv file\n",
    "!bcftools query -f '%CHROM\\t%POS\\t%ID\\t%REF\\t%ALT[\\t%SAMPLE=%GT]\\n' ~/biol6150/ProjectSubmissions/Group8/Project8/clinvar_1000G_all.vcf > ~/biol6150/ProjectSubmissions/Group8/Project8/clinvar_1000G.tsv"
   ]
  },
  {
   "cell_type": "code",
   "execution_count": 1,
   "id": "22f312ef",
   "metadata": {},
   "outputs": [],
   "source": [
    "#making a .tsv file containing sampleID and population\n",
    "!cut -f 1,2 ~/biol6150/ProjectSubmissions/Group8/Project8/integrated_call_samples_v3.20130502.ALL.panel > ~/biol6150/ProjectSubmissions/Group8/Project8/sample_to_population.tsv"
   ]
  },
  {
   "cell_type": "code",
   "execution_count": 1,
   "id": "7673e0a1",
   "metadata": {
    "scrolled": true
   },
   "outputs": [
    {
     "name": "stdout",
     "output_type": "stream",
     "text": [
      "     CHR      POS          ID REF ALT   Sample   GT\n",
      "0  chr10  4198678  rs11252394   G   A  HG00096  1|0\n",
      "1  chr10  4768369   rs1901633   A   G  HG00096  1|0\n",
      "2  chr10  5099115   rs1937840   C   G  HG00096  1|0\n",
      "3  chr10  5102576  rs62621365   C   T  HG00096  0|0\n",
      "4  chr10  5205791  rs11253043   G   A  HG00096  0|0\n",
      "     CHR      POS          ID REF ALT   Sample   GT Sample_ID Population\n",
      "0  chr10  4198678  rs11252394   G   A  HG00096  1|0   HG00096        GBR\n",
      "1  chr10  4768369   rs1901633   A   G  HG00096  1|0   HG00096        GBR\n",
      "2  chr10  5099115   rs1937840   C   G  HG00096  1|0   HG00096        GBR\n",
      "3  chr10  5102576  rs62621365   C   T  HG00096  0|0   HG00096        GBR\n",
      "4  chr10  5205791  rs11253043   G   A  HG00096  0|0   HG00096        GBR\n",
      "    CHR       POS         ID REF ALT Population  Variant_Count  Total_Samples  \\\n",
      "0  chr1  11238733  rs2024627   T   C        ACB             56             96   \n",
      "1  chr1  11792243  rs1476413   C   T        ACB             31             96   \n",
      "2  chr1  11794400  rs4846051   G   A        ACB             88             96   \n",
      "3  chr1  11794419  rs1801131   T   G        ACB             33             96   \n",
      "4  chr1  11796321  rs1801133   G   A        ACB             19             96   \n",
      "\n",
      "   Frequency  \n",
      "0   0.583333  \n",
      "1   0.322917  \n",
      "2   0.916667  \n",
      "3   0.343750  \n",
      "4   0.197917  \n",
      "Population   CHR       POS         ID REF ALT       ACB       ASW       BEB  \\\n",
      "0           chr1  11238733  rs2024627   T   C  0.583333  0.672131  0.976744   \n",
      "1           chr1  11792243  rs1476413   C   T  0.322917  0.311475  0.720930   \n",
      "2           chr1  11794400  rs4846051   G   A  0.916667  0.934426  1.000000   \n",
      "3           chr1  11794419  rs1801131   T   G  0.343750  0.377049  0.662791   \n",
      "4           chr1  11796321  rs1801133   G   A  0.197917  0.213115  0.244186   \n",
      "\n",
      "Population       CDX       CEU  ...       KHV       LWK       MSL       MXL  \\\n",
      "0           1.000000  0.919192  ...  1.000000  0.515152  0.635294  0.906250   \n",
      "1           0.559140  0.484848  ...  0.494949  0.303030  0.258824  0.296875   \n",
      "2           1.000000  1.000000  ...  1.000000  0.909091  0.905882  1.000000   \n",
      "3           0.526882  0.535354  ...  0.484848  0.323232  0.258824  0.312500   \n",
      "4           0.247312  0.494949  ...  0.343434  0.141414  0.152941  0.734375   \n",
      "\n",
      "Population       PEL       PJL       PUR       STU       TSI       YRI  \n",
      "0           0.988235  0.979167  0.923077  0.990196  0.934579  0.509259  \n",
      "1           0.152941  0.645833  0.355769  0.647059  0.476636  0.240741  \n",
      "2           1.000000  1.000000  1.000000  1.000000  1.000000  0.851852  \n",
      "3           0.152941  0.656250  0.384615  0.598039  0.514019  0.240741  \n",
      "4           0.682353  0.270833  0.750000  0.166667  0.691589  0.212963  \n",
      "\n",
      "[5 rows x 31 columns]\n"
     ]
    }
   ],
   "source": [
    "import pandas as pd\n",
    "\n",
    "# Assign column names manually since the .tsv file doesn't have any\n",
    "expected_columns = [\"CHR\", \"POS\", \"ID\", \"REF\", \"ALT\"]\n",
    "\n",
    "# Extend the list with generic sample-genotype names\n",
    "with open(\"clinvar_1000G.tsv\") as file:\n",
    "    sample_columns = [f\"Sample_{i}\" for i in range(\n",
    "        len(file.readline().strip().split(\"\\t\")) - len(expected_columns)\n",
    "    )]\n",
    "columns = expected_columns + sample_columns\n",
    "\n",
    "# Load the file with specified column names\n",
    "variants = pd.read_csv(\"clinvar_1000G.tsv\", sep=\"\\t\", header=None, names=columns)\n",
    "\n",
    "# Reshape the DataFrame to long format\n",
    "variants_long = variants.melt(\n",
    "    id_vars=[\"CHR\", \"POS\", \"ID\", \"REF\", \"ALT\"],  # Metadata columns\n",
    "    var_name=\"Sample_GT\",  # New column for sample-genotype pairs\n",
    "    value_name=\"Genotype\"  # Genotype values\n",
    ")\n",
    "\n",
    "# Split the 'Genotype' column into 'Sample' and 'GT'\n",
    "variants_long[[\"Sample\", \"GT\"]] = variants_long[\"Genotype\"].str.split(\"=\", expand=True)\n",
    "\n",
    "# Drop the now unnecessary columns for clarity\n",
    "variants_long = variants_long.drop(columns=[\"Sample_GT\", \"Genotype\"])\n",
    "\n",
    "# Verify the result\n",
    "print(variants_long.head())\n",
    "\n",
    "# Load the panel file which links sample IDs to population names\n",
    "panel = pd.read_csv(\"sample_to_population.tsv\", sep=\"\\t\", names=[\"Sample_ID\", \"Population\"])\n",
    "\n",
    "# Merge the population data with the genotype data\n",
    "merged = variants_long.merge(panel, left_on=\"Sample\", right_on=\"Sample_ID\", how=\"left\")\n",
    "\n",
    "# Check merged result\n",
    "print(merged.head())\n",
    "\n",
    "# To make the kernel less stressed out\n",
    "# Delete large variables that aren't being used anymore\n",
    "del variants\n",
    "\n",
    "# **Calculate variant frequency instead of genotype frequency**\n",
    "\n",
    "# Create a column indicating the presence of the variant (i.e., GT is not 0|0)\n",
    "merged['Variant_Present'] = merged['GT'].apply(lambda x: 1 if x != '0|0' else 0)\n",
    "\n",
    "# Count the number of samples with each variant (variant present = 1)\n",
    "variant_counts = merged.groupby([\"CHR\", \"POS\", \"ID\", \"REF\", \"ALT\", \"Population\"])[\"Variant_Present\"].sum().reset_index(name=\"Variant_Count\")\n",
    "\n",
    "# Calculate the total number of individuals in each population\n",
    "total_samples = merged.groupby([\"Population\"])[\"Sample\"].nunique().reset_index(name=\"Total_Samples\")\n",
    "\n",
    "# Merge the total sample count into the variant counts\n",
    "variant_counts = variant_counts.merge(total_samples, on=\"Population\")\n",
    "\n",
    "# Calculate the frequency of each variant\n",
    "variant_counts[\"Frequency\"] = variant_counts[\"Variant_Count\"] / variant_counts[\"Total_Samples\"]\n",
    "\n",
    "# Check the resulting frequencies\n",
    "print(variant_counts.head())\n",
    "\n",
    "# Pivot the data to have population columns\n",
    "final_variant_data = variant_counts.pivot_table(\n",
    "    index=[\"CHR\", \"POS\", \"ID\", \"REF\", \"ALT\"],\n",
    "    columns=\"Population\",\n",
    "    values=\"Frequency\",\n",
    "    aggfunc=\"first\"\n",
    ").reset_index()\n",
    "\n",
    "# Check the final structure\n",
    "print(final_variant_data.head())\n",
    "\n",
    "# Save the final result to a TSV file\n",
    "final_variant_data.to_csv(\"final_variant_frequencies.tsv\", sep=\"\\t\", index=False)"
   ]
  },
  {
   "cell_type": "code",
   "execution_count": 1,
   "id": "d603c957",
   "metadata": {
    "scrolled": true
   },
   "outputs": [
    {
     "name": "stdout",
     "output_type": "stream",
     "text": [
      "2542\r\n"
     ]
    }
   ],
   "source": [
    "#Make sure that the number of rows = number of clinical variants found in 1000 genomes\n",
    "!awk 'NR > 1' ~/biol6150/ProjectSubmissions/Group8/Project8/final_variant_frequencies.tsv | wc -l"
   ]
  },
  {
   "cell_type": "code",
   "execution_count": null,
   "id": "8d481df8",
   "metadata": {},
   "outputs": [],
   "source": [
    "#Step 2 - Annotate variants by level of evidence"
   ]
  },
  {
   "cell_type": "code",
   "execution_count": null,
   "id": "75328e92",
   "metadata": {},
   "outputs": [],
   "source": [
    "#The following was used in R to add the levels of evidence to each variant\n",
    "#All R code 'Project8_Final.R' in the folder 'Rcode'\n",
    "#Output files are also found in the folder 'Rcode'\n",
    "\n",
    "# Extract the rsid (1st column) and level of evidence (4th column)\n",
    "# filtered_data was defined in Part 1 \"Knowing your data\"\n",
    "level_of_evidence_data <- filtered_data[, c(1, 4)]\n",
    "colnames(level_of_evidence_data) <- c(\"ID\", \"Level_of_Evidence\")\n",
    "# Save the level of evidence data to a new file\n",
    "write.table(level_of_evidence_data, \"variant_levels_annotated.tsv\", sep = \"\\t\", row.names = FALSE, col.names = TRUE)\n",
    "# Read the file we just created in Step 2\n",
    "final_fequency <-  fread(\"final_variant_frequencies.tsv\", sep = \"\\t\")\n",
    "# Remove duplicates fro the level of evidence data and merge the .tsv files to create the annotated variants .tsv file\n",
    "level_of_evidence_data_unique <- level_of_evidence_data[!duplicated(level_of_evidence_data$ID), ]\n",
    "merged_data <- merge(final_fequency, level_of_evidence_data_unique, by = \"ID\", all.x = TRUE)\n",
    "write.table(merged_data, \"annotated_variant_frequencies.tsv\", sep = \"\\t\", row.names = FALSE, col.names = TRUE)"
   ]
  },
  {
   "cell_type": "code",
   "execution_count": 3,
   "id": "775a6be8",
   "metadata": {},
   "outputs": [
    {
     "name": "stdout",
     "output_type": "stream",
     "text": [
      "\"ID\"\t\"CHR\"\t\"POS\"\t\"REF\"\t\"ALT\"\t\"ACB\"\t\"ASW\"\t\"BEB\"\t\"CDX\"\t\"CEU\"\t\"CHB\"\t\"CHS\"\t\"CLM\"\t\"ESN\"\t\"FIN\"\t\"GBR\"\t\"GIH\"\t\"GWD\"\t\"IBS\"\t\"ITU\"\t\"JPT\"\t\"KHV\"\t\"LWK\"\t\"MSL\"\t\"MXL\"\t\"PEL\"\t\"PJL\"\t\"PUR\"\t\"STU\"\t\"TSI\"\t\"YRI\"\t\"Level_of_Evidence\"\r\n",
      "\"rs10007051\"\t\"chr4\"\t129244309\t\"C\"\t\"T\"\t0.59375\t0.557377049180328\t0.63953488372093\t0.795698924731183\t0.505050505050505\t0.660194174757282\t0.733333333333333\t0.382978723404255\t0.636363636363636\t0.555555555555556\t0.516483516483517\t0.543689320388349\t0.548672566371681\t0.448598130841121\t0.627450980392157\t0.701923076923077\t0.787878787878788\t0.555555555555556\t0.647058823529412\t0.296875\t0.164705882352941\t0.635416666666667\t0.471153846153846\t0.53921568627451\t0.495327102803738\t0.592592592592593\t\"3\"\r\n",
      "\"rs1000940\"\t\"chr17\"\t5379957\t\"A\"\t\"G\"\t0.354166666666667\t0.409836065573771\t0.697674418604651\t0.903225806451613\t0.474747474747475\t0.796116504854369\t0.885714285714286\t0.617021276595745\t0.313131313131313\t0.737373737373737\t0.626373626373626\t0.621359223300971\t0.52212389380531\t0.532710280373832\t0.696078431372549\t0.836538461538462\t0.797979797979798\t0.424242424242424\t0.411764705882353\t0.578125\t0.611764705882353\t0.6875\t0.557692307692308\t0.794117647058823\t0.551401869158878\t0.37962962962963\t\"3\"\r\n"
     ]
    }
   ],
   "source": [
    "#Showing the first 3 lines of the file\n",
    "!head -n 3 ~/biol6150/ProjectSubmissions/Group8/Project8/Rcode/annotated_variant_frequencies.tsv"
   ]
  },
  {
   "cell_type": "code",
   "execution_count": 1,
   "id": "3e18b4bc",
   "metadata": {},
   "outputs": [
    {
     "name": "stdout",
     "output_type": "stream",
     "text": [
      "2542\r\n"
     ]
    }
   ],
   "source": [
    "#Make sure that the number of rows = number of clinical variants found in 1000 genomes\n",
    "!awk 'NR > 1' ~/biol6150/ProjectSubmissions/Group8/Project8/Rcode/annotated_variant_frequencies.tsv | wc -l"
   ]
  },
  {
   "cell_type": "code",
   "execution_count": null,
   "id": "04d2a53b",
   "metadata": {},
   "outputs": [],
   "source": [
    "#Step 3 - Visualize using boxplots"
   ]
  },
  {
   "cell_type": "code",
   "execution_count": null,
   "id": "c4e0ca3a",
   "metadata": {},
   "outputs": [],
   "source": [
    "##### Step 3 - Visualize using boxplots ####\n",
    "#All R code 'Project8_Final.R' in the folder 'Rcode'\n",
    "#Output files are also found in the folder 'Rcode'\n",
    "\n",
    "## Assign superpopulations to the populations\n",
    "# Define the list of population codes\n",
    "populations <- c(\"ACB\", \"ASW\", \"BEB\", \"CDX\", \"CEU\", \"CHB\", \"CHS\", \"CLM\", \"ESN\", \n",
    "                 \"FIN\", \"GBR\", \"GIH\", \"GWD\", \"IBS\", \"ITU\", \"JPT\", \"KHV\", \"LWK\", \n",
    "                 \"MSL\", \"MXL\", \"PEL\", \"PJL\", \"PUR\", \"STU\", \"TSI\", \"YRI\")\n",
    "# Define the superpopulations associations\n",
    "superpopulations <- c(\n",
    "  \"ACB\" = \"AFR\", \"ASW\" = \"AFR\", \"BEB\" = \"SAS\", \"CDX\" = \"EAS\", \n",
    "  \"CEU\" = \"EUR\", \"CHB\" = \"EAS\", \"CHS\" = \"EAS\", \"CLM\" = \"AMR\", \n",
    "  \"ESN\" = \"AFR\", \"FIN\" = \"EUR\", \"GBR\" = \"EUR\", \"GIH\" = \"SAS\", \n",
    "  \"GWD\" = \"AFR\", \"IBS\" = \"EUR\", \"ITU\" = \"EAS\", \"JPT\" = \"EAS\", \n",
    "  \"KHV\" = \"EAS\", \"LWK\" = \"AFR\", \"MSL\" = \"AFR\", \"MXL\" = \"AMR\", \n",
    "  \"PEL\" = \"AMR\", \"PJL\" = \"SAS\", \"PUR\" = \"AMR\", \"STU\" = \"SAS\", \n",
    "  \"TSI\" = \"EUR\", \"YRI\" = \"AFR\"\n",
    ")\n",
    "# Create a vector of superpopulations based on the population codes\n",
    "pop_to_super <- superpopulations[populations]\n",
    "# Convert to a data frame for better readability\n",
    "pop_super_df <- data.frame(Population = populations, Superpopulation = pop_to_super)\n",
    "\n",
    "## Create a new table that adds a superpopulation based on the population and turns populations into a variable rather than a column\n",
    "#This should make boxplots easier to make\n",
    "merged_data_long <- merged_data %>%\n",
    "  pivot_longer(cols = all_of(populations), \n",
    "               names_to = \"Population\", \n",
    "               values_to = \"Genotype\") %>%\n",
    "  mutate(Superpopulation = superpopulations[Population])\n",
    "\n",
    "# Ensure 'Population' is ordered by 'Superpopulation'\n",
    "# This makes the graph look more clean and organized in the end\n",
    "merged_data_long$Population <- factor(merged_data_long$Population, \n",
    "                                      levels = unique(merged_data_long$Population[order(merged_data_long$Superpopulation)]))\n",
    "\n",
    "# Check what all of the levels of evidence we have are\n",
    "unique(merged_data_long$Level_of_Evidence)\n",
    "# Create a levels of evidence factor to help create separate plots\n",
    "merged_data_long$Level_of_Evidence <- factor(merged_data_long$Level_of_Evidence, \n",
    "                                             levels = c(\"1A\", \"1B\", \"2A\", \"2B\", \"3\", \"4\"))\n",
    "\n",
    "# Loop over each level of evidence to create a separate boxplot\n",
    "for(level in levels(merged_data_long$Level_of_Evidence)) {\n",
    "  # Filter the data for the current level of evidence\n",
    "  data_subset <- merged_data_long %>% filter(Level_of_Evidence == level)\n",
    "  \n",
    "  # Create and save the boxplots\n",
    "  p <- ggplot(data_subset, aes(x = Population, y = Genotype, fill = Superpopulation)) + \n",
    "    geom_boxplot() + \n",
    "    scale_fill_manual(values = c(\"AFR\" = \"lightblue\", \"EUR\" = \"pink\", \"SAS\" = \"lightgreen\", \"EAS\" = \"mediumpurple1\", \"AMR\" = \"lightsalmon\")) +  # Assign colors\n",
    "    theme_minimal() + \n",
    "    theme(axis.text.x = element_text(angle = 90, hjust = 1)) +  # Rotate x-axis labels for readability\n",
    "    labs(title = paste(\"Variant Frequency Distribution for Level of Evidence\", level), # Create labels\n",
    "         x = \"Population\", \n",
    "         y = \"Variant Frequency\",\n",
    "         fill = \"Superpopulation\")\n",
    "  \n",
    "  # Print and save the plot\n",
    "  print(p)\n",
    "  ggsave(paste0(\"Boxplot_Level_\", level, \".png\"), plot = p, width = 10, height = 6)\n",
    "}\n",
    "\n",
    "#Plots are listed below"
   ]
  },
  {
   "attachments": {},
   "cell_type": "markdown",
   "id": "52390442",
   "metadata": {},
   "source": [
    "![Boxplot_Level_1A.png](attachment:Boxplot_Level_1A.png)"
   ]
  },
  {
   "attachments": {},
   "cell_type": "markdown",
   "id": "d4794ea2",
   "metadata": {},
   "source": [
    "![Boxplot_Level_1B.png](attachment:Boxplot_Level_1B.png)"
   ]
  },
  {
   "attachments": {},
   "cell_type": "markdown",
   "id": "c5b503e9",
   "metadata": {},
   "source": [
    "![Boxplot_Level_2A.png](attachment:Boxplot_Level_2A.png)"
   ]
  },
  {
   "attachments": {},
   "cell_type": "markdown",
   "id": "fab29896",
   "metadata": {},
   "source": [
    "![Boxplot_Level_2B.png](attachment:Boxplot_Level_2B.png)"
   ]
  },
  {
   "attachments": {},
   "cell_type": "markdown",
   "id": "22808cb9",
   "metadata": {},
   "source": [
    "![Boxplot_Level_3.png](attachment:Boxplot_Level_3.png)"
   ]
  },
  {
   "attachments": {},
   "cell_type": "markdown",
   "id": "46275b6c",
   "metadata": {},
   "source": [
    "![Boxplot_Level_4.png](attachment:Boxplot_Level_4.png)"
   ]
  },
  {
   "cell_type": "markdown",
   "id": "c17fb2d4",
   "metadata": {},
   "source": [
    "We have used the suggested method of inserting pictures and apologize if you cannot see them in the notebook. All pictures are also listed in the \"BOXPLOTS\" folder within our Project8 folder."
   ]
  },
  {
   "cell_type": "markdown",
   "id": "ddf98537",
   "metadata": {},
   "source": [
    "<div class=\"alert alert-block alert-danger\">\n",
    "    <h2>Alert!</h2>\n",
    "    <p>If you use R, please provide ample evidence of work.</p>\n",
    "    <p>For R use, you should add appropriate screenshots and the R code here in this notebook as well. R code might not run for you on PACE-ICE Jupyter engine right now, but it will work for anyone replicating this work somehwere else (that anyone could be the \"future you\")</p>\n",
    "</div>"
   ]
  },
  {
   "cell_type": "code",
   "execution_count": null,
   "id": "66688c2d",
   "metadata": {},
   "outputs": [],
   "source": []
  }
 ],
 "metadata": {
  "kernelspec": {
   "display_name": "Python [conda env:biol6150]",
   "language": "python",
   "name": "conda-env-biol6150-py"
  },
  "language_info": {
   "codemirror_mode": {
    "name": "ipython",
    "version": 3
   },
   "file_extension": ".py",
   "mimetype": "text/x-python",
   "name": "python",
   "nbconvert_exporter": "python",
   "pygments_lexer": "ipython3",
   "version": "3.11.5"
  }
 },
 "nbformat": 4,
 "nbformat_minor": 5
}
