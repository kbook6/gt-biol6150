{
 "cells": [
  {
   "cell_type": "markdown",
   "id": "f13fe33e",
   "metadata": {},
   "source": [
    "![logo-gt.png](attachment:logo-gt.png)"
   ]
  },
  {
   "cell_type": "markdown",
   "id": "e53587e1",
   "metadata": {},
   "source": [
    "<div class=\"alert alert-block alert-info\">\n",
    "    <h1>BIOS 4150/BIOL 6150</h1>\n",
    "    <h3>Instructor: Dr. King Jordan</h3>\n",
    "    <p>Shivam Sharma (shivamsharma13@gatech.edu), Nilavrah Sensarma (nsensarma3@gatech.edu), Bengy Gyimah-Asamoah, (bgyimaha3@gatech.edu)\n",
    "\n",
    "</p>\n",
    "</div>"
   ]
  },
  {
   "cell_type": "markdown",
   "id": "4c342f3f",
   "metadata": {},
   "source": [
    "<div class=\"alert alert-block alert-warning\">\n",
    "    <h2>Project 3 (Variant Calling) starter notebook (100 points)</h2>\n",
    "    <h3>Deadline: 11:59PM, October 7th, 2024</h3>\n",
    "</div>"
   ]
  },
  {
   "cell_type": "markdown",
   "id": "e3f25848",
   "metadata": {},
   "source": [
    "<div class=\"alert alert-block alert-danger\">\n",
    "    <h2>Alert!</h2>\n",
    "    <p>Do not delete any comments or information boxes the starter notebook comes with</p>\n",
    "</div>"
   ]
  },
  {
   "cell_type": "markdown",
   "id": "879a14ff",
   "metadata": {},
   "source": [
    "---"
   ]
  },
  {
   "cell_type": "markdown",
   "id": "f404ae11",
   "metadata": {},
   "source": [
    "# **1. Getting ready for variant calling**\n",
    "### *Total Questions: 6*\n",
    "### *Total Points: 5 + 10 + 5 + 20 + 5 + 20 = 65*\n",
    "\n",
    "\n",
    "---"
   ]
  },
  {
   "cell_type": "markdown",
   "id": "69ff09a1",
   "metadata": {},
   "source": [
    "<div class=\"alert alert-block alert-warning\">\n",
    "    <h3>1.1 Check your SAM file (you can also convert your SAM file to a BAM file and do the exercises on that)</h3>\n",
    "    <p>1.1.1 We will start from where we left off in Project #2. We want to make sure that we are using the corrent SAM file.</p>\n",
    "    <p>1.1.2 Show that your SAM file is sorted</p>\n",
    "    \n",
    "</div>"
   ]
  },
  {
   "cell_type": "code",
   "execution_count": 2,
   "id": "51df61f4",
   "metadata": {},
   "outputs": [],
   "source": [
    "#Check you SAM file here."
   ]
  },
  {
   "cell_type": "code",
   "execution_count": 3,
   "id": "d2a6a8f4",
   "metadata": {},
   "outputs": [],
   "source": [
    "#Show that your SAM file is sorted by genomic coordinates."
   ]
  },
  {
   "cell_type": "code",
   "execution_count": 1,
   "id": "6366633c",
   "metadata": {
    "scrolled": true
   },
   "outputs": [
    {
     "name": "stdout",
     "output_type": "stream",
     "text": [
      "@HD\tVN:1.6\tSO:coordinate\r\n",
      "@SQ\tSN:chr1\tLN:248956422\r\n",
      "@SQ\tSN:chr10\tLN:133797422\r\n",
      "@SQ\tSN:chr11\tLN:135086622\r\n",
      "@SQ\tSN:chr11_KI270721v1_random\tLN:100316\r\n",
      "@SQ\tSN:chr12\tLN:133275309\r\n",
      "@SQ\tSN:chr13\tLN:114364328\r\n",
      "@SQ\tSN:chr14\tLN:107043718\r\n",
      "@SQ\tSN:chr14_GL000009v2_random\tLN:201709\r\n",
      "@SQ\tSN:chr14_GL000225v1_random\tLN:211173\r\n"
     ]
    }
   ],
   "source": [
    "#This was done in last project, but we want to check the sorted file again.\n",
    "!head ~/biol6150/ProjectSubmissions/Group8/Project2/ReadAlignment/SRR393028.sorted.sam"
   ]
  },
  {
   "cell_type": "markdown",
   "id": "aaa21a7a",
   "metadata": {},
   "source": [
    "We know that the SAM file is sorted by genomic coordinates because the first line of the file (@HD) says coordinate after SO (sort order)."
   ]
  },
  {
   "cell_type": "markdown",
   "id": "8943fedb",
   "metadata": {},
   "source": [
    "<div class=\"alert alert-block alert-warning\">\n",
    "    <h3>1.2 Basic statistics of your SAM file</h3>\n",
    "    <p>Get basic stats of your SAM/BAM file. Use SAMstats to see what summary information can you get from the tool. </p>\n",
    "</div>"
   ]
  },
  {
   "cell_type": "code",
   "execution_count": 1,
   "id": "3a97fced",
   "metadata": {},
   "outputs": [
    {
     "name": "stdout",
     "output_type": "stream",
     "text": [
      "usage: SAMstats [-h] --sorted_sam_file SORTED_SAM_FILE [--outf OUTF]\r\n",
      "                [--chunk_size CHUNK_SIZE]\r\n",
      "\r\n",
      "Compute SAM file mapping statistics for a SAM file sorted by read name\r\n",
      "\r\n",
      "options:\r\n",
      "  -h, --help            show this help message and exit\r\n",
      "  --sorted_sam_file SORTED_SAM_FILE\r\n",
      "                        Input SAM file. Use '-' if input is being piped from\r\n",
      "                        stdin. File must be sorted by read name.\r\n",
      "  --outf OUTF           Output file name to store alignment statistics. The\r\n",
      "                        statistics will be printed to stdout if no file is\r\n",
      "                        provided\r\n",
      "  --chunk_size CHUNK_SIZE\r\n",
      "                        Number of lines to read a time from sortedSamFile\r\n"
     ]
    }
   ],
   "source": [
    "# See what SAMStats can give you.\n",
    "!SAMstats --help"
   ]
  },
  {
   "cell_type": "markdown",
   "id": "90f33e55",
   "metadata": {},
   "source": [
    "<div class=\"alert alert-block alert-warning\">\n",
    "    <h3>1.3 The pieleup format</h3>\n",
    "    <p><b>1.3.1</b> A lot of variant callers use the pielup format for calling variants from SAM file. Explain in 2-3 lines what is the pileup format?</p>\n",
    "    <p><b>1.3.2</b> Explain the 6 columns of a pielup format file in your own words.</p>\n",
    "</div>"
   ]
  },
  {
   "cell_type": "code",
   "execution_count": null,
   "id": "725bd049",
   "metadata": {},
   "outputs": [],
   "source": [
    "#Information about the pileup format."
   ]
  },
  {
   "cell_type": "markdown",
   "id": "7aa28891",
   "metadata": {},
   "source": [
    "The pileup format is a readable text output so that humans can understand the information the VCF has about the chromosome variants. The format is generally as follows: Chromosome Position ReferenceBase NumberOfReads AlignedBases. The pileup format  uses characters that correspond to specific indentifiers. "
   ]
  },
  {
   "cell_type": "code",
   "execution_count": 6,
   "id": "658cf70e",
   "metadata": {},
   "outputs": [],
   "source": [
    "#Information about the 6 fields of the pieleup format file.\n",
    "#Write one sentence for each file."
   ]
  },
  {
   "cell_type": "markdown",
   "id": "951c2bcf",
   "metadata": {},
   "source": [
    "Column 1 is the sequence identifier, usually the chromosome. \n",
    "Column 2 is the position on the chromosome. \n",
    "Column 3 is the reference base at that position. \n",
    "Column 4 is the coverage depth, which is the number of reads for the chosen position. \n",
    "Column 5 is the read results, which are characterized by different symbols that correspond to various identifiers. This is usually a string of the coverage depth number of characters for each read at the chosen position. \n",
    "Column 6 is an optional column and it holds the Phred score."
   ]
  },
  {
   "cell_type": "markdown",
   "id": "de23fff0",
   "metadata": {},
   "source": [
    "<div class=\"alert alert-block alert-warning\">\n",
    "    <h3>1.4 Create the pileup file</h3>\n",
    "    <p>Using samtools, create the pileup file for the SAM file of your 1000 genomes individuals</p>\n",
    "</div>"
   ]
  },
  {
   "cell_type": "code",
   "execution_count": 1,
   "id": "741ddebd",
   "metadata": {},
   "outputs": [
    {
     "name": "stdout",
     "output_type": "stream",
     "text": [
      "total 4.1G\r\n",
      "-rwxr-xr-x. 1 acressy3 gtperson 3.1G Oct  7 14:26 hg38.fa\r\n",
      "-rwxr-xr-x. 1 acressy3 gtperson 1.1G Oct  7 14:26 SRR393028.sorted.sam\r\n"
     ]
    }
   ],
   "source": [
    "#copy the files to project 3\n",
    "!mkdir -p ~/biol6150/ProjectSubmissions/Group8/Project3/VariantCalling\n",
    "!cp ~/biol6150/ProjectSubmissions/Group8/Project2/ReadAlignment/hg38.fa ~/biol6150/ProjectSubmissions/Group8/Project3/VariantCalling\n",
    "!cp ~/biol6150/ProjectSubmissions/Group8/Project2/ReadAlignment/SRR393028.sorted.sam ~/biol6150/ProjectSubmissions/Group8/Project3/VariantCalling\n",
    "\n",
    "!ls -lh ~/biol6150/ProjectSubmissions/Group8/Project3/VariantCalling"
   ]
  },
  {
   "cell_type": "code",
   "execution_count": 1,
   "id": "4ac166ab",
   "metadata": {},
   "outputs": [
    {
     "name": "stdout",
     "output_type": "stream",
     "text": [
      "[mpileup] 1 samples in 1 input files\r\n"
     ]
    }
   ],
   "source": [
    "#Your command for pileup here.\n",
    "!samtools mpileup -f ~/biol6150/ProjectSubmissions/Group8/Project3/VariantCalling/hg38.fa ~/biol6150/ProjectSubmissions/Group8/Project3/VariantCalling/SRR393028.sorted.sam > ~/biol6150/ProjectSubmissions/Group8/Project3/VariantCalling/SRR393028.mpileup"
   ]
  },
  {
   "cell_type": "code",
   "execution_count": 1,
   "id": "15c81b8b",
   "metadata": {},
   "outputs": [
    {
     "name": "stdout",
     "output_type": "stream",
     "text": [
      "First 10 lines\n",
      "chr1\t11132\tg\t1\t^!.\t?\n",
      "chr1\t11133\tt\t1\t.\t?\n",
      "chr1\t11134\ta\t1\t.\t?\n",
      "chr1\t11135\tg\t1\t.\t?\n",
      "chr1\t11136\ta\t1\t.\t?\n",
      "chr1\t11137\ta\t1\t.\t?\n",
      "chr1\t11138\tc\t1\t.\t?\n",
      "chr1\t11139\tc\t1\t.\t?\n",
      "chr1\t11140\tt\t1\t.\t?\n",
      "chr1\t11141\tc\t1\t.\t?\n",
      "Lines 10,000 - 10,010\n",
      "chr1\t485008\tT\t3\t...\t??]\n",
      "chr1\t485009\tC\t3\t...\t??]\n",
      "chr1\t485010\tA\t3\t...\t??]\n",
      "chr1\t485011\tG\t3\t...\t??]\n",
      "chr1\t485012\tA\t3\t...\t??]\n",
      "chr1\t485013\tA\t3\t...\t??]\n",
      "chr1\t485014\tT\t3\t..^!,\t?]]\n",
      "chr1\t485015\tA\t3\t..,\t?]]\n",
      "chr1\t485016\tG\t3\t..,\t?]]\n",
      "chr1\t485017\tT\t3\t..,\t?]]\n",
      "Lines 200,000 - 200,010\n",
      "chr1\t3823198\tA\t24\t,,,.,.,,..,,,.,,.,,,,,.,\t???]????]?]?????]??]????\n",
      "chr1\t3823199\tT\t24\t,,,.,.,,..,,,.,,.,,,,,.,\t???]????]?]?????]??]????\n",
      "chr1\t3823200\tG\t24\t,$,,.,.,,..,,,.,,.,,,,,.,\t???]????]?]?????]??]????\n",
      "chr1\t3823201\tA\t23\t,,.,.,,..,,,.,,.,,,,,.,\t??]????]?]?????]??]????\n",
      "chr1\t3823202\tC\t23\t,,A,.,,..,,,.,,.,,,,,.,\t??]????]?]?????]??]????\n",
      "chr1\t3823203\tA\t23\t,,.,.,,..,,,.,,.,,,,,.,\t??]????]?]?????]??]????\n",
      "chr1\t3823204\tC\t23\t,$,.,.,,..,,,.,,.,,,,,.,\t??]????]?]?????]??]????\n",
      "chr1\t3823205\tA\t22\t,$.,.,,.T,,,.,,.,,,,,.,\t?]????]?]?????]??]????\n",
      "chr1\t3823206\tG\t21\t.$,$.,,..,,,.,,.,,,,,.,\t\\>???]?]?????]??]????\n",
      "chr1\t3823207\tG\t20\t.,,..,,,.,,,.,,,,,.,\t???]?]??????]??]????\n"
     ]
    }
   ],
   "source": [
    "#Show the first 10 lines of the Pileup file.\n",
    "!echo 'First 10 lines'\n",
    "!head ~/biol6150/ProjectSubmissions/Group8/Project3/VariantCalling/SRR393028.mpileup\n",
    "#Show the 10,000 - 10,010 lines of the Pileup file.\n",
    "!echo 'Lines 10,000 - 10,010'\n",
    "!head ~/biol6150/ProjectSubmissions/Group8/Project3/VariantCalling/SRR393028.mpileup -n10010 | tail\n",
    "#Show the 200,000 - 200,010 lines of the Pileup file.\n",
    "!echo 'Lines 200,000 - 200,010'\n",
    "!head ~/biol6150/ProjectSubmissions/Group8/Project3/VariantCalling/SRR393028.mpileup -n200010 | tail"
   ]
  },
  {
   "cell_type": "markdown",
   "id": "49431713",
   "metadata": {},
   "source": [
    "<div class=\"alert alert-block alert-warning\">\n",
    "    <h3>1.5 Look more into the pileup file</h3>\n",
    "    <p>Show the 100,000th entry in your pileup file and explain (2-4 lines) what information column 5 <b><i>Read Results</i></b> is providing the user</p>\n",
    "</div>"
   ]
  },
  {
   "cell_type": "code",
   "execution_count": 1,
   "id": "53d8984c",
   "metadata": {},
   "outputs": [
    {
     "name": "stdout",
     "output_type": "stream",
     "text": [
      "chr1\t1638660\tG\t1\t,\t?\r\n"
     ]
    }
   ],
   "source": [
    "#Show the 100,000th entry here.\n",
    "!head ~/biol6150/ProjectSubmissions/Group8/Project3/VariantCalling/SRR393028.mpileup -n100001 | tail -n1"
   ]
  },
  {
   "cell_type": "code",
   "execution_count": 10,
   "id": "23218ee6",
   "metadata": {},
   "outputs": [],
   "source": [
    "#Explain the entry here."
   ]
  },
  {
   "cell_type": "markdown",
   "id": "2b0536f0",
   "metadata": {},
   "source": [
    "The reference base is a G, indicated by column 3, and our read in column 5, denoted by a comma, means that the base is on the reverse strand of ther read but aligns to the reference genome."
   ]
  },
  {
   "cell_type": "markdown",
   "id": "367b7759",
   "metadata": {},
   "source": [
    "<div class=\"alert alert-block alert-warning\">\n",
    "    <h3>1.6 Plot the read count distribution</h3>\n",
    "    <p>A graph that shows how many reads are aligning to a specific genomic region could be helpful for determining flags for our variant caller. \n",
    "    <p>Plot a graph (thin bars or line) between <b><i>Read Count (y-axis)</i></b> and <b><i>Position (x-axis)</i></b> only for <u>chromosome 20</u>.</p>\n",
    "    <hr>\n",
    "    <p>You can use Python for visualization, but will have to filter the pileup file using bash or python.</p>\n",
    "</div>"
   ]
  },
  {
   "cell_type": "code",
   "execution_count": 1,
   "id": "8acd8c4c",
   "metadata": {},
   "outputs": [],
   "source": [
    "#An awk command can help you create a file with just the information for chr20.\n",
    "!awk '/chr20/' ~/biol6150/ProjectSubmissions/Group8/Project3/VariantCalling/SRR393028.mpileup > ~/biol6150/ProjectSubmissions/Group8/Project3/chr20_reads.txt"
   ]
  },
  {
   "cell_type": "code",
   "execution_count": 1,
   "id": "187b4640",
   "metadata": {},
   "outputs": [],
   "source": [
    "#create CSV with only column 2 (Read Count) and 4 (Position)\n",
    "!awk '/chr20/ {print $2 \",\" $4}' ~/biol6150/ProjectSubmissions/Group8/Project3/chr20_reads.txt > ~/biol6150/ProjectSubmissions/Group8/Project3/chr20_reads.csv"
   ]
  },
  {
   "cell_type": "code",
   "execution_count": 1,
   "id": "71aca26d",
   "metadata": {},
   "outputs": [
    {
     "name": "stdout",
     "output_type": "stream",
     "text": [
      "         position  read count\n",
      "0           87532           1\n",
      "1           87533           1\n",
      "2           87534           1\n",
      "3           87535           1\n",
      "4           87536           1\n",
      "...           ...         ...\n",
      "1636496    182188           1\n",
      "1636497    182189           1\n",
      "1636498    182190           1\n",
      "1636499    182191           1\n",
      "1636500    182192           1\n",
      "\n",
      "[1636501 rows x 2 columns]\n"
     ]
    },
    {
     "data": {
      "image/png": "[encoded data removed]",
      "text/plain": [
       "<Figure size 640x480 with 1 Axes>"
      ]
     },
     "metadata": {},
     "output_type": "display_data"
    }
   ],
   "source": [
    "#Plot your graph and show it here (matplotlib/seaborn)\n",
    "import pandas as pd\n",
    "import matplotlib.pyplot as plt\n",
    "\n",
    "#Loading CSV\n",
    "data=pd.read_csv('~/biol6150/ProjectSubmissions/Group8/Project3/chr20_reads.csv', header=None, names=['position', 'read count'])\n",
    "print (data)\n",
    "\n",
    "#Create line plot (position vs read count)\n",
    "plt.plot(data['position'], data['read count'],marker='o', linestyle='-', color='pink')\n",
    "\n",
    "#graph labels\n",
    "plt.xlabel('Position')\n",
    "plt.ylabel('Read Count')\n",
    "plt.title('Position vs Read Count')\n",
    "plt.show()"
   ]
  },
  {
   "cell_type": "markdown",
   "id": "a8b119fe",
   "metadata": {},
   "source": [
    "# **2. Variant calling**\n",
    "### *Total Questions: 3*\n",
    "### *Total Points: 10+5+2+10 = 27*\n",
    "\n",
    "\n",
    "---"
   ]
  },
  {
   "cell_type": "markdown",
   "id": "68860d7d",
   "metadata": {},
   "source": [
    "<div class=\"alert alert-block alert-warning\">\n",
    "    <h3>2.1 Call the variants (SNPs and Short Indels)</h3>\n",
    "    <p><b>2.1.1</b> Write the command used and justify the flags you have used using one sentence.</p>\n",
    "    <p><b>2.1.2</b> Informed decision.</p>\n",
    "</div>"
   ]
  },
  {
   "cell_type": "code",
   "execution_count": 1,
   "id": "e6bf56ef",
   "metadata": {},
   "outputs": [
    {
     "name": "stdout",
     "output_type": "stream",
     "text": [
      "VarScan v2.4.6\r\n",
      "\r\n",
      "***NON-COMMERCIAL VERSION***\r\n",
      "\r\n",
      "USAGE: java -jar VarScan.jar [COMMAND] [OPTIONS] \r\n",
      "\r\n",
      "COMMANDS:\r\n",
      "\tpileup2snp\t\tIdentify SNPs from a pileup file\r\n",
      "\tpileup2indel\t\tIdentify indels a pileup file\r\n",
      "\tpileup2cns\t\tCall consensus and variants from a pileup file\r\n",
      "\tmpileup2snp\t\tIdentify SNPs from an mpileup file\r\n",
      "\tmpileup2indel\t\tIdentify indels an mpileup file\r\n",
      "\tmpileup2cns\t\tCall consensus and variants from an mpileup file\r\n",
      "\r\n",
      "\tsomatic\t\t\tCall germline/somatic variants from tumor-normal pileups\r\n",
      "\tmpileup2somatic\t\tCall germline/somatic variants in multi-tumor-normal mpileup (beta feature in v2.4.5)\r\n",
      "\tcopynumber\t\tDetermine relative tumor copy number from tumor-normal pileups\r\n",
      "\treadcounts\t\tObtain read counts for a list of variants from a pileup file\r\n",
      "\r\n",
      "\tfilter\t\t\tFilter SNPs by coverage, frequency, p-value, etc.\r\n",
      "\tsomaticFilter\t\tFilter somatic variants for clusters/indels\r\n",
      "\tfpfilter\t\tApply the false-positive filter\r\n",
      "\r\n",
      "\tprocessSomatic\t\tIsolate Germline/LOH/Somatic calls from output\r\n",
      "\tcopyCaller\t\tGC-adjust and process copy number changes from VarScan copynumber output\r\n",
      "\tcompare\t\t\tCompare two lists of positions/variants\r\n",
      "\tlimit\t\t\tRestrict pileup/snps/indels to ROI positions\r\n",
      "\r\n",
      "\r\n"
     ]
    }
   ],
   "source": [
    "#Use VarScan for calling variants. Look up the appropriate command for this.\n",
    "\n",
    "#Running VarScan\n",
    "!varscan"
   ]
  },
  {
   "cell_type": "code",
   "execution_count": 1,
   "id": "ee12252e",
   "metadata": {
    "scrolled": false
   },
   "outputs": [
    {
     "name": "stdout",
     "output_type": "stream",
     "text": [
      "Warning: No p-value threshold provided, so p-values will not be calculated\n",
      "Min coverage:\t8\n",
      "Min reads2:\t10\n",
      "Min var freq:\t0.2\n",
      "Min avg qual:\t15\n",
      "P-value thresh:\t0.01\n",
      "Reading input from /home/hice1/acressy3/biol6150/ProjectSubmissions/Group8/Project3/VariantCalling/SRR393028.mpileup\n",
      "70626195 bases in pileup file\n",
      "1484 variant positions (1469 SNP, 15 indel)\n",
      "32 were failed by the strand-filter\n",
      "1484 variant positions reported (1469 SNP, 15 indel)\n"
     ]
    }
   ],
   "source": [
    "# Using mpileup2cns because this command will identify variants of the mpileup file we created in section 1 that summarized bases of aling reads\n",
    "!varscan mpileup2cns ~/biol6150/ProjectSubmissions/Group8/Project3/VariantCalling/SRR393028.mpileup --min-reads2 10 --output-vcf > ~/biol6150/ProjectSubmissions/Group8/Project3/VariantCalling/SRR393028.vcf"
   ]
  },
  {
   "cell_type": "code",
   "execution_count": 1,
   "id": "d5e4e326",
   "metadata": {},
   "outputs": [
    {
     "name": "stdout",
     "output_type": "stream",
     "text": [
      "Warning: No p-value threshold provided, so p-values will not be calculated\n",
      "Min coverage:\t8\n",
      "Min reads2:\t10\n",
      "Min var freq:\t0.2\n",
      "Min avg qual:\t15\n",
      "P-value thresh:\t0.01\n",
      "Reading input from /home/hice1/acressy3/biol6150/ProjectSubmissions/Group8/Project3/VariantCalling/SRR393028.mpileup\n",
      "70626195 bases in pileup file\n",
      "1484 variant positions (1469 SNP, 15 indel)\n",
      "32 were failed by the strand-filter\n",
      "1484 variant positions reported (1469 SNP, 15 indel)\n"
     ]
    }
   ],
   "source": [
    "!varscan mpileup2cns ~/biol6150/ProjectSubmissions/Group8/Project3/VariantCalling/SRR393028.mpileup --min-reads2 10 --output-vcf 1 > ~/biol6150/ProjectSubmissions/Group8/Project3/VariantCalling/SRR393028.vcf"
   ]
  },
  {
   "cell_type": "code",
   "execution_count": 18,
   "id": "1eca74a1",
   "metadata": {},
   "outputs": [],
   "source": [
    "#Make an informed decision (based on section 1) about the parameters used for calling the variants.\n",
    "#There is no specific answer to this, but the idea is to look into the flags used, and make sure they make sense."
   ]
  },
  {
   "cell_type": "code",
   "execution_count": null,
   "id": "2f15e953",
   "metadata": {},
   "outputs": [],
   "source": []
  },
  {
   "cell_type": "markdown",
   "id": "b9e448c4",
   "metadata": {},
   "source": [
    "<div class=\"alert alert-block alert-warning\">\n",
    "    <h3>2.2 Select any random variant in your VCF file which lies between the positions 20,800,000 and 30,800,000 on chromosome 16</h3>\n",
    "    <p><b>Q.</b> What is the average depth of bases for this variant called on chromosome 16</p>\n",
    "</div>"
   ]
  },
  {
   "cell_type": "code",
   "execution_count": 1,
   "id": "464292bb",
   "metadata": {},
   "outputs": [
    {
     "name": "stdout",
     "output_type": "stream",
     "text": [
      "##fileformat=VCFv4.3\n",
      "##source=VarScan2\n",
      "##INFO=<ID=ADP,Number=1,Type=Integer,Description=\"Average per-sample depth of bases with Phred score >= 15\">\n",
      "##INFO=<ID=WT,Number=1,Type=Integer,Description=\"Number of samples called reference (wild-type)\">\n",
      "##INFO=<ID=HET,Number=1,Type=Integer,Description=\"Number of samples called heterozygous-variant\">\n",
      "##INFO=<ID=HOM,Number=1,Type=Integer,Description=\"Number of samples called homozygous-variant\">\n",
      "##INFO=<ID=NC,Number=1,Type=Integer,Description=\"Number of samples not called\">\n",
      "##FILTER=<ID=str10,Description=\"Less than 10% or more than 90% of variant supporting reads on one strand\">\n",
      "##FILTER=<ID=indelError,Description=\"Likely artifact due to indel reads at this position\">\n",
      "##FORMAT=<ID=GT,Number=1,Type=String,Description=\"Genotype\">\n",
      "##FORMAT=<ID=GQ,Number=1,Type=Integer,Description=\"Genotype Quality\">\n",
      "##FORMAT=<ID=SDP,Number=1,Type=Integer,Description=\"Raw Read Depth as reported by SAMtools\">\n",
      "##FORMAT=<ID=DP,Number=1,Type=Integer,Description=\"Quality Read Depth of bases with Phred score >= 15\">\n",
      "##FORMAT=<ID=RD,Number=1,Type=Integer,Description=\"Depth of reference-supporting bases (reads1)\">\n",
      "##FORMAT=<ID=AD,Number=1,Type=Integer,Description=\"Depth of variant-supporting bases (reads2)\">\n",
      "##FORMAT=<ID=FREQ,Number=1,Type=String,Description=\"Variant allele frequency\">\n",
      "##FORMAT=<ID=PVAL,Number=1,Type=String,Description=\"P-value from Fisher's Exact Test\">\n",
      "##FORMAT=<ID=RBQ,Number=1,Type=Integer,Description=\"Average quality of reference-supporting bases (qual1)\">\n",
      "##FORMAT=<ID=ABQ,Number=1,Type=Integer,Description=\"Average quality of variant-supporting bases (qual2)\">\n",
      "##FORMAT=<ID=RDF,Number=1,Type=Integer,Description=\"Depth of reference-supporting bases on forward strand (reads1plus)\">\n",
      "##FORMAT=<ID=RDR,Number=1,Type=Integer,Description=\"Depth of reference-supporting bases on reverse strand (reads1minus)\">\n",
      "##FORMAT=<ID=ADF,Number=1,Type=Integer,Description=\"Depth of variant-supporting bases on forward strand (reads2plus)\">\n",
      "##FORMAT=<ID=ADR,Number=1,Type=Integer,Description=\"Depth of variant-supporting bases on reverse strand (reads2minus)\">\n",
      "#CHROM\tPOS\tID\tREF\tALT\tQUAL\tFILTER\tINFO\tFORMAT\tSample1\n",
      "chr16\t29985888\t.\tC\t.\t.\tPASS\tADP=1;WT=0;HET=0;HOM=0;NC=1\tGT:GQ:SDP:DP:RD:AD:FREQ:PVAL:RBQ:ABQ:RDF:RDR:ADF:ADR\t./.:.:1\n"
     ]
    }
   ],
   "source": [
    "#Extract this variant. There are multiple ways of doing this. Some fast and some easy.\n",
    "!grep -P '^(#|chr16\\s+29985888)' ~/biol6150/ProjectSubmissions/Group8/Project3/VariantCalling/SRR393028.vcf"
   ]
  },
  {
   "cell_type": "code",
   "execution_count": 29,
   "id": "a6311294",
   "metadata": {},
   "outputs": [],
   "source": [
    "#There could be multiple variants in this range, please select one."
   ]
  },
  {
   "cell_type": "code",
   "execution_count": 2,
   "id": "96c79a9f",
   "metadata": {
    "scrolled": true
   },
   "outputs": [],
   "source": [
    "#The information is there in your VCF file."
   ]
  },
  {
   "cell_type": "markdown",
   "id": "0517cf21",
   "metadata": {},
   "source": [
    "The average depth of the variant is represented by ADP, which is one."
   ]
  },
  {
   "cell_type": "markdown",
   "id": "ea33031d",
   "metadata": {},
   "source": [
    "<div class=\"alert alert-block alert-warning\">\n",
    "    <h3>2.3 How many indels do you have in your VCF file?</p>\n",
    "</div>"
   ]
  },
  {
   "cell_type": "code",
   "execution_count": 4,
   "id": "0dab2c90",
   "metadata": {},
   "outputs": [],
   "source": [
    "#Same as above, there are multiple ways of doing this."
   ]
  },
  {
   "cell_type": "code",
   "execution_count": 24,
   "id": "c3f951a1",
   "metadata": {},
   "outputs": [],
   "source": [
    "#Write your command and show the number of indels."
   ]
  },
  {
   "cell_type": "markdown",
   "id": "a7678ad4",
   "metadata": {},
   "source": [
    "There are 15 indels. We're still trying to figure it out."
   ]
  },
  {
   "cell_type": "markdown",
   "id": "e36f85aa",
   "metadata": {},
   "source": [
    "<div class=\"alert alert-block alert-warning\">\n",
    "    <h3>2.4 Select any random variant in your VCF file which lies between the position 203,000,000 and 230,000,000 on chromosome 2.</h3>\n",
    "    <p><b>2.4.1</b> What is the variation observed for your 1000 genome individual at this position? Is it 0/0 1/1/ 0/1 or 1/0? How many copies of reference alleles does your individual carry at this position?</p>\n",
    "    <p><b>2.4.2</b> How many read bases (forward and reverse) from your pileup file (as selected by VarScan) supported the alternative allele and how many variants supported the reference allele at this position?</p>\n",
    "</div>"
   ]
  },
  {
   "cell_type": "code",
   "execution_count": 1,
   "id": "2d907cf1",
   "metadata": {},
   "outputs": [
    {
     "name": "stdout",
     "output_type": "stream",
     "text": [
      "chr2\t219635909\t.\tG\t.\t.\tPASS\tADP=1;WT=0;HET=0;HOM=0;NC=1\tGT:GQ:SDP:DP:RD:AD:FREQ:PVAL:RBQ:ABQ:RDF:RDR:ADF:ADR\t./.:.:1\r\n",
      "chr2\t219635910\t.\tG\t.\t.\tPASS\tADP=1;WT=0;HET=0;HOM=0;NC=1\tGT:GQ:SDP:DP:RD:AD:FREQ:PVAL:RBQ:ABQ:RDF:RDR:ADF:ADR\t./.:.:1\r\n",
      "chr2\t219635911\t.\tG\t.\t.\tPASS\tADP=1;WT=0;HET=0;HOM=0;NC=1\tGT:GQ:SDP:DP:RD:AD:FREQ:PVAL:RBQ:ABQ:RDF:RDR:ADF:ADR\t./.:.:1\r\n",
      "chr2\t219636130\t.\tA\t.\t.\tPASS\tADP=1;WT=0;HET=0;HOM=0;NC=1\tGT:GQ:SDP:DP:RD:AD:FREQ:PVAL:RBQ:ABQ:RDF:RDR:ADF:ADR\t./.:.:1\r\n",
      "chr2\t219636131\t.\tT\t.\t.\tPASS\tADP=1;WT=0;HET=0;HOM=0;NC=1\tGT:GQ:SDP:DP:RD:AD:FREQ:PVAL:RBQ:ABQ:RDF:RDR:ADF:ADR\t./.:.:1\r\n",
      "chr2\t219636132\t.\tT\t.\t.\tPASS\tADP=1;WT=0;HET=0;HOM=0;NC=1\tGT:GQ:SDP:DP:RD:AD:FREQ:PVAL:RBQ:ABQ:RDF:RDR:ADF:ADR\t./.:.:1\r\n",
      "chr2\t219636133\t.\tG\t.\t.\tPASS\tADP=1;WT=0;HET=0;HOM=0;NC=1\tGT:GQ:SDP:DP:RD:AD:FREQ:PVAL:RBQ:ABQ:RDF:RDR:ADF:ADR\t./.:.:1\r\n",
      "chr2\t219636134\t.\tG\t.\t.\tPASS\tADP=1;WT=0;HET=0;HOM=0;NC=1\tGT:GQ:SDP:DP:RD:AD:FREQ:PVAL:RBQ:ABQ:RDF:RDR:ADF:ADR\t./.:.:1\r\n",
      "chr2\t219636135\t.\tG\t.\t.\tPASS\tADP=1;WT=0;HET=0;HOM=0;NC=1\tGT:GQ:SDP:DP:RD:AD:FREQ:PVAL:RBQ:ABQ:RDF:RDR:ADF:ADR\t./.:.:1\r\n",
      "chr2\t219636136\t.\tG\t.\t.\tPASS\tADP=1;WT=0;HET=0;HOM=0;NC=1\tGT:GQ:SDP:DP:RD:AD:FREQ:PVAL:RBQ:ABQ:RDF:RDR:ADF:ADR\t./.:.:1\r\n"
     ]
    }
   ],
   "source": [
    "!head ~/biol6150/ProjectSubmissions/Group8/Project3/VariantCalling/SRR393028.vcf -n39000920 | tail"
   ]
  },
  {
   "cell_type": "code",
   "execution_count": null,
   "id": "c7613e4d",
   "metadata": {},
   "outputs": [],
   "source": []
  },
  {
   "cell_type": "code",
   "execution_count": 14,
   "id": "dc62c42d",
   "metadata": {},
   "outputs": [
    {
     "name": "stdout",
     "output_type": "stream",
     "text": [
      "##fileformat=VCFv4.3\n",
      "##source=VarScan2\n",
      "##INFO=<ID=ADP,Number=1,Type=Integer,Description=\"Average per-sample depth of bases with Phred score >= 15\">\n",
      "##INFO=<ID=WT,Number=1,Type=Integer,Description=\"Number of samples called reference (wild-type)\">\n",
      "##INFO=<ID=HET,Number=1,Type=Integer,Description=\"Number of samples called heterozygous-variant\">\n",
      "##INFO=<ID=HOM,Number=1,Type=Integer,Description=\"Number of samples called homozygous-variant\">\n",
      "##INFO=<ID=NC,Number=1,Type=Integer,Description=\"Number of samples not called\">\n",
      "##FILTER=<ID=str10,Description=\"Less than 10% or more than 90% of variant supporting reads on one strand\">\n",
      "##FILTER=<ID=indelError,Description=\"Likely artifact due to indel reads at this position\">\n",
      "##FORMAT=<ID=GT,Number=1,Type=String,Description=\"Genotype\">\n",
      "##FORMAT=<ID=GQ,Number=1,Type=Integer,Description=\"Genotype Quality\">\n",
      "##FORMAT=<ID=SDP,Number=1,Type=Integer,Description=\"Raw Read Depth as reported by SAMtools\">\n",
      "##FORMAT=<ID=DP,Number=1,Type=Integer,Description=\"Quality Read Depth of bases with Phred score >= 15\">\n",
      "##FORMAT=<ID=RD,Number=1,Type=Integer,Description=\"Depth of reference-supporting bases (reads1)\">\n",
      "##FORMAT=<ID=AD,Number=1,Type=Integer,Description=\"Depth of variant-supporting bases (reads2)\">\n",
      "##FORMAT=<ID=FREQ,Number=1,Type=String,Description=\"Variant allele frequency\">\n",
      "##FORMAT=<ID=PVAL,Number=1,Type=String,Description=\"P-value from Fisher's Exact Test\">\n",
      "##FORMAT=<ID=RBQ,Number=1,Type=Integer,Description=\"Average quality of reference-supporting bases (qual1)\">\n",
      "##FORMAT=<ID=ABQ,Number=1,Type=Integer,Description=\"Average quality of variant-supporting bases (qual2)\">\n",
      "##FORMAT=<ID=RDF,Number=1,Type=Integer,Description=\"Depth of reference-supporting bases on forward strand (reads1plus)\">\n",
      "##FORMAT=<ID=RDR,Number=1,Type=Integer,Description=\"Depth of reference-supporting bases on reverse strand (reads1minus)\">\n",
      "##FORMAT=<ID=ADF,Number=1,Type=Integer,Description=\"Depth of variant-supporting bases on forward strand (reads2plus)\">\n",
      "##FORMAT=<ID=ADR,Number=1,Type=Integer,Description=\"Depth of variant-supporting bases on reverse strand (reads2minus)\">\n",
      "#CHROM\tPOS\tID\tREF\tALT\tQUAL\tFILTER\tINFO\tFORMAT\tSample1\n",
      "chr2\t219633235\t.\tA\t.\t.\tPASS\tADP=4;WT=0;HET=0;HOM=0;NC=1\tGT:GQ:SDP:DP:RD:AD:FREQ:PVAL:RBQ:ABQ:RDF:RDR:ADF:ADR\t./.:.:4\n"
     ]
    }
   ],
   "source": [
    "#Select the variant.\n",
    "!grep -P '^(#|chr2\\s+219633235)' ~/biol6150/ProjectSubmissions/Group8/Project3/VariantCalling/SRR393028.vcf"
   ]
  },
  {
   "cell_type": "code",
   "execution_count": 1,
   "id": "6436c2db",
   "metadata": {},
   "outputs": [
    {
     "name": "stdout",
     "output_type": "stream",
     "text": [
      "[W::vcf_parse] Contig 'chr1' is not defined in the header. (Quick workaround: index the file with tabix.)\n",
      "[W::vcf_parse] Contig 'chr10' is not defined in the header. (Quick workaround: index the file with tabix.)\n",
      "[W::vcf_parse] Contig 'chr11' is not defined in the header. (Quick workaround: index the file with tabix.)\n",
      "[W::vcf_parse] Contig 'chr11_KI270721v1_random' is not defined in the header. (Quick workaround: index the file with tabix.)\n",
      "[W::vcf_parse] Contig 'chr12' is not defined in the header. (Quick workaround: index the file with tabix.)\n",
      "[W::vcf_parse] Contig 'chr13' is not defined in the header. (Quick workaround: index the file with tabix.)\n",
      "[W::vcf_parse] Contig 'chr14' is not defined in the header. (Quick workaround: index the file with tabix.)\n",
      "[W::vcf_parse] Contig 'chr14_GL000009v2_random' is not defined in the header. (Quick workaround: index the file with tabix.)\n",
      "[W::vcf_parse] Contig 'chr14_GL000225v1_random' is not defined in the header. (Quick workaround: index the file with tabix.)\n",
      "[W::vcf_parse] Contig 'chr14_KI270722v1_random' is not defined in the header. (Quick workaround: index the file with tabix.)\n",
      "[W::vcf_parse] Contig 'chr14_GL000194v1_random' is not defined in the header. (Quick workaround: index the file with tabix.)\n",
      "[W::vcf_parse] Contig 'chr14_KI270723v1_random' is not defined in the header. (Quick workaround: index the file with tabix.)\n",
      "[W::vcf_parse] Contig 'chr14_KI270724v1_random' is not defined in the header. (Quick workaround: index the file with tabix.)\n",
      "[W::vcf_parse] Contig 'chr14_KI270725v1_random' is not defined in the header. (Quick workaround: index the file with tabix.)\n",
      "[W::vcf_parse] Contig 'chr14_KI270726v1_random' is not defined in the header. (Quick workaround: index the file with tabix.)\n",
      "[W::vcf_parse] Contig 'chr15' is not defined in the header. (Quick workaround: index the file with tabix.)\n",
      "[W::vcf_parse] Contig 'chr15_KI270727v1_random' is not defined in the header. (Quick workaround: index the file with tabix.)\n",
      "[W::vcf_parse] Contig 'chr16' is not defined in the header. (Quick workaround: index the file with tabix.)\n",
      "[W::vcf_parse] Contig 'chr16_KI270728v1_random' is not defined in the header. (Quick workaround: index the file with tabix.)\n",
      "[W::vcf_parse] Contig 'chr17' is not defined in the header. (Quick workaround: index the file with tabix.)\n",
      "[W::vcf_parse] Contig 'chr17_GL000205v2_random' is not defined in the header. (Quick workaround: index the file with tabix.)\n",
      "[W::vcf_parse] Contig 'chr17_KI270729v1_random' is not defined in the header. (Quick workaround: index the file with tabix.)\n",
      "[W::vcf_parse] Contig 'chr18' is not defined in the header. (Quick workaround: index the file with tabix.)\n",
      "[W::vcf_parse] Contig 'chr19' is not defined in the header. (Quick workaround: index the file with tabix.)\n",
      "[W::vcf_parse] Contig 'chr1_KI270706v1_random' is not defined in the header. (Quick workaround: index the file with tabix.)\n",
      "[W::vcf_parse] Contig 'chr1_KI270708v1_random' is not defined in the header. (Quick workaround: index the file with tabix.)\n",
      "[W::vcf_parse] Contig 'chr1_KI270709v1_random' is not defined in the header. (Quick workaround: index the file with tabix.)\n",
      "[W::vcf_parse] Contig 'chr1_KI270711v1_random' is not defined in the header. (Quick workaround: index the file with tabix.)\n",
      "[W::vcf_parse] Contig 'chr1_KI270712v1_random' is not defined in the header. (Quick workaround: index the file with tabix.)\n",
      "[W::vcf_parse] Contig 'chr1_KI270713v1_random' is not defined in the header. (Quick workaround: index the file with tabix.)\n",
      "[W::vcf_parse] Contig 'chr1_KI270714v1_random' is not defined in the header. (Quick workaround: index the file with tabix.)\n",
      "[W::vcf_parse] Contig 'chr2' is not defined in the header. (Quick workaround: index the file with tabix.)\n",
      "[W::vcf_parse] Contig 'chr20' is not defined in the header. (Quick workaround: index the file with tabix.)\n",
      "[W::vcf_parse] Contig 'chr21' is not defined in the header. (Quick workaround: index the file with tabix.)\n",
      "[W::vcf_parse] Contig 'chr22' is not defined in the header. (Quick workaround: index the file with tabix.)\n",
      "[W::vcf_parse] Contig 'chr22_KI270731v1_random' is not defined in the header. (Quick workaround: index the file with tabix.)\n",
      "[W::vcf_parse] Contig 'chr22_KI270732v1_random' is not defined in the header. (Quick workaround: index the file with tabix.)\n",
      "[W::vcf_parse] Contig 'chr22_KI270733v1_random' is not defined in the header. (Quick workaround: index the file with tabix.)\n",
      "[W::vcf_parse] Contig 'chr22_KI270734v1_random' is not defined in the header. (Quick workaround: index the file with tabix.)\n",
      "[W::vcf_parse] Contig 'chr22_KI270735v1_random' is not defined in the header. (Quick workaround: index the file with tabix.)\n",
      "[W::vcf_parse] Contig 'chr22_KI270736v1_random' is not defined in the header. (Quick workaround: index the file with tabix.)\n",
      "[W::vcf_parse] Contig 'chr22_KI270737v1_random' is not defined in the header. (Quick workaround: index the file with tabix.)\n",
      "[W::vcf_parse] Contig 'chr22_KI270738v1_random' is not defined in the header. (Quick workaround: index the file with tabix.)\n",
      "[W::vcf_parse] Contig 'chr3' is not defined in the header. (Quick workaround: index the file with tabix.)\n",
      "[W::vcf_parse] Contig 'chr3_GL000221v1_random' is not defined in the header. (Quick workaround: index the file with tabix.)\n",
      "[W::vcf_parse] Contig 'chr4' is not defined in the header. (Quick workaround: index the file with tabix.)\n",
      "[W::vcf_parse] Contig 'chr4_GL000008v2_random' is not defined in the header. (Quick workaround: index the file with tabix.)\n",
      "[W::vcf_parse] Contig 'chr5' is not defined in the header. (Quick workaround: index the file with tabix.)\n",
      "[W::vcf_parse] Contig 'chr6' is not defined in the header. (Quick workaround: index the file with tabix.)\n",
      "[W::vcf_parse] Contig 'chr7' is not defined in the header. (Quick workaround: index the file with tabix.)\n",
      "[W::vcf_parse] Contig 'chr8' is not defined in the header. (Quick workaround: index the file with tabix.)\n",
      "[W::vcf_parse] Contig 'chr9' is not defined in the header. (Quick workaround: index the file with tabix.)\n",
      "[W::vcf_parse] Contig 'chr9_KI270717v1_random' is not defined in the header. (Quick workaround: index the file with tabix.)\n",
      "[W::vcf_parse] Contig 'chr9_KI270718v1_random' is not defined in the header. (Quick workaround: index the file with tabix.)\n",
      "[W::vcf_parse] Contig 'chr9_KI270719v1_random' is not defined in the header. (Quick workaround: index the file with tabix.)\n",
      "[W::vcf_parse] Contig 'chr9_KI270720v1_random' is not defined in the header. (Quick workaround: index the file with tabix.)\n",
      "[W::vcf_parse] Contig 'chr1_KI270762v1_alt' is not defined in the header. (Quick workaround: index the file with tabix.)\n",
      "[W::vcf_parse] Contig 'chr1_KI270766v1_alt' is not defined in the header. (Quick workaround: index the file with tabix.)\n",
      "[W::vcf_parse] Contig 'chr1_KI270765v1_alt' is not defined in the header. (Quick workaround: index the file with tabix.)\n",
      "[W::vcf_parse] Contig 'chr1_GL383518v1_alt' is not defined in the header. (Quick workaround: index the file with tabix.)\n",
      "[W::vcf_parse] Contig 'chr1_GL383519v1_alt' is not defined in the header. (Quick workaround: index the file with tabix.)\n",
      "[W::vcf_parse] Contig 'chr1_GL383520v2_alt' is not defined in the header. (Quick workaround: index the file with tabix.)\n",
      "[W::vcf_parse] Contig 'chr1_KI270764v1_alt' is not defined in the header. (Quick workaround: index the file with tabix.)\n",
      "[W::vcf_parse] Contig 'chr1_KI270763v1_alt' is not defined in the header. (Quick workaround: index the file with tabix.)\n",
      "[W::vcf_parse] Contig 'chr1_KI270759v1_alt' is not defined in the header. (Quick workaround: index the file with tabix.)\n",
      "[W::vcf_parse] Contig 'chr1_KI270761v1_alt' is not defined in the header. (Quick workaround: index the file with tabix.)\n",
      "[W::vcf_parse] Contig 'chr2_KI270770v1_alt' is not defined in the header. (Quick workaround: index the file with tabix.)\n",
      "[W::vcf_parse] Contig 'chr2_KI270773v1_alt' is not defined in the header. (Quick workaround: index the file with tabix.)\n",
      "[W::vcf_parse] Contig 'chr2_KI270774v1_alt' is not defined in the header. (Quick workaround: index the file with tabix.)\n",
      "[W::vcf_parse] Contig 'chr2_KI270769v1_alt' is not defined in the header. (Quick workaround: index the file with tabix.)\n",
      "[W::vcf_parse] Contig 'chr2_GL383521v1_alt' is not defined in the header. (Quick workaround: index the file with tabix.)\n",
      "[W::vcf_parse] Contig 'chr2_KI270772v1_alt' is not defined in the header. (Quick workaround: index the file with tabix.)\n",
      "[W::vcf_parse] Contig 'chr2_KI270775v1_alt' is not defined in the header. (Quick workaround: index the file with tabix.)\n",
      "[W::vcf_parse] Contig 'chr2_KI270768v1_alt' is not defined in the header. (Quick workaround: index the file with tabix.)\n",
      "[W::vcf_parse] Contig 'chr2_GL582966v2_alt' is not defined in the header. (Quick workaround: index the file with tabix.)\n",
      "[W::vcf_parse] Contig 'chr2_GL383522v1_alt' is not defined in the header. (Quick workaround: index the file with tabix.)\n",
      "[W::vcf_parse] Contig 'chr2_KI270776v1_alt' is not defined in the header. (Quick workaround: index the file with tabix.)\n"
     ]
    },
    {
     "name": "stdout",
     "output_type": "stream",
     "text": [
      "[W::vcf_parse] Contig 'chr2_KI270767v1_alt' is not defined in the header. (Quick workaround: index the file with tabix.)\n",
      "[W::vcf_parse] Contig 'chr3_JH636055v2_alt' is not defined in the header. (Quick workaround: index the file with tabix.)\n",
      "[W::vcf_parse] Contig 'chr3_KI270780v1_alt' is not defined in the header. (Quick workaround: index the file with tabix.)\n",
      "[W::vcf_parse] Contig 'chr3_GL383526v1_alt' is not defined in the header. (Quick workaround: index the file with tabix.)\n",
      "[W::vcf_parse] Contig 'chr3_KI270777v1_alt' is not defined in the header. (Quick workaround: index the file with tabix.)\n",
      "[W::vcf_parse] Contig 'chr3_KI270779v1_alt' is not defined in the header. (Quick workaround: index the file with tabix.)\n",
      "[W::vcf_parse] Contig 'chr3_KI270782v1_alt' is not defined in the header. (Quick workaround: index the file with tabix.)\n",
      "[W::vcf_parse] Contig 'chr3_KI270784v1_alt' is not defined in the header. (Quick workaround: index the file with tabix.)\n",
      "[W::vcf_parse] Contig 'chr4_KI270790v1_alt' is not defined in the header. (Quick workaround: index the file with tabix.)\n",
      "[W::vcf_parse] Contig 'chr4_GL000257v2_alt' is not defined in the header. (Quick workaround: index the file with tabix.)\n",
      "[W::vcf_parse] Contig 'chr4_KI270788v1_alt' is not defined in the header. (Quick workaround: index the file with tabix.)\n",
      "[W::vcf_parse] Contig 'chr4_GL383527v1_alt' is not defined in the header. (Quick workaround: index the file with tabix.)\n",
      "[W::vcf_parse] Contig 'chr4_KI270789v1_alt' is not defined in the header. (Quick workaround: index the file with tabix.)\n",
      "[W::vcf_parse] Contig 'chr5_KI270793v1_alt' is not defined in the header. (Quick workaround: index the file with tabix.)\n",
      "[W::vcf_parse] Contig 'chr5_KI270792v1_alt' is not defined in the header. (Quick workaround: index the file with tabix.)\n",
      "[W::vcf_parse] Contig 'chr5_KI270791v1_alt' is not defined in the header. (Quick workaround: index the file with tabix.)\n",
      "[W::vcf_parse] Contig 'chr5_GL949742v1_alt' is not defined in the header. (Quick workaround: index the file with tabix.)\n",
      "[W::vcf_parse] Contig 'chr5_KI270794v1_alt' is not defined in the header. (Quick workaround: index the file with tabix.)\n",
      "[W::vcf_parse] Contig 'chr5_GL339449v2_alt' is not defined in the header. (Quick workaround: index the file with tabix.)\n",
      "[W::vcf_parse] Contig 'chr5_KI270795v1_alt' is not defined in the header. (Quick workaround: index the file with tabix.)\n",
      "[W::vcf_parse] Contig 'chr6_GL000250v2_alt' is not defined in the header. (Quick workaround: index the file with tabix.)\n",
      "[W::vcf_parse] Contig 'chr6_KI270800v1_alt' is not defined in the header. (Quick workaround: index the file with tabix.)\n",
      "[W::vcf_parse] Contig 'chr6_GL383533v1_alt' is not defined in the header. (Quick workaround: index the file with tabix.)\n",
      "[W::vcf_parse] Contig 'chr6_KI270801v1_alt' is not defined in the header. (Quick workaround: index the file with tabix.)\n",
      "[W::vcf_parse] Contig 'chr6_KI270802v1_alt' is not defined in the header. (Quick workaround: index the file with tabix.)\n",
      "[W::vcf_parse] Contig 'chr6_KB021644v2_alt' is not defined in the header. (Quick workaround: index the file with tabix.)\n",
      "[W::vcf_parse] Contig 'chr6_KI270797v1_alt' is not defined in the header. (Quick workaround: index the file with tabix.)\n",
      "[W::vcf_parse] Contig 'chr6_KI270798v1_alt' is not defined in the header. (Quick workaround: index the file with tabix.)\n",
      "[W::vcf_parse] Contig 'chr7_KI270804v1_alt' is not defined in the header. (Quick workaround: index the file with tabix.)\n",
      "[W::vcf_parse] Contig 'chr7_KI270809v1_alt' is not defined in the header. (Quick workaround: index the file with tabix.)\n",
      "[W::vcf_parse] Contig 'chr7_KI270806v1_alt' is not defined in the header. (Quick workaround: index the file with tabix.)\n",
      "[W::vcf_parse] Contig 'chr7_GL383534v2_alt' is not defined in the header. (Quick workaround: index the file with tabix.)\n",
      "[W::vcf_parse] Contig 'chr7_KI270803v1_alt' is not defined in the header. (Quick workaround: index the file with tabix.)\n",
      "[W::vcf_parse] Contig 'chr7_KI270808v1_alt' is not defined in the header. (Quick workaround: index the file with tabix.)\n",
      "[W::vcf_parse] Contig 'chr7_KI270807v1_alt' is not defined in the header. (Quick workaround: index the file with tabix.)\n",
      "[W::vcf_parse] Contig 'chr7_KI270805v1_alt' is not defined in the header. (Quick workaround: index the file with tabix.)\n",
      "[W::vcf_parse] Contig 'chr8_KI270818v1_alt' is not defined in the header. (Quick workaround: index the file with tabix.)\n",
      "[W::vcf_parse] Contig 'chr8_KI270812v1_alt' is not defined in the header. (Quick workaround: index the file with tabix.)\n",
      "[W::vcf_parse] Contig 'chr8_KI270811v1_alt' is not defined in the header. (Quick workaround: index the file with tabix.)\n",
      "[W::vcf_parse] Contig 'chr8_KI270821v1_alt' is not defined in the header. (Quick workaround: index the file with tabix.)\n",
      "[W::vcf_parse] Contig 'chr8_KI270813v1_alt' is not defined in the header. (Quick workaround: index the file with tabix.)\n",
      "[W::vcf_parse] Contig 'chr8_KI270822v1_alt' is not defined in the header. (Quick workaround: index the file with tabix.)\n",
      "[W::vcf_parse] Contig 'chr8_KI270814v1_alt' is not defined in the header. (Quick workaround: index the file with tabix.)\n",
      "[W::vcf_parse] Contig 'chr8_KI270810v1_alt' is not defined in the header. (Quick workaround: index the file with tabix.)\n",
      "[W::vcf_parse] Contig 'chr8_KI270819v1_alt' is not defined in the header. (Quick workaround: index the file with tabix.)\n",
      "[W::vcf_parse] Contig 'chr8_KI270820v1_alt' is not defined in the header. (Quick workaround: index the file with tabix.)\n",
      "[W::vcf_parse] Contig 'chr8_KI270817v1_alt' is not defined in the header. (Quick workaround: index the file with tabix.)\n",
      "[W::vcf_parse] Contig 'chr8_KI270816v1_alt' is not defined in the header. (Quick workaround: index the file with tabix.)\n",
      "[W::vcf_parse] Contig 'chr8_KI270815v1_alt' is not defined in the header. (Quick workaround: index the file with tabix.)\n",
      "[W::vcf_parse] Contig 'chr9_GL383539v1_alt' is not defined in the header. (Quick workaround: index the file with tabix.)\n",
      "[W::vcf_parse] Contig 'chr9_GL383540v1_alt' is not defined in the header. (Quick workaround: index the file with tabix.)\n",
      "[W::vcf_parse] Contig 'chr9_GL383541v1_alt' is not defined in the header. (Quick workaround: index the file with tabix.)\n",
      "[W::vcf_parse] Contig 'chr9_GL383542v1_alt' is not defined in the header. (Quick workaround: index the file with tabix.)\n",
      "[W::vcf_parse] Contig 'chr9_KI270823v1_alt' is not defined in the header. (Quick workaround: index the file with tabix.)\n",
      "[W::vcf_parse] Contig 'chr10_GL383545v1_alt' is not defined in the header. (Quick workaround: index the file with tabix.)\n",
      "[W::vcf_parse] Contig 'chr10_KI270824v1_alt' is not defined in the header. (Quick workaround: index the file with tabix.)\n",
      "[W::vcf_parse] Contig 'chr10_GL383546v1_alt' is not defined in the header. (Quick workaround: index the file with tabix.)\n",
      "[W::vcf_parse] Contig 'chr10_KI270825v1_alt' is not defined in the header. (Quick workaround: index the file with tabix.)\n",
      "[W::vcf_parse] Contig 'chr11_KI270832v1_alt' is not defined in the header. (Quick workaround: index the file with tabix.)\n",
      "[W::vcf_parse] Contig 'chr11_KI270830v1_alt' is not defined in the header. (Quick workaround: index the file with tabix.)\n",
      "[W::vcf_parse] Contig 'chr11_KI270831v1_alt' is not defined in the header. (Quick workaround: index the file with tabix.)\n",
      "[W::vcf_parse] Contig 'chr11_KI270829v1_alt' is not defined in the header. (Quick workaround: index the file with tabix.)\n",
      "[W::vcf_parse] Contig 'chr11_JH159136v1_alt' is not defined in the header. (Quick workaround: index the file with tabix.)\n",
      "[W::vcf_parse] Contig 'chr11_JH159137v1_alt' is not defined in the header. (Quick workaround: index the file with tabix.)\n",
      "[W::vcf_parse] Contig 'chr11_KI270826v1_alt' is not defined in the header. (Quick workaround: index the file with tabix.)\n",
      "[W::vcf_parse] Contig 'chr12_GL877875v1_alt' is not defined in the header. (Quick workaround: index the file with tabix.)\n",
      "[W::vcf_parse] Contig 'chr12_GL877876v1_alt' is not defined in the header. (Quick workaround: index the file with tabix.)\n",
      "[W::vcf_parse] Contig 'chr12_KI270837v1_alt' is not defined in the header. (Quick workaround: index the file with tabix.)\n",
      "[W::vcf_parse] Contig 'chr12_GL383549v1_alt' is not defined in the header. (Quick workaround: index the file with tabix.)\n",
      "[W::vcf_parse] Contig 'chr12_KI270835v1_alt' is not defined in the header. (Quick workaround: index the file with tabix.)\n",
      "[W::vcf_parse] Contig 'chr12_GL383550v2_alt' is not defined in the header. (Quick workaround: index the file with tabix.)\n",
      "[W::vcf_parse] Contig 'chr12_GL383552v1_alt' is not defined in the header. (Quick workaround: index the file with tabix.)\n",
      "[W::vcf_parse] Contig 'chr12_GL383553v2_alt' is not defined in the header. (Quick workaround: index the file with tabix.)\n",
      "[W::vcf_parse] Contig 'chr12_KI270834v1_alt' is not defined in the header. (Quick workaround: index the file with tabix.)\n",
      "[W::vcf_parse] Contig 'chr12_KI270833v1_alt' is not defined in the header. (Quick workaround: index the file with tabix.)\n"
     ]
    },
    {
     "name": "stdout",
     "output_type": "stream",
     "text": [
      "[W::vcf_parse] Contig 'chr12_KI270836v1_alt' is not defined in the header. (Quick workaround: index the file with tabix.)\n",
      "[W::vcf_parse] Contig 'chr13_KI270840v1_alt' is not defined in the header. (Quick workaround: index the file with tabix.)\n",
      "[W::vcf_parse] Contig 'chr13_KI270839v1_alt' is not defined in the header. (Quick workaround: index the file with tabix.)\n",
      "[W::vcf_parse] Contig 'chr13_KI270838v1_alt' is not defined in the header. (Quick workaround: index the file with tabix.)\n",
      "[W::vcf_parse] Contig 'chr13_KI270842v1_alt' is not defined in the header. (Quick workaround: index the file with tabix.)\n",
      "[W::vcf_parse] Contig 'chr14_KI270844v1_alt' is not defined in the header. (Quick workaround: index the file with tabix.)\n",
      "[W::vcf_parse] Contig 'chr14_KI270847v1_alt' is not defined in the header. (Quick workaround: index the file with tabix.)\n",
      "[W::vcf_parse] Contig 'chr14_KI270845v1_alt' is not defined in the header. (Quick workaround: index the file with tabix.)\n",
      "[W::vcf_parse] Contig 'chr14_KI270846v1_alt' is not defined in the header. (Quick workaround: index the file with tabix.)\n",
      "[W::vcf_parse] Contig 'chr15_KI270852v1_alt' is not defined in the header. (Quick workaround: index the file with tabix.)\n",
      "[W::vcf_parse] Contig 'chr15_KI270851v1_alt' is not defined in the header. (Quick workaround: index the file with tabix.)\n",
      "[W::vcf_parse] Contig 'chr15_KI270848v1_alt' is not defined in the header. (Quick workaround: index the file with tabix.)\n",
      "[W::vcf_parse] Contig 'chr15_GL383554v1_alt' is not defined in the header. (Quick workaround: index the file with tabix.)\n",
      "[W::vcf_parse] Contig 'chr15_KI270849v1_alt' is not defined in the header. (Quick workaround: index the file with tabix.)\n",
      "[W::vcf_parse] Contig 'chr15_GL383555v2_alt' is not defined in the header. (Quick workaround: index the file with tabix.)\n",
      "[W::vcf_parse] Contig 'chr15_KI270850v1_alt' is not defined in the header. (Quick workaround: index the file with tabix.)\n",
      "[W::vcf_parse] Contig 'chr16_KI270854v1_alt' is not defined in the header. (Quick workaround: index the file with tabix.)\n",
      "[W::vcf_parse] Contig 'chr16_KI270856v1_alt' is not defined in the header. (Quick workaround: index the file with tabix.)\n",
      "[W::vcf_parse] Contig 'chr16_KI270855v1_alt' is not defined in the header. (Quick workaround: index the file with tabix.)\n",
      "[W::vcf_parse] Contig 'chr16_KI270853v1_alt' is not defined in the header. (Quick workaround: index the file with tabix.)\n",
      "[W::vcf_parse] Contig 'chr16_GL383556v1_alt' is not defined in the header. (Quick workaround: index the file with tabix.)\n",
      "[W::vcf_parse] Contig 'chr16_GL383557v1_alt' is not defined in the header. (Quick workaround: index the file with tabix.)\n",
      "[W::vcf_parse] Contig 'chr17_GL383563v3_alt' is not defined in the header. (Quick workaround: index the file with tabix.)\n",
      "[W::vcf_parse] Contig 'chr17_KI270862v1_alt' is not defined in the header. (Quick workaround: index the file with tabix.)\n",
      "[W::vcf_parse] Contig 'chr17_KI270861v1_alt' is not defined in the header. (Quick workaround: index the file with tabix.)\n",
      "[W::vcf_parse] Contig 'chr17_KI270857v1_alt' is not defined in the header. (Quick workaround: index the file with tabix.)\n",
      "[W::vcf_parse] Contig 'chr17_JH159146v1_alt' is not defined in the header. (Quick workaround: index the file with tabix.)\n",
      "[W::vcf_parse] Contig 'chr17_JH159147v1_alt' is not defined in the header. (Quick workaround: index the file with tabix.)\n",
      "[W::vcf_parse] Contig 'chr17_GL383564v2_alt' is not defined in the header. (Quick workaround: index the file with tabix.)\n",
      "[W::vcf_parse] Contig 'chr17_GL000258v2_alt' is not defined in the header. (Quick workaround: index the file with tabix.)\n",
      "[W::vcf_parse] Contig 'chr17_GL383565v1_alt' is not defined in the header. (Quick workaround: index the file with tabix.)\n",
      "[W::vcf_parse] Contig 'chr17_KI270858v1_alt' is not defined in the header. (Quick workaround: index the file with tabix.)\n",
      "[W::vcf_parse] Contig 'chr17_KI270859v1_alt' is not defined in the header. (Quick workaround: index the file with tabix.)\n",
      "[W::vcf_parse] Contig 'chr17_GL383566v1_alt' is not defined in the header. (Quick workaround: index the file with tabix.)\n",
      "[W::vcf_parse] Contig 'chr17_KI270860v1_alt' is not defined in the header. (Quick workaround: index the file with tabix.)\n",
      "[W::vcf_parse] Contig 'chr18_GL383567v1_alt' is not defined in the header. (Quick workaround: index the file with tabix.)\n",
      "[W::vcf_parse] Contig 'chr18_GL383571v1_alt' is not defined in the header. (Quick workaround: index the file with tabix.)\n",
      "[W::vcf_parse] Contig 'chr18_GL383572v1_alt' is not defined in the header. (Quick workaround: index the file with tabix.)\n",
      "[W::vcf_parse] Contig 'chr18_KI270863v1_alt' is not defined in the header. (Quick workaround: index the file with tabix.)\n",
      "[W::vcf_parse] Contig 'chr19_KI270868v1_alt' is not defined in the header. (Quick workaround: index the file with tabix.)\n",
      "[W::vcf_parse] Contig 'chr19_KI270865v1_alt' is not defined in the header. (Quick workaround: index the file with tabix.)\n",
      "[W::vcf_parse] Contig 'chr19_GL383573v1_alt' is not defined in the header. (Quick workaround: index the file with tabix.)\n",
      "[W::vcf_parse] Contig 'chr19_GL383575v2_alt' is not defined in the header. (Quick workaround: index the file with tabix.)\n",
      "[W::vcf_parse] Contig 'chr19_GL383576v1_alt' is not defined in the header. (Quick workaround: index the file with tabix.)\n",
      "[W::vcf_parse] Contig 'chr19_GL383574v1_alt' is not defined in the header. (Quick workaround: index the file with tabix.)\n",
      "[W::vcf_parse] Contig 'chr19_KI270866v1_alt' is not defined in the header. (Quick workaround: index the file with tabix.)\n",
      "[W::vcf_parse] Contig 'chr19_KI270867v1_alt' is not defined in the header. (Quick workaround: index the file with tabix.)\n",
      "[W::vcf_parse] Contig 'chr19_GL949746v1_alt' is not defined in the header. (Quick workaround: index the file with tabix.)\n",
      "[W::vcf_parse] Contig 'chr20_GL383577v2_alt' is not defined in the header. (Quick workaround: index the file with tabix.)\n",
      "[W::vcf_parse] Contig 'chr20_KI270869v1_alt' is not defined in the header. (Quick workaround: index the file with tabix.)\n",
      "[W::vcf_parse] Contig 'chr20_KI270871v1_alt' is not defined in the header. (Quick workaround: index the file with tabix.)\n",
      "[W::vcf_parse] Contig 'chr20_KI270870v1_alt' is not defined in the header. (Quick workaround: index the file with tabix.)\n",
      "[W::vcf_parse] Contig 'chr21_KI270874v1_alt' is not defined in the header. (Quick workaround: index the file with tabix.)\n",
      "[W::vcf_parse] Contig 'chr21_KI270873v1_alt' is not defined in the header. (Quick workaround: index the file with tabix.)\n",
      "[W::vcf_parse] Contig 'chr21_GL383579v2_alt' is not defined in the header. (Quick workaround: index the file with tabix.)\n",
      "[W::vcf_parse] Contig 'chr21_GL383580v2_alt' is not defined in the header. (Quick workaround: index the file with tabix.)\n",
      "[W::vcf_parse] Contig 'chr21_GL383581v2_alt' is not defined in the header. (Quick workaround: index the file with tabix.)\n",
      "[W::vcf_parse] Contig 'chr21_KI270872v1_alt' is not defined in the header. (Quick workaround: index the file with tabix.)\n",
      "[W::vcf_parse] Contig 'chr22_KI270875v1_alt' is not defined in the header. (Quick workaround: index the file with tabix.)\n",
      "[W::vcf_parse] Contig 'chr22_KI270878v1_alt' is not defined in the header. (Quick workaround: index the file with tabix.)\n",
      "[W::vcf_parse] Contig 'chr22_KI270879v1_alt' is not defined in the header. (Quick workaround: index the file with tabix.)\n",
      "[W::vcf_parse] Contig 'chr22_KI270876v1_alt' is not defined in the header. (Quick workaround: index the file with tabix.)\n",
      "[W::vcf_parse] Contig 'chr22_KI270877v1_alt' is not defined in the header. (Quick workaround: index the file with tabix.)\n",
      "[W::vcf_parse] Contig 'chr22_GL383583v2_alt' is not defined in the header. (Quick workaround: index the file with tabix.)\n",
      "[W::vcf_parse] Contig 'chr22_GL383582v2_alt' is not defined in the header. (Quick workaround: index the file with tabix.)\n",
      "[W::vcf_parse] Contig 'chrX_KI270880v1_alt' is not defined in the header. (Quick workaround: index the file with tabix.)\n",
      "[W::vcf_parse] Contig 'chrX_KI270881v1_alt' is not defined in the header. (Quick workaround: index the file with tabix.)\n",
      "[W::vcf_parse] Contig 'chr19_KI270882v1_alt' is not defined in the header. (Quick workaround: index the file with tabix.)\n",
      "[W::vcf_parse] Contig 'chr19_KI270883v1_alt' is not defined in the header. (Quick workaround: index the file with tabix.)\n",
      "[W::vcf_parse] Contig 'chr19_KI270884v1_alt' is not defined in the header. (Quick workaround: index the file with tabix.)\n",
      "[W::vcf_parse] Contig 'chr19_KI270885v1_alt' is not defined in the header. (Quick workaround: index the file with tabix.)\n"
     ]
    },
    {
     "name": "stdout",
     "output_type": "stream",
     "text": [
      "[W::vcf_parse] Contig 'chr19_KI270886v1_alt' is not defined in the header. (Quick workaround: index the file with tabix.)\n",
      "[W::vcf_parse] Contig 'chr19_KI270887v1_alt' is not defined in the header. (Quick workaround: index the file with tabix.)\n",
      "[W::vcf_parse] Contig 'chr19_KI270888v1_alt' is not defined in the header. (Quick workaround: index the file with tabix.)\n",
      "[W::vcf_parse] Contig 'chr19_KI270889v1_alt' is not defined in the header. (Quick workaround: index the file with tabix.)\n",
      "[W::vcf_parse] Contig 'chr19_KI270890v1_alt' is not defined in the header. (Quick workaround: index the file with tabix.)\n",
      "[W::vcf_parse] Contig 'chr19_KI270891v1_alt' is not defined in the header. (Quick workaround: index the file with tabix.)\n",
      "[W::vcf_parse] Contig 'chr1_KI270892v1_alt' is not defined in the header. (Quick workaround: index the file with tabix.)\n",
      "[W::vcf_parse] Contig 'chr2_KI270894v1_alt' is not defined in the header. (Quick workaround: index the file with tabix.)\n",
      "[W::vcf_parse] Contig 'chr2_KI270893v1_alt' is not defined in the header. (Quick workaround: index the file with tabix.)\n",
      "[W::vcf_parse] Contig 'chr3_KI270895v1_alt' is not defined in the header. (Quick workaround: index the file with tabix.)\n",
      "[W::vcf_parse] Contig 'chr4_KI270896v1_alt' is not defined in the header. (Quick workaround: index the file with tabix.)\n",
      "[W::vcf_parse] Contig 'chr5_KI270897v1_alt' is not defined in the header. (Quick workaround: index the file with tabix.)\n",
      "[W::vcf_parse] Contig 'chr5_KI270898v1_alt' is not defined in the header. (Quick workaround: index the file with tabix.)\n",
      "[W::vcf_parse] Contig 'chr6_GL000251v2_alt' is not defined in the header. (Quick workaround: index the file with tabix.)\n",
      "[W::vcf_parse] Contig 'chr7_KI270899v1_alt' is not defined in the header. (Quick workaround: index the file with tabix.)\n",
      "[W::vcf_parse] Contig 'chr8_KI270900v1_alt' is not defined in the header. (Quick workaround: index the file with tabix.)\n",
      "[W::vcf_parse] Contig 'chr11_KI270902v1_alt' is not defined in the header. (Quick workaround: index the file with tabix.)\n",
      "[W::vcf_parse] Contig 'chr11_KI270903v1_alt' is not defined in the header. (Quick workaround: index the file with tabix.)\n",
      "[W::vcf_parse] Contig 'chr12_KI270904v1_alt' is not defined in the header. (Quick workaround: index the file with tabix.)\n",
      "[W::vcf_parse] Contig 'chr15_KI270906v1_alt' is not defined in the header. (Quick workaround: index the file with tabix.)\n",
      "[W::vcf_parse] Contig 'chr15_KI270905v1_alt' is not defined in the header. (Quick workaround: index the file with tabix.)\n",
      "[W::vcf_parse] Contig 'chr17_KI270907v1_alt' is not defined in the header. (Quick workaround: index the file with tabix.)\n",
      "[W::vcf_parse] Contig 'chr17_KI270910v1_alt' is not defined in the header. (Quick workaround: index the file with tabix.)\n",
      "[W::vcf_parse] Contig 'chr17_KI270909v1_alt' is not defined in the header. (Quick workaround: index the file with tabix.)\n",
      "[W::vcf_parse] Contig 'chr17_JH159148v1_alt' is not defined in the header. (Quick workaround: index the file with tabix.)\n",
      "[W::vcf_parse] Contig 'chr17_KI270908v1_alt' is not defined in the header. (Quick workaround: index the file with tabix.)\n",
      "[W::vcf_parse] Contig 'chr18_KI270912v1_alt' is not defined in the header. (Quick workaround: index the file with tabix.)\n",
      "[W::vcf_parse] Contig 'chr18_KI270911v1_alt' is not defined in the header. (Quick workaround: index the file with tabix.)\n",
      "[W::vcf_parse] Contig 'chr19_GL949747v2_alt' is not defined in the header. (Quick workaround: index the file with tabix.)\n",
      "[W::vcf_parse] Contig 'chr22_KB663609v1_alt' is not defined in the header. (Quick workaround: index the file with tabix.)\n",
      "[W::vcf_parse] Contig 'chrX_KI270913v1_alt' is not defined in the header. (Quick workaround: index the file with tabix.)\n",
      "[W::vcf_parse] Contig 'chr19_KI270914v1_alt' is not defined in the header. (Quick workaround: index the file with tabix.)\n",
      "[W::vcf_parse] Contig 'chr19_KI270915v1_alt' is not defined in the header. (Quick workaround: index the file with tabix.)\n",
      "[W::vcf_parse] Contig 'chr19_KI270916v1_alt' is not defined in the header. (Quick workaround: index the file with tabix.)\n",
      "[W::vcf_parse] Contig 'chr19_KI270917v1_alt' is not defined in the header. (Quick workaround: index the file with tabix.)\n",
      "[W::vcf_parse] Contig 'chr19_KI270918v1_alt' is not defined in the header. (Quick workaround: index the file with tabix.)\n",
      "[W::vcf_parse] Contig 'chr19_KI270919v1_alt' is not defined in the header. (Quick workaround: index the file with tabix.)\n",
      "[W::vcf_parse] Contig 'chr19_KI270920v1_alt' is not defined in the header. (Quick workaround: index the file with tabix.)\n",
      "[W::vcf_parse] Contig 'chr19_KI270921v1_alt' is not defined in the header. (Quick workaround: index the file with tabix.)\n",
      "[W::vcf_parse] Contig 'chr19_KI270922v1_alt' is not defined in the header. (Quick workaround: index the file with tabix.)\n",
      "[W::vcf_parse] Contig 'chr19_KI270923v1_alt' is not defined in the header. (Quick workaround: index the file with tabix.)\n",
      "[W::vcf_parse] Contig 'chr3_KI270924v1_alt' is not defined in the header. (Quick workaround: index the file with tabix.)\n",
      "[W::vcf_parse] Contig 'chr4_KI270925v1_alt' is not defined in the header. (Quick workaround: index the file with tabix.)\n",
      "[W::vcf_parse] Contig 'chr6_GL000252v2_alt' is not defined in the header. (Quick workaround: index the file with tabix.)\n",
      "[W::vcf_parse] Contig 'chr8_KI270926v1_alt' is not defined in the header. (Quick workaround: index the file with tabix.)\n",
      "[W::vcf_parse] Contig 'chr11_KI270927v1_alt' is not defined in the header. (Quick workaround: index the file with tabix.)\n",
      "[W::vcf_parse] Contig 'chr19_GL949748v2_alt' is not defined in the header. (Quick workaround: index the file with tabix.)\n",
      "[W::vcf_parse] Contig 'chr22_KI270928v1_alt' is not defined in the header. (Quick workaround: index the file with tabix.)\n",
      "[W::vcf_parse] Contig 'chr19_KI270929v1_alt' is not defined in the header. (Quick workaround: index the file with tabix.)\n",
      "[W::vcf_parse] Contig 'chr19_KI270930v1_alt' is not defined in the header. (Quick workaround: index the file with tabix.)\n",
      "[W::vcf_parse] Contig 'chr19_KI270931v1_alt' is not defined in the header. (Quick workaround: index the file with tabix.)\n",
      "[W::vcf_parse] Contig 'chr19_KI270932v1_alt' is not defined in the header. (Quick workaround: index the file with tabix.)\n",
      "[W::vcf_parse] Contig 'chr19_KI270933v1_alt' is not defined in the header. (Quick workaround: index the file with tabix.)\n",
      "[W::vcf_parse] Contig 'chr19_GL000209v2_alt' is not defined in the header. (Quick workaround: index the file with tabix.)\n",
      "[W::vcf_parse] Contig 'chr3_KI270934v1_alt' is not defined in the header. (Quick workaround: index the file with tabix.)\n",
      "[W::vcf_parse] Contig 'chr6_GL000253v2_alt' is not defined in the header. (Quick workaround: index the file with tabix.)\n",
      "[W::vcf_parse] Contig 'chr19_GL949749v2_alt' is not defined in the header. (Quick workaround: index the file with tabix.)\n",
      "[W::vcf_parse] Contig 'chr3_KI270935v1_alt' is not defined in the header. (Quick workaround: index the file with tabix.)\n",
      "[W::vcf_parse] Contig 'chr6_GL000254v2_alt' is not defined in the header. (Quick workaround: index the file with tabix.)\n",
      "[W::vcf_parse] Contig 'chr19_GL949750v2_alt' is not defined in the header. (Quick workaround: index the file with tabix.)\n",
      "[W::vcf_parse] Contig 'chr3_KI270936v1_alt' is not defined in the header. (Quick workaround: index the file with tabix.)\n",
      "[W::vcf_parse] Contig 'chr6_GL000255v2_alt' is not defined in the header. (Quick workaround: index the file with tabix.)\n",
      "[W::vcf_parse] Contig 'chr19_GL949751v2_alt' is not defined in the header. (Quick workaround: index the file with tabix.)\n",
      "[W::vcf_parse] Contig 'chr3_KI270937v1_alt' is not defined in the header. (Quick workaround: index the file with tabix.)\n",
      "[W::vcf_parse] Contig 'chr6_GL000256v2_alt' is not defined in the header. (Quick workaround: index the file with tabix.)\n",
      "[W::vcf_parse] Contig 'chr19_GL949752v1_alt' is not defined in the header. (Quick workaround: index the file with tabix.)\n",
      "[W::vcf_parse] Contig 'chr6_KI270758v1_alt' is not defined in the header. (Quick workaround: index the file with tabix.)\n",
      "[W::vcf_parse] Contig 'chr19_GL949753v2_alt' is not defined in the header. (Quick workaround: index the file with tabix.)\n"
     ]
    },
    {
     "name": "stdout",
     "output_type": "stream",
     "text": [
      "[W::vcf_parse] Contig 'chr19_KI270938v1_alt' is not defined in the header. (Quick workaround: index the file with tabix.)\n",
      "[W::vcf_parse] Contig 'chrM' is not defined in the header. (Quick workaround: index the file with tabix.)\n",
      "[W::vcf_parse] Contig 'chrUn_KI270442v1' is not defined in the header. (Quick workaround: index the file with tabix.)\n",
      "[W::vcf_parse] Contig 'chrUn_KI270467v1' is not defined in the header. (Quick workaround: index the file with tabix.)\n",
      "[W::vcf_parse] Contig 'chrUn_KI270438v1' is not defined in the header. (Quick workaround: index the file with tabix.)\n",
      "[W::vcf_parse] Contig 'chrUn_KI270512v1' is not defined in the header. (Quick workaround: index the file with tabix.)\n",
      "[W::vcf_parse] Contig 'chrUn_KI270519v1' is not defined in the header. (Quick workaround: index the file with tabix.)\n",
      "[W::vcf_parse] Contig 'chrUn_GL000195v1' is not defined in the header. (Quick workaround: index the file with tabix.)\n",
      "[W::vcf_parse] Contig 'chrUn_GL000219v1' is not defined in the header. (Quick workaround: index the file with tabix.)\n",
      "[W::vcf_parse] Contig 'chrUn_GL000220v1' is not defined in the header. (Quick workaround: index the file with tabix.)\n",
      "[W::vcf_parse] Contig 'chrUn_GL000224v1' is not defined in the header. (Quick workaround: index the file with tabix.)\n",
      "[W::vcf_parse] Contig 'chrUn_KI270741v1' is not defined in the header. (Quick workaround: index the file with tabix.)\n",
      "[W::vcf_parse] Contig 'chrUn_GL000213v1' is not defined in the header. (Quick workaround: index the file with tabix.)\n",
      "[W::vcf_parse] Contig 'chrUn_KI270743v1' is not defined in the header. (Quick workaround: index the file with tabix.)\n",
      "[W::vcf_parse] Contig 'chrUn_KI270744v1' is not defined in the header. (Quick workaround: index the file with tabix.)\n",
      "[W::vcf_parse] Contig 'chrUn_KI270745v1' is not defined in the header. (Quick workaround: index the file with tabix.)\n",
      "[W::vcf_parse] Contig 'chrUn_KI270746v1' is not defined in the header. (Quick workaround: index the file with tabix.)\n",
      "[W::vcf_parse] Contig 'chrUn_KI270747v1' is not defined in the header. (Quick workaround: index the file with tabix.)\n",
      "[W::vcf_parse] Contig 'chrUn_KI270748v1' is not defined in the header. (Quick workaround: index the file with tabix.)\n",
      "[W::vcf_parse] Contig 'chrUn_KI270749v1' is not defined in the header. (Quick workaround: index the file with tabix.)\n",
      "[W::vcf_parse] Contig 'chrUn_KI270750v1' is not defined in the header. (Quick workaround: index the file with tabix.)\n",
      "[W::vcf_parse] Contig 'chrUn_KI270751v1' is not defined in the header. (Quick workaround: index the file with tabix.)\n",
      "[W::vcf_parse] Contig 'chrUn_KI270753v1' is not defined in the header. (Quick workaround: index the file with tabix.)\n",
      "[W::vcf_parse] Contig 'chrUn_KI270756v1' is not defined in the header. (Quick workaround: index the file with tabix.)\n",
      "[W::vcf_parse] Contig 'chrUn_GL000214v1' is not defined in the header. (Quick workaround: index the file with tabix.)\n",
      "[W::vcf_parse] Contig 'chrUn_KI270742v1' is not defined in the header. (Quick workaround: index the file with tabix.)\n",
      "[W::vcf_parse] Contig 'chrUn_GL000216v2' is not defined in the header. (Quick workaround: index the file with tabix.)\n",
      "[W::vcf_parse] Contig 'chrUn_GL000218v1' is not defined in the header. (Quick workaround: index the file with tabix.)\n",
      "[W::vcf_parse] Contig 'chrX' is not defined in the header. (Quick workaround: index the file with tabix.)\n",
      "[W::vcf_parse] Contig 'chrY' is not defined in the header. (Quick workaround: index the file with tabix.)\n"
     ]
    }
   ],
   "source": [
    "#filtering the file to only show variations\n",
    "!bcftools view -v snps,indels ~/biol6150/ProjectSubmissions/Group8/Project3/VariantCalling/SRR393028.vcf > ~/biol6150/ProjectSubmissions/Group8/Project3/filtered_SRR393028.vcf"
   ]
  },
  {
   "cell_type": "code",
   "execution_count": 1,
   "id": "e4b7ddec",
   "metadata": {
    "scrolled": true
   },
   "outputs": [
    {
     "name": "stdout",
     "output_type": "stream",
     "text": [
      "##fileformat=VCFv4.3\r\n",
      "##FILTER=<ID=PASS,Description=\"All filters passed\">\r\n",
      "##source=VarScan2\r\n",
      "##INFO=<ID=ADP,Number=1,Type=Integer,Description=\"Average per-sample depth of bases with Phred score >= 15\">\r\n",
      "##INFO=<ID=WT,Number=1,Type=Integer,Description=\"Number of samples called reference (wild-type)\">\r\n",
      "##INFO=<ID=HET,Number=1,Type=Integer,Description=\"Number of samples called heterozygous-variant\">\r\n",
      "##INFO=<ID=HOM,Number=1,Type=Integer,Description=\"Number of samples called homozygous-variant\">\r\n",
      "##INFO=<ID=NC,Number=1,Type=Integer,Description=\"Number of samples not called\">\r\n",
      "##FILTER=<ID=str10,Description=\"Less than 10% or more than 90% of variant supporting reads on one strand\">\r\n",
      "##FILTER=<ID=indelError,Description=\"Likely artifact due to indel reads at this position\">\r\n",
      "##FORMAT=<ID=GT,Number=1,Type=String,Description=\"Genotype\">\r\n",
      "##FORMAT=<ID=GQ,Number=1,Type=Integer,Description=\"Genotype Quality\">\r\n",
      "##FORMAT=<ID=SDP,Number=1,Type=Integer,Description=\"Raw Read Depth as reported by SAMtools\">\r\n",
      "##FORMAT=<ID=DP,Number=1,Type=Integer,Description=\"Quality Read Depth of bases with Phred score >= 15\">\r\n",
      "##FORMAT=<ID=RD,Number=1,Type=Integer,Description=\"Depth of reference-supporting bases (reads1)\">\r\n",
      "##FORMAT=<ID=AD,Number=1,Type=Integer,Description=\"Depth of variant-supporting bases (reads2)\">\r\n",
      "##FORMAT=<ID=FREQ,Number=1,Type=String,Description=\"Variant allele frequency\">\r\n",
      "##FORMAT=<ID=PVAL,Number=1,Type=String,Description=\"P-value from Fisher's Exact Test\">\r\n",
      "##FORMAT=<ID=RBQ,Number=1,Type=Integer,Description=\"Average quality of reference-supporting bases (qual1)\">\r\n",
      "##FORMAT=<ID=ABQ,Number=1,Type=Integer,Description=\"Average quality of variant-supporting bases (qual2)\">\r\n",
      "##FORMAT=<ID=RDF,Number=1,Type=Integer,Description=\"Depth of reference-supporting bases on forward strand (reads1plus)\">\r\n",
      "##FORMAT=<ID=RDR,Number=1,Type=Integer,Description=\"Depth of reference-supporting bases on reverse strand (reads1minus)\">\r\n",
      "##FORMAT=<ID=ADF,Number=1,Type=Integer,Description=\"Depth of variant-supporting bases on forward strand (reads2plus)\">\r\n",
      "##FORMAT=<ID=ADR,Number=1,Type=Integer,Description=\"Depth of variant-supporting bases on reverse strand (reads2minus)\">\r\n",
      "##bcftools_viewVersion=1.17+htslib-1.17\r\n",
      "##bcftools_viewCommand=view -v snps,indels /home/hice1/kbook6/biol6150/ProjectSubmissions/Group8/Project3/VariantCalling/SRR393028.vcf; Date=Fri Oct 11 13:09:59 2024\r\n",
      "#CHROM\tPOS\tID\tREF\tALT\tQUAL\tFILTER\tINFO\tFORMAT\tSample1\r\n",
      "chr1\t1955580\t.\tA\tG\t.\tPASS\tADP=14;WT=0;HET=0;HOM=1;NC=0\tGT:GQ:SDP:DP:RD:AD:FREQ:PVAL:RBQ:ABQ:RDF:RDR:ADF:ADR\t1/1:76:14:14:0:14:100%:2.4927E-8:0:40:0:0:6:8\r\n",
      "chr1\t3823176\t.\tC\tT\t.\tPASS\tADP=22;WT=0;HET=1;HOM=0;NC=0\tGT:GQ:SDP:DP:RD:AD:FREQ:PVAL:RBQ:ABQ:RDF:RDR:ADF:ADR\t0/1:45:22:22:10:12:54.55%:3.066E-5:33:32:2:8:5:7\r\n",
      "chr1\t4711993\t.\tT\tC\t.\tPASS\tADP=16;WT=0;HET=0;HOM=1;NC=0\tGT:GQ:SDP:DP:RD:AD:FREQ:PVAL:RBQ:ABQ:RDF:RDR:ADF:ADR\t1/1:87:16:16:0:16:100%:1.6637E-9:0:39:0:0:0:16\r\n",
      "chr1\t7751155\t.\tA\tG\t.\tPASS\tADP=13;WT=0;HET=0;HOM=1;NC=0\tGT:GQ:SDP:DP:RD:AD:FREQ:PVAL:RBQ:ABQ:RDF:RDR:ADF:ADR\t1/1:70:13:13:0:13:100%:9.6148E-8:0:32:0:0:11:2\r\n",
      "chr1\t9263943\t.\tA\tG\t.\tPASS\tADP=19;WT=0;HET=1;HOM=0;NC=0\tGT:GQ:SDP:DP:RD:AD:FREQ:PVAL:RBQ:ABQ:RDF:RDR:ADF:ADR\t0/1:37:19:19:9:10:52.63%:1.9541E-4:36:38:6:3:6:4\r\n",
      "chr1\t9264611\t.\tA\tG\t.\tPASS\tADP=10;WT=0;HET=0;HOM=1;NC=0\tGT:GQ:SDP:DP:RD:AD:FREQ:PVAL:RBQ:ABQ:RDF:RDR:ADF:ADR\t1/1:52:10:10:0:10:100%:5.4125E-6:0:29:0:0:5:5\r\n",
      "chr1\t11069791\t.\tA\tG\t.\tPASS\tADP=16;WT=0;HET=0;HOM=1;NC=0\tGT:GQ:SDP:DP:RD:AD:FREQ:PVAL:RBQ:ABQ:RDF:RDR:ADF:ADR\t1/1:87:16:16:0:16:100%:1.6637E-9:0:30:0:0:0:16\r\n",
      "chr1\t11127836\t.\tT\tC\t.\tPASS\tADP=10;WT=0;HET=0;HOM=1;NC=0\tGT:GQ:SDP:DP:RD:AD:FREQ:PVAL:RBQ:ABQ:RDF:RDR:ADF:ADR\t1/1:52:10:10:0:10:100%:5.4125E-6:0:32:0:0:2:8\r\n",
      "chr1\t12341811\t.\tA\tC\t.\tPASS\tADP=10;WT=0;HET=0;HOM=1;NC=0\tGT:GQ:SDP:DP:RD:AD:FREQ:PVAL:RBQ:ABQ:RDF:RDR:ADF:ADR\t1/1:52:10:10:0:10:100%:5.4125E-6:0:33:0:0:5:5\r\n",
      "chr1\t12775725\t.\tC\tT\t.\tPASS\tADP=11;WT=0;HET=0;HOM=1;NC=0\tGT:GQ:SDP:DP:RD:AD:FREQ:PVAL:RBQ:ABQ:RDF:RDR:ADF:ADR\t1/1:58:11:11:0:11:100%:1.4176E-6:0:33:0:0:2:9\r\n",
      "chr1\t12827690\t.\tC\tT\t.\tPASS\tADP=34;WT=0;HET=1;HOM=0;NC=0\tGT:GQ:SDP:DP:RD:AD:FREQ:PVAL:RBQ:ABQ:RDF:RDR:ADF:ADR\t0/1:94:34:34:11:23:67.65%:3.5675E-10:30:32:4:7:11:12\r\n",
      "chr1\t12827720\t.\tT\tG\t.\tPASS\tADP=30;WT=0;HET=0;HOM=1;NC=0\tGT:GQ:SDP:DP:RD:AD:FREQ:PVAL:RBQ:ABQ:RDF:RDR:ADF:ADR\t1/1:143:30:30:2:28:93.33%:4.194E-15:30:33:2:0:12:16\r\n",
      "chr1\t12838525\t.\tG\tC\t.\tPASS\tADP=13;WT=0;HET=0;HOM=1;NC=0\tGT:GQ:SDP:DP:RD:AD:FREQ:PVAL:RBQ:ABQ:RDF:RDR:ADF:ADR\t1/1:70:13:13:0:13:100%:9.6148E-8:0:39:0:0:10:3\r\n",
      "chr1\t12838922\t.\tC\tG\t.\tPASS\tADP=18;WT=0;HET=0;HOM=1;NC=0\tGT:GQ:SDP:DP:RD:AD:FREQ:PVAL:RBQ:ABQ:RDF:RDR:ADF:ADR\t1/1:76:18:18:2:16:88.89%:2.0936E-8:30:31:1:1:4:12\r\n",
      "chr1\t12838925\t.\tT\tA\t.\tPASS\tADP=17;WT=0;HET=0;HOM=1;NC=0\tGT:GQ:SDP:DP:RD:AD:FREQ:PVAL:RBQ:ABQ:RDF:RDR:ADF:ADR\t1/1:81:17:17:1:16:94.12%:7.7134E-9:30:31:0:1:4:12\r\n",
      "chr1\t12882298\t.\tT\tC\t.\tPASS\tADP=24;WT=0;HET=0;HOM=1;NC=0\tGT:GQ:SDP:DP:RD:AD:FREQ:PVAL:RBQ:ABQ:RDF:RDR:ADF:ADR\t1/1:135:24:24:0:24:100%:3.101E-14:0:30:0:0:7:17\r\n",
      "chr1\t12893335\t.\tT\tG\t.\tPASS\tADP=39;WT=0;HET=1;HOM=0;NC=0\tGT:GQ:SDP:DP:RD:AD:FREQ:PVAL:RBQ:ABQ:RDF:RDR:ADF:ADR\t0/1:36:39:39:28:11:28.21%:2.1547E-4:35:32:17:11:5:6\r\n",
      "chr1\t12895136\t.\tT\tG\t.\tPASS\tADP=26;WT=0;HET=1;HOM=0;NC=0\tGT:GQ:SDP:DP:RD:AD:FREQ:PVAL:RBQ:ABQ:RDF:RDR:ADF:ADR\t0/1:47:27:26:13:13:50%:1.6379E-5:32:34:3:10:5:8\r\n",
      "chr1\t12920302\t.\tC\tG\t.\tPASS\tADP=16;WT=0;HET=0;HOM=1;NC=0\tGT:GQ:SDP:DP:RD:AD:FREQ:PVAL:RBQ:ABQ:RDF:RDR:ADF:ADR\t1/1:87:16:16:0:16:100%:1.6637E-9:0:33:0:0:3:13\r\n",
      "chr1\t13246759\t.\tT\tC\t.\tPASS\tADP=12;WT=0;HET=0;HOM=1;NC=0\tGT:GQ:SDP:DP:RD:AD:FREQ:PVAL:RBQ:ABQ:RDF:RDR:ADF:ADR\t1/1:44:12:12:2:10:83.33%:3.3652E-5:45:33:2:0:4:6\r\n",
      "chr1\t13369423\t.\tC\tG\t.\tPASS\tADP=38;WT=0;HET=1;HOM=0;NC=0\tGT:GQ:SDP:DP:RD:AD:FREQ:PVAL:RBQ:ABQ:RDF:RDR:ADF:ADR\t0/1:36:38:38:27:11:28.95%:2.1011E-4:31:38:15:12:5:6\r\n",
      "chr1\t13418237\t.\tC\tG\t.\tPASS\tADP=32;WT=0;HET=0;HOM=1;NC=0\tGT:GQ:SDP:DP:RD:AD:FREQ:PVAL:RBQ:ABQ:RDF:RDR:ADF:ADR\t1/1:182:32:32:0:32:100%:5.4567E-19:0:30:0:0:18:14\r\n",
      "chr1\t15933897\t.\tA\tG\t.\tPASS\tADP=17;WT=0;HET=1;HOM=0;NC=0\tGT:GQ:SDP:DP:RD:AD:FREQ:PVAL:RBQ:ABQ:RDF:RDR:ADF:ADR\t0/1:49:17:17:5:12:70.59%:1.1285E-5:36:31:2:3:6:6\r\n"
     ]
    }
   ],
   "source": [
    "#checking the head\n",
    "!head -50 ~/biol6150/ProjectSubmissions/Group8/Project3/filtered_SRR393028.vcf"
   ]
  },
  {
   "cell_type": "code",
   "execution_count": 1,
   "id": "ba45ce2d",
   "metadata": {},
   "outputs": [
    {
     "name": "stdout",
     "output_type": "stream",
     "text": [
      "chr2\t179945453\t.\tC\tT\t.\tPASS\tADP=10;WT=0;HET=0;HOM=1;NC=0\tGT:GQ:SDP:DP:RD:AD:FREQ:PVAL:RBQ:ABQ:RDF:RDR:ADF:ADR\t1/1:52:10:10:0:10:100%:5.4125E-6:0:36:0:0:2:8\r\n",
      "chr2\t191386000\t.\tG\tA\t.\tPASS\tADP=18;WT=0;HET=0;HOM=1;NC=0\tGT:GQ:SDP:DP:RD:AD:FREQ:PVAL:RBQ:ABQ:RDF:RDR:ADF:ADR\t1/1:99:18:18:0:18:100%:1.1019E-10:0:31:0:0:10:8\r\n",
      "chr2\t201258272\t.\tA\tG\t.\tPASS\tADP=15;WT=0;HET=0;HOM=1;NC=0\tGT:GQ:SDP:DP:RD:AD:FREQ:PVAL:RBQ:ABQ:RDF:RDR:ADF:ADR\t1/1:81:15:15:0:15:100%:6.4467E-9:0:32:0:0:3:12\r\n",
      "chr2\t205743315\t.\tT\tC\t.\tPASS\tADP=11;WT=0;HET=0;HOM=1;NC=0\tGT:GQ:SDP:DP:RD:AD:FREQ:PVAL:RBQ:ABQ:RDF:RDR:ADF:ADR\t1/1:58:12:11:0:11:100%:1.4176E-6:0:28:0:0:2:9\r\n",
      "chr2\t208171988\t.\tT\tC\t.\tPASS\tADP=15;WT=0;HET=0;HOM=1;NC=0\tGT:GQ:SDP:DP:RD:AD:FREQ:PVAL:RBQ:ABQ:RDF:RDR:ADF:ADR\t1/1:81:15:15:0:15:100%:6.4467E-9:0:36:0:0:10:5\r\n",
      "chr2\t208172054\t.\tA\tG\t.\tPASS\tADP=21;WT=0;HET=0;HOM=1;NC=0\tGT:GQ:SDP:DP:RD:AD:FREQ:PVAL:RBQ:ABQ:RDF:RDR:ADF:ADR\t1/1:117:21:21:0:21:100%:1.8578E-12:0:34:0:0:4:17\r\n",
      "chr2\t218454934\t.\tA\tG\t.\tPASS\tADP=11;WT=0;HET=0;HOM=1;NC=0\tGT:GQ:SDP:DP:RD:AD:FREQ:PVAL:RBQ:ABQ:RDF:RDR:ADF:ADR\t1/1:58:11:11:0:11:100%:1.4176E-6:0:35:0:0:6:5\r\n",
      "chr2\t219175608\t.\tA\tG\t.\tPASS\tADP=16;WT=0;HET=1;HOM=0;NC=0\tGT:GQ:SDP:DP:RD:AD:FREQ:PVAL:RBQ:ABQ:RDF:RDR:ADF:ADR\t0/1:44:16:16:5:11:68.75%:3.3854E-5:30:33:3:2:3:8\r\n",
      "chr2\t219213774\t.\tT\tC\t.\tPASS\tADP=14;WT=0;HET=0;HOM=1;NC=0\tGT:GQ:SDP:DP:RD:AD:FREQ:PVAL:RBQ:ABQ:RDF:RDR:ADF:ADR\t1/1:76:14:14:0:14:100%:2.4927E-8:0:38:0:0:13:1\r\n",
      "chr2\t219224963\t.\tG\tC\t.\tPASS\tADP=10;WT=0;HET=0;HOM=1;NC=0\tGT:GQ:SDP:DP:RD:AD:FREQ:PVAL:RBQ:ABQ:RDF:RDR:ADF:ADR\t1/1:52:10:10:0:10:100%:5.4125E-6:0:30:0:0:8:2\r\n"
     ]
    }
   ],
   "source": [
    "#looking from the tail for chr2\n",
    "!head ~/biol6150/ProjectSubmissions/Group8/Project3/filtered_SRR393028.vcf -n900 | tail"
   ]
  },
  {
   "cell_type": "code",
   "execution_count": 1,
   "id": "15b2f057",
   "metadata": {},
   "outputs": [
    {
     "name": "stdout",
     "output_type": "stream",
     "text": [
      "##fileformat=VCFv4.3\r\n",
      "##FILTER=<ID=PASS,Description=\"All filters passed\">\r\n",
      "##source=VarScan2\r\n",
      "##INFO=<ID=ADP,Number=1,Type=Integer,Description=\"Average per-sample depth of bases with Phred score >= 15\">\r\n",
      "##INFO=<ID=WT,Number=1,Type=Integer,Description=\"Number of samples called reference (wild-type)\">\r\n",
      "##INFO=<ID=HET,Number=1,Type=Integer,Description=\"Number of samples called heterozygous-variant\">\r\n",
      "##INFO=<ID=HOM,Number=1,Type=Integer,Description=\"Number of samples called homozygous-variant\">\r\n",
      "##INFO=<ID=NC,Number=1,Type=Integer,Description=\"Number of samples not called\">\r\n",
      "##FILTER=<ID=str10,Description=\"Less than 10% or more than 90% of variant supporting reads on one strand\">\r\n",
      "##FILTER=<ID=indelError,Description=\"Likely artifact due to indel reads at this position\">\r\n",
      "##FORMAT=<ID=GT,Number=1,Type=String,Description=\"Genotype\">\r\n",
      "##FORMAT=<ID=GQ,Number=1,Type=Integer,Description=\"Genotype Quality\">\r\n",
      "##FORMAT=<ID=SDP,Number=1,Type=Integer,Description=\"Raw Read Depth as reported by SAMtools\">\r\n",
      "##FORMAT=<ID=DP,Number=1,Type=Integer,Description=\"Quality Read Depth of bases with Phred score >= 15\">\r\n",
      "##FORMAT=<ID=RD,Number=1,Type=Integer,Description=\"Depth of reference-supporting bases (reads1)\">\r\n",
      "##FORMAT=<ID=AD,Number=1,Type=Integer,Description=\"Depth of variant-supporting bases (reads2)\">\r\n",
      "##FORMAT=<ID=FREQ,Number=1,Type=String,Description=\"Variant allele frequency\">\r\n",
      "##FORMAT=<ID=PVAL,Number=1,Type=String,Description=\"P-value from Fisher's Exact Test\">\r\n",
      "##FORMAT=<ID=RBQ,Number=1,Type=Integer,Description=\"Average quality of reference-supporting bases (qual1)\">\r\n",
      "##FORMAT=<ID=ABQ,Number=1,Type=Integer,Description=\"Average quality of variant-supporting bases (qual2)\">\r\n",
      "##FORMAT=<ID=RDF,Number=1,Type=Integer,Description=\"Depth of reference-supporting bases on forward strand (reads1plus)\">\r\n",
      "##FORMAT=<ID=RDR,Number=1,Type=Integer,Description=\"Depth of reference-supporting bases on reverse strand (reads1minus)\">\r\n",
      "##FORMAT=<ID=ADF,Number=1,Type=Integer,Description=\"Depth of variant-supporting bases on forward strand (reads2plus)\">\r\n",
      "##FORMAT=<ID=ADR,Number=1,Type=Integer,Description=\"Depth of variant-supporting bases on reverse strand (reads2minus)\">\r\n",
      "##bcftools_viewVersion=1.17+htslib-1.17\r\n",
      "##bcftools_viewCommand=view -v snps,indels /home/hice1/kbook6/biol6150/ProjectSubmissions/Group8/Project3/VariantCalling/SRR393028.vcf; Date=Fri Oct 11 13:09:59 2024\r\n",
      "#CHROM\tPOS\tID\tREF\tALT\tQUAL\tFILTER\tINFO\tFORMAT\tSample1\r\n",
      "chr2\t219224963\t.\tG\tC\t.\tPASS\tADP=10;WT=0;HET=0;HOM=1;NC=0\tGT:GQ:SDP:DP:RD:AD:FREQ:PVAL:RBQ:ABQ:RDF:RDR:ADF:ADR\t1/1:52:10:10:0:10:100%:5.4125E-6:0:30:0:0:8:2\r\n"
     ]
    }
   ],
   "source": [
    "#grep for the specific chromosome 2 variant 219224963 \n",
    "!grep -P '^(#|chr2\\s+219224963)' ~/biol6150/ProjectSubmissions/Group8/Project3/filtered_SRR393028.vcf"
   ]
  },
  {
   "cell_type": "code",
   "execution_count": 1,
   "id": "d8f8dcf2",
   "metadata": {},
   "outputs": [],
   "source": [
    "#looking for the variant **IGNORE**\n",
    "#!grep -v '^#' ~/biol6150/ProjectSubmissions/Group8/Project3/VariantCalling/SRR393028.vcf | awk '{if(length($4) == 1 && length($5) == 1 || length($4) > 1 || length($5) > 1) print $0}' > variants_snps_indels.vcf"
   ]
  },
  {
   "cell_type": "code",
   "execution_count": 26,
   "id": "f2f3591f",
   "metadata": {},
   "outputs": [],
   "source": [
    "#Variation observed and number of copies for reference allele."
   ]
  },
  {
   "cell_type": "markdown",
   "id": "1f60273e",
   "metadata": {},
   "source": [
    "Variation position: Chr2 219334963"
   ]
  },
  {
   "cell_type": "code",
   "execution_count": null,
   "id": "403ccc29",
   "metadata": {},
   "outputs": [],
   "source": [
    "#Number of reads supporting the ref & alt allele."
   ]
  },
  {
   "cell_type": "markdown",
   "id": "064ae9d3",
   "metadata": {},
   "source": [
    "Number of copies: Since this variant is 1/1, it is homozygous alternate. Therefore, there are 2 copes of the alternate alleles and 0 copies of the reference allele. It is also 0 since wt=0, which is the number of samples called reference \"wild type.\"\n",
    "*This is an unphased file, so the 1 and 0 are interchangable.  "
   ]
  },
  {
   "cell_type": "markdown",
   "id": "9841242e",
   "metadata": {},
   "source": [
    "# **3. Filtering**\n",
    "### *Total Questions: 1*\n",
    "### *Total Points: 8 = 8*\n",
    "\n",
    "\n",
    "---"
   ]
  },
  {
   "cell_type": "markdown",
   "id": "63f0b0dc",
   "metadata": {},
   "source": [
    "<div class=\"alert alert-block alert-warning\">\n",
    "    <h3>3.1 Extract variants that have average per sample depth of > 50. </h3>\n",
    "    <p>Show your command and number of variants before and after</p>\n",
    "</div>"
   ]
  },
  {
   "cell_type": "code",
   "execution_count": 1,
   "id": "61cd2df9",
   "metadata": {
    "scrolled": false
   },
   "outputs": [
    {
     "name": "stdout",
     "output_type": "stream",
     "text": [
      "Min coverage:\t10\n",
      "Min reads2:\t50\n",
      "Min strands2:\t1\n",
      "Min var freq:\t0.2\n",
      "Min avg qual:\t15\n",
      "P-value thresh:\t0.1\n",
      "Reading input from /home/hice1/kbook6/biol6150/ProjectSubmissions/Group8/Project3/filtered_SRR393028.vcf\n",
      "1484 entries in input stream\n",
      "0 had no genotype\n",
      "0 were called wild-type\n",
      "0 failed coverage\n",
      "1476 failed reads2\n",
      "0 failed strands\n",
      "0 failed quality\n",
      "0 failed variant frequency < 0.2\n",
      "0 failed P-value > 0.1\n",
      "0 were removed near indels\n",
      "8 passed filters\n"
     ]
    }
   ],
   "source": [
    "#finding variants with at least 25 reads supporting the alt allele\n",
    "!varscan filter ~/biol6150/ProjectSubmissions/Group8/Project3/filtered_SRR393028.vcf --min-reads2 50 --output-file ~/biol6150/ProjectSubmissions/Group8/Project3/VSfiltered_SRR393028.vcf "
   ]
  },
  {
   "cell_type": "markdown",
   "id": "4a59ffd1",
   "metadata": {},
   "source": [
    "Originally, 1484 variants were enterd in the command, and 1476 failed to pass the filters. \n",
    "8 reads passed the filters, meaning that 8 variants have a depth of at least 50."
   ]
  }
 ],
 "metadata": {
  "kernelspec": {
   "display_name": "Python [conda env:biol6150]",
   "language": "python",
   "name": "conda-env-biol6150-py"
  },
  "language_info": {
   "codemirror_mode": {
    "name": "ipython",
    "version": 3
   },
   "file_extension": ".py",
   "mimetype": "text/x-python",
   "name": "python",
   "nbconvert_exporter": "python",
   "pygments_lexer": "ipython3",
   "version": "3.11.5"
  }
 },
 "nbformat": 4,
 "nbformat_minor": 5
}
