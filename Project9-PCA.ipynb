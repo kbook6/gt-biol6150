{
 "cells": [
  {
   "cell_type": "markdown",
   "id": "f13fe33e",
   "metadata": {},
   "source": [
    "![logo-gt.png](attachment:logo-gt.png)"
   ]
  },
  {
   "cell_type": "markdown",
   "id": "e53587e1",
   "metadata": {},
   "source": [
    "<div class=\"alert alert-block alert-info\">\n",
    "    <h1>BIOS 4150/BIOL 6150</h1>\n",
    "    <h3>Instructor: Dr. King Jordan</h3>\n",
    "    <p>Shivam Sharma (shivamsharma13@gatech.edu), Nilavrah Sensarma (nsensarma3@gatech.edu), Bengy Gyimah-Asamoah, (bgyimaha3@gatech.edu)\n",
    "\n",
    "</p>\n",
    "</div>"
   ]
  },
  {
   "cell_type": "markdown",
   "id": "4c342f3f",
   "metadata": {},
   "source": [
    "<div class=\"alert alert-block alert-warning\">\n",
    "    <h2>Project 9 PCA starter notebook</h2>\n",
    "    <h3>Deadline: 11:59PM, November 26th, 2024</h3>\n",
    "</div>"
   ]
  },
  {
   "cell_type": "markdown",
   "id": "e3f25848",
   "metadata": {},
   "source": [
    "<div class=\"alert alert-block alert-danger\">\n",
    "    <h2>Alert!</h2>\n",
    "    <p>Do not delete any comments or information boxes the starter notebook comes with</p>\n",
    "</div>"
   ]
  },
  {
   "cell_type": "markdown",
   "id": "879a14ff",
   "metadata": {},
   "source": [
    "---"
   ]
  },
  {
   "cell_type": "markdown",
   "id": "f404ae11",
   "metadata": {},
   "source": [
    "# **1. Genetic similarity**\n",
    "### *Total Questions: 2*\n",
    "### *Total Points: 20+20=40*\n",
    "\n",
    "\n",
    "---"
   ]
  },
  {
   "cell_type": "markdown",
   "id": "69ff09a1",
   "metadata": {},
   "source": [
    "<div class=\"alert alert-block alert-warning\">\n",
    "    <h3>1.1 Calculating genetic relationship in the 1000 Genomes data</h3>\n",
    "    <p>GRM matricies can be used to determine the similarity between a set of DNA samples.</p>\n",
    "    <p>In the 1000 genomes data, perform appropriate QC and calculate GRM. Head the first few lines of your GRM as well as the plink2 log file</p>\n",
    "</div>"
   ]
  },
  {
   "cell_type": "code",
   "execution_count": null,
   "id": "6326b653",
   "metadata": {},
   "outputs": [],
   "source": [
    "#Show commands and outputs here."
   ]
  },
  {
   "cell_type": "code",
   "execution_count": 1,
   "id": "fce7352f",
   "metadata": {
    "tags": []
   },
   "outputs": [],
   "source": [
    "# copy chromosome 2 data\n",
    "!cp ~/biol6150/Data/1000Genomes/phase3.chr2.GRCh38.GT.crossmap.vcf.gz ~/biol6150/ProjectSubmissions/Group8/Project9/\n",
    "!cp ~/biol6150/Data/1000Genomes/phase3.chr2.GRCh38.GT.crossmap.vcf.gz.tbi ~/biol6150/ProjectSubmissions/Group8/Project9/"
   ]
  },
  {
   "cell_type": "code",
   "execution_count": 2,
   "id": "8a96c6b4",
   "metadata": {
    "tags": []
   },
   "outputs": [],
   "source": [
    "# make & set a scratch directory\n",
    "!mkdir -p ~/biol6150/ProjectSubmissions/Group8/Project9/scratch"
   ]
  },
  {
   "cell_type": "code",
   "execution_count": 1,
   "id": "2626d95d",
   "metadata": {},
   "outputs": [
    {
     "name": "stdout",
     "output_type": "stream",
     "text": [
      "mkdir: cannot create directory ‘/home/hice1/kbook6/biol6150/ProjectSubmissions/Group8/Project9/scratch/PCA’: Permission denied\n"
     ]
    }
   ],
   "source": [
    "!mkdir -p ~/biol6150/ProjectSubmissions/Group8/Project9/scratch/PCA"
   ]
  },
  {
   "cell_type": "code",
   "execution_count": 3,
   "id": "4cf44ae3",
   "metadata": {
    "tags": []
   },
   "outputs": [
    {
     "name": "stdout",
     "output_type": "stream",
     "text": [
      "PLINK v2.00a5LM 64-bit Intel (23 Sep 2023)     www.cog-genomics.org/plink/2.0/\n",
      "(C) 2005-2023 Shaun Purcell, Christopher Chang   GNU General Public License v3\n",
      "Logging to /home/hice1/jkim3607/biol6150/ProjectSubmissions/Group8/Project9/scratch/1000Genomes.Phase3.Chr2.log.\n",
      "Options in effect:\n",
      "  --make-bed\n",
      "  --out /home/hice1/jkim3607/biol6150/ProjectSubmissions/Group8/Project9/scratch/1000Genomes.Phase3.Chr2\n",
      "  --vcf /home/hice1/jkim3607/biol6150/ProjectSubmissions/Group8/Project9/phase3.chr2.GRCh38.GT.crossmap.vcf.gz\n",
      "\n",
      "Start time: Sun Nov 17 14:37:02 2024\n",
      "515319 MiB RAM detected, ~501782 available; reserving 257659 MiB for main\n",
      "workspace.\n",
      "Using up to 10 threads (change this with --threads).\n",
      "--vcf: 7110177 variants scanned.\n",
      "--vcf: 7077k variants converted.\n",
      "/home/hice1/jkim3607/biol6150/ProjectSubmissions/Group8/Project9/scratch/1000Genomes.Phase3.Chr2-temporary.pgen\n",
      "+\n",
      "/home/hice1/jkim3607/biol6150/ProjectSubmissions/Group8/Project9/scratch/1000Genomes.Phase3.Chr2-temporary.pvar.zst\n",
      "+\n",
      "/home/hice1/jkim3607/biol6150/ProjectSubmissions/Group8/Project9/scratch/1000Genomes.Phase3.Chr2-temporary.psam\n",
      "written.\n",
      "2504 samples (0 females, 0 males, 2504 ambiguous; 2504 founders) loaded from\n",
      "/home/hice1/jkim3607/biol6150/ProjectSubmissions/Group8/Project9/scratch/1000Genomes.Phase3.Chr2-temporary.psam.\n",
      "7110177 variants loaded from\n",
      "/home/hice1/jkim3607/biol6150/ProjectSubmissions/Group8/Project9/scratch/1000Genomes.Phase3.Chr2-temporary.pvar.zst.\n",
      "Note: No phenotype data present.\n",
      "Writing\n",
      "/home/hice1/jkim3607/biol6150/ProjectSubmissions/Group8/Project9/scratch/1000Genomes.Phase3.Chr2.fam\n",
      "... done.\n",
      "Writing\n",
      "/home/hice1/jkim3607/biol6150/ProjectSubmissions/Group8/Project9/scratch/1000Genomes.Phase3.Chr2.bim\n",
      "... done.\n",
      "Writing\n",
      "/home/hice1/jkim3607/biol6150/ProjectSubmissions/Group8/Project9/scratch/1000Genomes.Phase3.Chr2.bed\n",
      "... 101112131415161718192021222324252627282930313233343536373839404142434445464748495051525354555657585960616263646566676869707172737475767778798081828384858687888990919293949596979899done.\n",
      "End time: Sun Nov 17 14:37:53 2024\n"
     ]
    }
   ],
   "source": [
    "# convert to plink\n",
    "!plink2 --vcf ~/biol6150/ProjectSubmissions/Group8/Project9/phase3.chr2.GRCh38.GT.crossmap.vcf.gz --make-bed --out ~/biol6150/ProjectSubmissions/Group8/Project9/scratch/1000Genomes.Phase3.Chr2"
   ]
  },
  {
   "cell_type": "code",
   "execution_count": null,
   "id": "53dc9670",
   "metadata": {},
   "outputs": [],
   "source": [
    "# QC the plink files"
   ]
  },
  {
   "cell_type": "code",
   "execution_count": 4,
   "id": "d5ef4bfa",
   "metadata": {
    "tags": []
   },
   "outputs": [
    {
     "name": "stdout",
     "output_type": "stream",
     "text": [
      "PLINK v2.00a5LM 64-bit Intel (23 Sep 2023)     www.cog-genomics.org/plink/2.0/\n",
      "(C) 2005-2023 Shaun Purcell, Christopher Chang   GNU General Public License v3\n",
      "Logging to /home/hice1/jkim3607/biol6150/ProjectSubmissions/Group8/Project9/scratch/1000Genomes.Phase3.Chr2.QC1.log.\n",
      "Options in effect:\n",
      "  --bfile /home/hice1/jkim3607/biol6150/ProjectSubmissions/Group8/Project9/scratch/1000Genomes.Phase3.Chr2\n",
      "  --geno 0.1\n",
      "  --make-bed\n",
      "  --out /home/hice1/jkim3607/biol6150/ProjectSubmissions/Group8/Project9/scratch/1000Genomes.Phase3.Chr2.QC1\n",
      "\n",
      "Start time: Sun Nov 17 14:38:01 2024\n",
      "515319 MiB RAM detected, ~447128 available; reserving 257659 MiB for main\n",
      "workspace.\n",
      "Using up to 10 threads (change this with --threads).\n",
      "2504 samples (0 females, 0 males, 2504 ambiguous; 2504 founders) loaded from\n",
      "/home/hice1/jkim3607/biol6150/ProjectSubmissions/Group8/Project9/scratch/1000Genomes.Phase3.Chr2.fam.\n",
      "7110177 variants loaded from\n",
      "/home/hice1/jkim3607/biol6150/ProjectSubmissions/Group8/Project9/scratch/1000Genomes.Phase3.Chr2.bim.\n",
      "Note: No phenotype data present.\n",
      "Calculating allele frequencies... 101112131415161718192021222324252627282930313233343536373839404142434445464748495051525354555657585960616263646566676869707172737475767778798081828384858687888990919293949596979899done.\n",
      "--geno: 0 variants removed due to missing genotype data.\n",
      "7110177 variants remaining after main filters.\n",
      "Writing\n",
      "/home/hice1/jkim3607/biol6150/ProjectSubmissions/Group8/Project9/scratch/1000Genomes.Phase3.Chr2.QC1.fam\n",
      "... done.\n",
      "Writing\n",
      "/home/hice1/jkim3607/biol6150/ProjectSubmissions/Group8/Project9/scratch/1000Genomes.Phase3.Chr2.QC1.bim\n",
      "... done.\n",
      "Writing\n",
      "/home/hice1/jkim3607/biol6150/ProjectSubmissions/Group8/Project9/scratch/1000Genomes.Phase3.Chr2.QC1.bed\n",
      "... 101112131415161718192021222324252627282930313233343536373839404142434445464748495051525354555657585960616263646566676869707172737475767778798081828384858687888990919293949596979899done.\n",
      "End time: Sun Nov 17 14:38:26 2024\n"
     ]
    }
   ],
   "source": [
    "# for up to 10% missingness\n",
    "!plink2 --bfile ~/biol6150/ProjectSubmissions/Group8/Project9/scratch/1000Genomes.Phase3.Chr2 --geno 0.1 --make-bed --out ~/biol6150/ProjectSubmissions/Group8/Project9/scratch/1000Genomes.Phase3.Chr2.QC1"
   ]
  },
  {
   "cell_type": "code",
   "execution_count": 5,
   "id": "73fa23f6",
   "metadata": {
    "tags": []
   },
   "outputs": [
    {
     "name": "stdout",
     "output_type": "stream",
     "text": [
      "PLINK v2.00a5LM 64-bit Intel (23 Sep 2023)     www.cog-genomics.org/plink/2.0/\n",
      "(C) 2005-2023 Shaun Purcell, Christopher Chang   GNU General Public License v3\n",
      "Logging to /home/hice1/jkim3607/biol6150/ProjectSubmissions/Group8/Project9/scratch/1000Genomes.Phase3.Chr2.QC2.log.\n",
      "Options in effect:\n",
      "  --bfile /home/hice1/jkim3607/biol6150/ProjectSubmissions/Group8/Project9/scratch/1000Genomes.Phase3.Chr2.QC1\n",
      "  --maf 0.05\n",
      "  --make-bed\n",
      "  --out /home/hice1/jkim3607/biol6150/ProjectSubmissions/Group8/Project9/scratch/1000Genomes.Phase3.Chr2.QC2\n",
      "\n",
      "Start time: Sun Nov 17 14:38:32 2024\n",
      "515319 MiB RAM detected, ~448913 available; reserving 257659 MiB for main\n",
      "workspace.\n",
      "Using up to 10 threads (change this with --threads).\n",
      "2504 samples (0 females, 0 males, 2504 ambiguous; 2504 founders) loaded from\n",
      "/home/hice1/jkim3607/biol6150/ProjectSubmissions/Group8/Project9/scratch/1000Genomes.Phase3.Chr2.QC1.fam.\n",
      "7110177 variants loaded from\n",
      "/home/hice1/jkim3607/biol6150/ProjectSubmissions/Group8/Project9/scratch/1000Genomes.Phase3.Chr2.QC1.bim.\n",
      "Note: No phenotype data present.\n",
      "Calculating allele frequencies... 101112131415161718192021222324252627282930313233343536373839404142434445464748495051525354555657585960616263646566676869707172737475767778798081828384858687888990919293949596979899done.\n",
      "6454819 variants removed due to allele frequency threshold(s)\n",
      "(--maf/--max-maf/--mac/--max-mac).\n",
      "655358 variants remaining after main filters.\n",
      "Writing\n",
      "/home/hice1/jkim3607/biol6150/ProjectSubmissions/Group8/Project9/scratch/1000Genomes.Phase3.Chr2.QC2.fam\n",
      "... done.\n",
      "Writing\n",
      "/home/hice1/jkim3607/biol6150/ProjectSubmissions/Group8/Project9/scratch/1000Genomes.Phase3.Chr2.QC2.bim\n",
      "... done.\n",
      "Writing\n",
      "/home/hice1/jkim3607/biol6150/ProjectSubmissions/Group8/Project9/scratch/1000Genomes.Phase3.Chr2.QC2.bed\n",
      "... 1011121314151617181920212223242526272829303132333435363738394041424344454647484950515253545556575859606162646566676869707172737475767778798081828384858687888990919293949596979899done.\n",
      "End time: Sun Nov 17 14:38:48 2024\n"
     ]
    }
   ],
   "source": [
    "# for above 5% allele frequency.\n",
    "!plink2 --bfile ~/biol6150/ProjectSubmissions/Group8/Project9/scratch/1000Genomes.Phase3.Chr2.QC1 --maf 0.05 --make-bed --out ~/biol6150/ProjectSubmissions/Group8/Project9/scratch/1000Genomes.Phase3.Chr2.QC2"
   ]
  },
  {
   "cell_type": "code",
   "execution_count": 6,
   "id": "0c579c76",
   "metadata": {
    "tags": []
   },
   "outputs": [
    {
     "name": "stdout",
     "output_type": "stream",
     "text": [
      "PLINK v2.00a5LM 64-bit Intel (23 Sep 2023)     www.cog-genomics.org/plink/2.0/\n",
      "(C) 2005-2023 Shaun Purcell, Christopher Chang   GNU General Public License v3\n",
      "Logging to /home/hice1/jkim3607/biol6150/ProjectSubmissions/Group8/Project9/scratch/1000Genomes.Phase3.Chr2.QC3.Variants.log.\n",
      "Options in effect:\n",
      "  --bfile /home/hice1/jkim3607/biol6150/ProjectSubmissions/Group8/Project9/scratch/1000Genomes.Phase3.Chr2.QC2\n",
      "  --indep-pairwise 50 10 0.05\n",
      "  --out /home/hice1/jkim3607/biol6150/ProjectSubmissions/Group8/Project9/scratch/1000Genomes.Phase3.Chr2.QC3.Variants\n",
      "\n",
      "Start time: Sun Nov 17 14:38:54 2024\n",
      "515319 MiB RAM detected, ~449813 available; reserving 257659 MiB for main\n",
      "workspace.\n",
      "Using up to 10 threads (change this with --threads).\n",
      "2504 samples (0 females, 0 males, 2504 ambiguous; 2504 founders) loaded from\n",
      "/home/hice1/jkim3607/biol6150/ProjectSubmissions/Group8/Project9/scratch/1000Genomes.Phase3.Chr2.QC2.fam.\n",
      "655358 variants loaded from\n",
      "/home/hice1/jkim3607/biol6150/ProjectSubmissions/Group8/Project9/scratch/1000Genomes.Phase3.Chr2.QC2.bim.\n",
      "Note: No phenotype data present.\n",
      "Calculating allele frequencies... 102030405060708090done.\n",
      "Error: --indep-pairwise requires unique variant IDs. (--set-all-var-ids and/or\n",
      "--rm-dup may help.)\n",
      "End time: Sun Nov 17 14:38:56 2024\n"
     ]
    }
   ],
   "source": [
    "# for LD pruning\n",
    "!plink2 --bfile ~/biol6150/ProjectSubmissions/Group8/Project9/scratch/1000Genomes.Phase3.Chr2.QC2 --indep-pairwise 50 10 0.05 --out ~/biol6150/ProjectSubmissions/Group8/Project9/scratch/1000Genomes.Phase3.Chr2.QC3.Variants"
   ]
  },
  {
   "cell_type": "code",
   "execution_count": 8,
   "id": "a7ab2f48",
   "metadata": {
    "tags": []
   },
   "outputs": [
    {
     "name": "stdout",
     "output_type": "stream",
     "text": [
      "2\trs573105930\t0\t10554\tA\tG\n",
      "2\trs539817575\t0\t10560\tA\tG\n",
      "2\trs561699913\t0\t10566\tA\tG\n",
      "2\trs113139539\t0\t10572\tA\tAC\n",
      "2\trs544317244\t0\t10574\tG\tC\n",
      "2\trs28804817\t0\t10587\tG\tC\n",
      "2\trs560733692\t0\t10595\tG\tC\n",
      "2\trs28880666\t0\t10596\tT\tG\n",
      "2\trs114772193\t0\t10649\tG\tT\n",
      "2\trs115970550\t0\t10682\tG\tC\n",
      "  655358  3932148 18829078 /home/hice1/jkim3607/biol6150/ProjectSubmissions/Group8/Project9/scratch/1000Genomes.Phase3.Chr2.QC2.bim\n"
     ]
    }
   ],
   "source": [
    "# Check variant IDs\n",
    "!head ~/biol6150/ProjectSubmissions/Group8/Project9/scratch/1000Genomes.Phase3.Chr2.QC2.bim\n",
    "!wc ~/biol6150/ProjectSubmissions/Group8/Project9/scratch/1000Genomes.Phase3.Chr2.QC2.bim"
   ]
  },
  {
   "cell_type": "code",
   "execution_count": 9,
   "id": "c739bd70-4cea-4f72-abcd-181be9681562",
   "metadata": {
    "tags": []
   },
   "outputs": [
    {
     "name": "stdout",
     "output_type": "stream",
     "text": [
      "2\t2_10554_G_A\t0\t10554\tA\tG\n",
      "2\t2_10560_G_A\t0\t10560\tA\tG\n",
      "2\t2_10566_G_A\t0\t10566\tA\tG\n",
      "2\t2_10572_AC_A\t0\t10572\tA\tAC\n",
      "2\t2_10574_C_G\t0\t10574\tG\tC\n",
      "2\t2_10587_C_G\t0\t10587\tG\tC\n",
      "2\t2_10595_C_G\t0\t10595\tG\tC\n",
      "2\t2_10596_G_T\t0\t10596\tT\tG\n",
      "2\t2_10649_T_G\t0\t10649\tG\tT\n",
      "2\t2_10682_C_G\t0\t10682\tG\tC\n",
      "  655358  3932148 22121730 /home/hice1/jkim3607/biol6150/ProjectSubmissions/Group8/Project9/scratch/1000Genomes.Phase3.Chr2.QC2.bim\n"
     ]
    }
   ],
   "source": [
    "#Convert variant IDs.\n",
    "!cp ~/biol6150/ProjectSubmissions/Group8/Project9/scratch/1000Genomes.Phase3.Chr2.QC2.bim ~/biol6150/ProjectSubmissions/Group8/Project9/scratch/1000Genomes.Phase3.Chr2.QC2.bim.backup\n",
    "!awk '{ print $1\"\\t\"$1\"_\"$4\"_\"$6\"_\"$5\"\\t\"$3\"\\t\"$4\"\\t\"$5\"\\t\"$6 }' ~/biol6150/ProjectSubmissions/Group8/Project9/scratch/1000Genomes.Phase3.Chr2.QC2.bim.backup > ~/biol6150/ProjectSubmissions/Group8/Project9/scratch/1000Genomes.Phase3.Chr2.QC2.bim\n",
    "!head ~/biol6150/ProjectSubmissions/Group8/Project9/scratch/1000Genomes.Phase3.Chr2.QC2.bim\n",
    "!wc ~/biol6150/ProjectSubmissions/Group8/Project9/scratch/1000Genomes.Phase3.Chr2.QC2.bim"
   ]
  },
  {
   "cell_type": "code",
   "execution_count": 5,
   "id": "f708037c-be65-4b0b-b7ba-c366848b1347",
   "metadata": {
    "tags": []
   },
   "outputs": [
    {
     "name": "stdout",
     "output_type": "stream",
     "text": [
      "PLINK v2.00a5LM 64-bit Intel (23 Sep 2023)     www.cog-genomics.org/plink/2.0/\n",
      "(C) 2005-2023 Shaun Purcell, Christopher Chang   GNU General Public License v3\n",
      "Logging to /home/hice1/jkim3607/biol6150/ProjectSubmissions/Group8/Project9/scratch/1000Genomes.Phase3.Chr2.QCFinal.log.\n",
      "Options in effect:\n",
      "  --bfile /home/hice1/jkim3607/biol6150/ProjectSubmissions/Group8/Project9/scratch/1000Genomes.Phase3.Chr2.QC2\n",
      "  --indep-pairwise 50 10 0.05\n",
      "  --out /home/hice1/jkim3607/biol6150/ProjectSubmissions/Group8/Project9/scratch/1000Genomes.Phase3.Chr2.QCFinal\n",
      "  --rm-dup\n",
      "\n",
      "Start time: Fri Nov 22 13:09:47 2024\n",
      "772152 MiB RAM detected, ~756286 available; reserving 386076 MiB for main\n",
      "workspace.\n",
      "Using 1 compute thread.\n",
      "2504 samples (0 females, 0 males, 2504 ambiguous; 2504 founders) loaded from\n",
      "/home/hice1/jkim3607/biol6150/ProjectSubmissions/Group8/Project9/scratch/1000Genomes.Phase3.Chr2.QC2.fam.\n",
      "655358 variants loaded from\n",
      "/home/hice1/jkim3607/biol6150/ProjectSubmissions/Group8/Project9/scratch/1000Genomes.Phase3.Chr2.QC2.bim.\n",
      "Note: No phenotype data present.\n",
      "Error: 2 duplicate IDs with inconsistent genotype data or variant information\n",
      "detected by --rm-dup; see\n",
      "/home/hice1/jkim3607/biol6150/ProjectSubmissions/Group8/Project9/scratch/1000Genomes.Phase3.Chr2.QCFinal.rmdup.mismatch\n",
      ".\n",
      "End time: Fri Nov 22 13:09:47 2024\n"
     ]
    }
   ],
   "source": [
    "## For LD pruning\n",
    "!plink2 --bfile ~/biol6150/ProjectSubmissions/Group8/Project9/scratch/1000Genomes.Phase3.Chr2.QC2 --rm-dup --indep-pairwise 50 10 0.05 --out ~/biol6150/ProjectSubmissions/Group8/Project9/scratch/1000Genomes.Phase3.Chr2.QCFinal"
   ]
  },
  {
   "cell_type": "code",
   "execution_count": 8,
   "id": "9205d9e1",
   "metadata": {
    "tags": []
   },
   "outputs": [
    {
     "name": "stdout",
     "output_type": "stream",
     "text": [
      "PLINK v2.00a5LM 64-bit Intel (23 Sep 2023)     www.cog-genomics.org/plink/2.0/\n",
      "(C) 2005-2023 Shaun Purcell, Christopher Chang   GNU General Public License v3\n",
      "Logging to /home/hice1/jkim3607/biol6150/ProjectSubmissions/Group8/Project9/scratch/1000Genomes.Phase3.Chr2.QC3.Variants.log.\n",
      "Options in effect:\n",
      "  --bfile /home/hice1/jkim3607/biol6150/ProjectSubmissions/Group8/Project9/scratch/1000Genomes.Phase3.Chr2.QC2\n",
      "  --exclude /home/hice1/jkim3607/biol6150/ProjectSubmissions/Group8/Project9/scratch/1000Genomes.Phase3.Chr2.QCFinal.rmdup.mismatch\n",
      "  --indep-pairwise 50 10 0.05\n",
      "  --out /home/hice1/jkim3607/biol6150/ProjectSubmissions/Group8/Project9/scratch/1000Genomes.Phase3.Chr2.QC3.Variants\n",
      "  --rm-dup\n",
      "\n",
      "Start time: Fri Nov 22 13:17:25 2024\n",
      "772152 MiB RAM detected, ~756271 available; reserving 386076 MiB for main\n",
      "workspace.\n",
      "Using 1 compute thread.\n",
      "2504 samples (0 females, 0 males, 2504 ambiguous; 2504 founders) loaded from\n",
      "/home/hice1/jkim3607/biol6150/ProjectSubmissions/Group8/Project9/scratch/1000Genomes.Phase3.Chr2.QC2.fam.\n",
      "655358 variants loaded from\n",
      "/home/hice1/jkim3607/biol6150/ProjectSubmissions/Group8/Project9/scratch/1000Genomes.Phase3.Chr2.QC2.bim.\n",
      "Note: No phenotype data present.\n",
      "--exclude: 655354 variants remaining.\n",
      "Note: Skipping --rm-dup since no duplicate IDs remain.\n",
      "Calculating allele frequencies... 101929394959708090done.\n",
      "655354 variants remaining after main filters.\n",
      "--indep-pairwise (1 compute thread): 102030405060708090638248/655354 variants removed.\n",
      "Variant lists written to\n",
      "/home/hice1/jkim3607/biol6150/ProjectSubmissions/Group8/Project9/scratch/1000Genomes.Phase3.Chr2.QC3.Variants.prune.in\n",
      "and\n",
      "/home/hice1/jkim3607/biol6150/ProjectSubmissions/Group8/Project9/scratch/1000Genomes.Phase3.Chr2.QC3.Variants.prune.out\n",
      ".\n",
      "End time: Fri Nov 22 13:17:27 2024\n"
     ]
    }
   ],
   "source": [
    "## For LD pruning\n",
    "!plink2 --bfile ~/biol6150/ProjectSubmissions/Group8/Project9/scratch/1000Genomes.Phase3.Chr2.QC2 --rm-dup --indep-pairwise 50 10 0.05 --exclude ~/biol6150/ProjectSubmissions/Group8/Project9/scratch/1000Genomes.Phase3.Chr2.QCFinal.rmdup.mismatch --out ~/biol6150/ProjectSubmissions/Group8/Project9/scratch/1000Genomes.Phase3.Chr2.QC3.Variants"
   ]
  },
  {
   "cell_type": "code",
   "execution_count": 12,
   "id": "2ee7eee0-acd2-4cad-8be4-9b75cdc35b40",
   "metadata": {
    "tags": []
   },
   "outputs": [
    {
     "name": "stdout",
     "output_type": "stream",
     "text": [
      "   17106    17106   279071 /home/hice1/jkim3607/biol6150/ProjectSubmissions/Group8/Project9/scratch/1000Genomes.Phase3.Chr2.QC3.Variants.prune.in\n",
      "  638248   638248 10126354 /home/hice1/jkim3607/biol6150/ProjectSubmissions/Group8/Project9/scratch/1000Genomes.Phase3.Chr2.QC3.Variants.prune.out\n",
      "  655354   655354 10405425 total\n"
     ]
    }
   ],
   "source": [
    "#Count variants.\n",
    "## For above 5% allele frequency.\n",
    "!wc ~/biol6150/ProjectSubmissions/Group8/Project9/scratch/1000Genomes.Phase3.Chr2.QC3.Variants.prune.*"
   ]
  },
  {
   "cell_type": "code",
   "execution_count": 14,
   "id": "ab92cca7-d0fc-4ae5-b61f-cea1defe3b0c",
   "metadata": {
    "scrolled": true,
    "tags": []
   },
   "outputs": [
    {
     "name": "stdout",
     "output_type": "stream",
     "text": [
      "PLINK v2.00a5LM 64-bit Intel (23 Sep 2023)     www.cog-genomics.org/plink/2.0/\n",
      "(C) 2005-2023 Shaun Purcell, Christopher Chang   GNU General Public License v3\n",
      "Logging to /home/hice1/jkim3607/biol6150/ProjectSubmissions/Group8/Project9/scratch/1000Genomes.Phase3.Chr2.QCFinal.log.\n",
      "Options in effect:\n",
      "  --bfile /home/hice1/jkim3607/biol6150/ProjectSubmissions/Group8/Project9/scratch/1000Genomes.Phase3.Chr2.QC2\n",
      "  --extract /home/hice1/jkim3607/biol6150/ProjectSubmissions/Group8/Project9/scratch/1000Genomes.Phase3.Chr2.QC3.Variants.prune.in\n",
      "  --make-bed\n",
      "  --out /home/hice1/jkim3607/biol6150/ProjectSubmissions/Group8/Project9/scratch/1000Genomes.Phase3.Chr2.QCFinal\n",
      "\n",
      "Start time: Fri Nov 22 13:19:48 2024\n",
      "772152 MiB RAM detected, ~756215 available; reserving 386076 MiB for main\n",
      "workspace.\n",
      "Using 1 compute thread.\n",
      "2504 samples (0 females, 0 males, 2504 ambiguous; 2504 founders) loaded from\n",
      "/home/hice1/jkim3607/biol6150/ProjectSubmissions/Group8/Project9/scratch/1000Genomes.Phase3.Chr2.QC2.fam.\n",
      "655358 variants loaded from\n",
      "/home/hice1/jkim3607/biol6150/ProjectSubmissions/Group8/Project9/scratch/1000Genomes.Phase3.Chr2.QC2.bim.\n",
      "Note: No phenotype data present.\n",
      "--extract: 17106 variants remaining.\n",
      "17106 variants remaining after main filters.\n",
      "Writing\n",
      "/home/hice1/jkim3607/biol6150/ProjectSubmissions/Group8/Project9/scratch/1000Genomes.Phase3.Chr2.QCFinal.fam\n",
      "... done.\n",
      "Writing\n",
      "/home/hice1/jkim3607/biol6150/ProjectSubmissions/Group8/Project9/scratch/1000Genomes.Phase3.Chr2.QCFinal.bim\n",
      "... done.\n",
      "Writing\n",
      "/home/hice1/jkim3607/biol6150/ProjectSubmissions/Group8/Project9/scratch/1000Genomes.Phase3.Chr2.QCFinal.bed\n",
      "... 102029395059697989done.\n",
      "End time: Fri Nov 22 13:19:48 2024\n"
     ]
    }
   ],
   "source": [
    "#Final dataset\n",
    "## For LD pruning\n",
    "!plink2 --bfile ~/biol6150/ProjectSubmissions/Group8/Project9/scratch/1000Genomes.Phase3.Chr2.QC2 --extract ~/biol6150/ProjectSubmissions/Group8/Project9/scratch/1000Genomes.Phase3.Chr2.QC3.Variants.prune.in --make-bed --out ~/biol6150/ProjectSubmissions/Group8/Project9/scratch/1000Genomes.Phase3.Chr2.QCFinal"
   ]
  },
  {
   "cell_type": "code",
   "execution_count": 1,
   "id": "32eec5d8-9cd6-483c-9d6d-a3c302927f32",
   "metadata": {
    "collapsed": true,
    "jupyter": {
     "outputs_hidden": true
    },
    "tags": []
   },
   "outputs": [
    {
     "name": "stdout",
     "output_type": "stream",
     "text": [
      "PLINK v1.90b6.21 64-bit (19 Oct 2020)          www.cog-genomics.org/plink/1.9/\n",
      "(C) 2005-2020 Shaun Purcell, Christopher Chang   GNU General Public License v3\n",
      "Logging to /home/hice1/jkim3607/biol6150/ProjectSubmissions/Group8/Project9/scratch/genetic_distances.log.\n",
      "Options in effect:\n",
      "  --bfile /home/hice1/jkim3607/biol6150/ProjectSubmissions/Group8/Project9/scratch/1000Genomes.Phase3.Chr2.QCFinal\n",
      "  --distance square ibs\n",
      "  --out /home/hice1/jkim3607/biol6150/ProjectSubmissions/Group8/Project9/scratch/genetic_distances\n",
      "\n",
      "772152 MB RAM detected; reserving 386076 MB for main workspace.\n",
      "17106 variants loaded from .bim file.\n",
      "2504 people (0 males, 0 females, 2504 ambiguous) loaded from .fam.\n",
      "Ambiguous sex IDs written to\n",
      "/home/hice1/jkim3607/biol6150/ProjectSubmissions/Group8/Project9/scratch/genetic_distances.nosex\n",
      ".\n",
      "Using up to 23 threads (change this with --threads).\n",
      "Before main variant filters, 2504 founders and 0 nonfounders present.\n",
      "Calculating allele frequencies... 10111213141516171819202122232425262728293031323334353637383940414243444546474849505152535455565758596061626364656667686970717273747576777879808182838485868788899091929394959697989 done.\n",
      "17106 variants and 2504 people pass filters and QC.\n",
      "Note: No phenotypes present.\n",
      "Distance matrix calculation complete.\n",
      "IDs written to\n",
      "/home/hice1/jkim3607/biol6150/ProjectSubmissions/Group8/Project9/scratch/genetic_distances.mibs.id\n",
      ".\n",
      "IBS matrix written to\n",
      "/home/hice1/jkim3607/biol6150/ProjectSubmissions/Group8/Project9/scratch/genetic_distances.mibs\n",
      ".\n"
     ]
    }
   ],
   "source": [
    "#use PLINK to calculate the genetic distances between all pairs of individuals: \n",
    "!plink --bfile ~/biol6150/ProjectSubmissions/Group8/Project9/scratch/1000Genomes.Phase3.Chr2.QCFinal --distance square ibs --out ~/biol6150/ProjectSubmissions/Group8/Project9/scratch/genetic_distances"
   ]
  },
  {
   "cell_type": "code",
   "execution_count": 1,
   "id": "449560ce-2f17-40df-a97d-53b5b7c69322",
   "metadata": {
    "collapsed": true,
    "jupyter": {
     "outputs_hidden": true
    },
    "tags": []
   },
   "outputs": [
    {
     "name": "stdout",
     "output_type": "stream",
     "text": [
      "PLINK v2.00a5LM 64-bit Intel (23 Sep 2023)     www.cog-genomics.org/plink/2.0/\n",
      "(C) 2005-2023 Shaun Purcell, Christopher Chang   GNU General Public License v3\n",
      "Logging to /home/hice1/jkim3607/biol6150/ProjectSubmissions/Group8/Project9/scratch/1000Genomes.Phase3.Chr2.log.\n",
      "Options in effect:\n",
      "  --make-bed\n",
      "  --out /home/hice1/jkim3607/biol6150/ProjectSubmissions/Group8/Project9/scratch/1000Genomes.Phase3.Chr2\n",
      "  --vcf /home/hice1/jkim3607/biol6150/Data/1000Genomes/phase3.chr2.GRCh38.GT.crossmap.vcf.gz\n",
      "\n",
      "Start time: Fri Nov 22 13:59:57 2024\n",
      "772152 MiB RAM detected, ~756265 available; reserving 386076 MiB for main\n",
      "workspace.\n",
      "Using 1 compute thread.\n",
      "--vcf: 7110177 variants scanned.\n",
      "--vcf: 7077k variants converted.\n",
      "/home/hice1/jkim3607/biol6150/ProjectSubmissions/Group8/Project9/scratch/1000Genomes.Phase3.Chr2-temporary.pgen\n",
      "+\n",
      "/home/hice1/jkim3607/biol6150/ProjectSubmissions/Group8/Project9/scratch/1000Genomes.Phase3.Chr2-temporary.pvar.zst\n",
      "+\n",
      "/home/hice1/jkim3607/biol6150/ProjectSubmissions/Group8/Project9/scratch/1000Genomes.Phase3.Chr2-temporary.psam\n",
      "written.\n",
      "2504 samples (0 females, 0 males, 2504 ambiguous; 2504 founders) loaded from\n",
      "/home/hice1/jkim3607/biol6150/ProjectSubmissions/Group8/Project9/scratch/1000Genomes.Phase3.Chr2-temporary.psam.\n",
      "7110177 variants loaded from\n",
      "/home/hice1/jkim3607/biol6150/ProjectSubmissions/Group8/Project9/scratch/1000Genomes.Phase3.Chr2-temporary.pvar.zst.\n",
      "Note: No phenotype data present.\n",
      "Writing\n",
      "/home/hice1/jkim3607/biol6150/ProjectSubmissions/Group8/Project9/scratch/1000Genomes.Phase3.Chr2.fam\n",
      "... done.\n",
      "Writing\n",
      "/home/hice1/jkim3607/biol6150/ProjectSubmissions/Group8/Project9/scratch/1000Genomes.Phase3.Chr2.bim\n",
      "... done.\n",
      "Writing\n",
      "/home/hice1/jkim3607/biol6150/ProjectSubmissions/Group8/Project9/scratch/1000Genomes.Phase3.Chr2.bed\n",
      "... 101112131415161718192021222324252627282930313233343536373839404142434445464748495051525354555657585960616263646566676869707172737475767778798081828384858687888990919293949596979899done.\n",
      "End time: Fri Nov 22 14:04:33 2024\n"
     ]
    }
   ],
   "source": [
    "!plink2 --vcf ~/biol6150/Data/1000Genomes/phase3.chr2.GRCh38.GT.crossmap.vcf.gz --make-bed --out ~/biol6150/ProjectSubmissions/Group8/Project9/scratch/1000Genomes.Phase3.Chr2"
   ]
  },
  {
   "cell_type": "code",
   "execution_count": 4,
   "id": "27e0dc2a-ebdd-4ac3-8456-f3bc475c7159",
   "metadata": {
    "jupyter": {
     "outputs_hidden": true
    },
    "tags": []
   },
   "outputs": [
    {
     "name": "stdout",
     "output_type": "stream",
     "text": [
      "PLINK v1.90b6.21 64-bit (19 Oct 2020)          www.cog-genomics.org/plink/1.9/\n",
      "(C) 2005-2020 Shaun Purcell, Christopher Chang   GNU General Public License v3\n",
      "Logging to /home/hice1/jkim3607/biol6150/ProjectSubmissions/Group8/Project9/scratch/genetic_distances.log.\n",
      "Options in effect:\n",
      "  --bfile /home/hice1/jkim3607/biol6150/ProjectSubmissions/Group8/Project9/scratch/1000Genomes.Phase3.Chr2.QCFinal\n",
      "  --distance square ibs\n",
      "  --out /home/hice1/jkim3607/biol6150/ProjectSubmissions/Group8/Project9/scratch/genetic_distances\n",
      "\n",
      "772152 MB RAM detected; reserving 386076 MB for main workspace.\n",
      "17106 variants loaded from .bim file.\n",
      "2504 people (0 males, 0 females, 2504 ambiguous) loaded from .fam.\n",
      "Ambiguous sex IDs written to\n",
      "/home/hice1/jkim3607/biol6150/ProjectSubmissions/Group8/Project9/scratch/genetic_distances.nosex\n",
      ".\n",
      "Using up to 23 threads (change this with --threads).\n",
      "Before main variant filters, 2504 founders and 0 nonfounders present.\n",
      "Calculating allele frequencies... 10111213141516171819202122232425262728293031323334353637383940414243444546474849505152535455565758596061626364656667686970717273747576777879808182838485868788899091929394959697989 done.\n",
      "17106 variants and 2504 people pass filters and QC.\n",
      "Note: No phenotypes present.\n",
      "Distance matrix calculation complete.\n",
      "IDs written to\n",
      "/home/hice1/jkim3607/biol6150/ProjectSubmissions/Group8/Project9/scratch/genetic_distances.mibs.id\n",
      ".\n",
      "IBS matrix written to\n",
      "/home/hice1/jkim3607/biol6150/ProjectSubmissions/Group8/Project9/scratch/genetic_distances.mibs\n",
      ".\n"
     ]
    }
   ],
   "source": [
    "!plink --bfile ~/biol6150/ProjectSubmissions/Group8/Project9/scratch/1000Genomes.Phase3.Chr2.QCFinal --distance square ibs --out ~/biol6150/ProjectSubmissions/Group8/Project9/scratch/genetic_distances"
   ]
  },
  {
   "cell_type": "code",
   "execution_count": 9,
   "id": "52e172fa-265f-4233-a0d4-af0027cf4b56",
   "metadata": {
    "jupyter": {
     "outputs_hidden": true
    },
    "tags": []
   },
   "outputs": [
    {
     "name": "stdout",
     "output_type": "stream",
     "text": [
      "--2024-11-22 14:26:50--  ftp://ftp.1000genomes.ebi.ac.uk/vol1/ftp/release/20130502/integrated_call_samples_v3.20130502.ALL.panel\n",
      "           => ‘integrated_call_samples_v3.20130502.ALL.panel’\n",
      "Resolving ftp.1000genomes.ebi.ac.uk (ftp.1000genomes.ebi.ac.uk)... 193.62.193.167\n",
      "Connecting to ftp.1000genomes.ebi.ac.uk (ftp.1000genomes.ebi.ac.uk)|193.62.193.167|:21... connected.\n",
      "Logging in as anonymous ... Logged in!\n",
      "==> SYST ... done.    ==> PWD ... done.\n",
      "==> TYPE I ... done.  ==> CWD (1) /vol1/ftp/release/20130502 ... done.\n",
      "==> SIZE integrated_call_samples_v3.20130502.ALL.panel ... 55156\n",
      "==> PASV ... done.    ==> RETR integrated_call_samples_v3.20130502.ALL.panel ... done.\n",
      "Length: 55156 (54K) (unauthoritative)\n",
      "\n",
      "integrated_call_sam 100%[===================>]  53.86K   189KB/s    in 0.3s    \n",
      "\n",
      "2024-11-22 14:26:52 (189 KB/s) - ‘integrated_call_samples_v3.20130502.ALL.panel’ saved [55156]\n",
      "\n"
     ]
    }
   ],
   "source": [
    "!wget ftp://ftp.1000genomes.ebi.ac.uk/vol1/ftp/release/20130502/integrated_call_samples_v3.20130502.ALL.panel -O integrated_call_samples_v3.20130502.ALL.panel"
   ]
  },
  {
   "cell_type": "code",
   "execution_count": 1,
   "id": "a47f1f13",
   "metadata": {
    "collapsed": true,
    "jupyter": {
     "outputs_hidden": true
    },
    "scrolled": true,
    "tags": []
   },
   "outputs": [
    {
     "name": "stdout",
     "output_type": "stream",
     "text": [
      "PLINK v1.90b6.21 64-bit (19 Oct 2020)          www.cog-genomics.org/plink/1.9/\n",
      "(C) 2005-2020 Shaun Purcell, Christopher Chang   GNU General Public License v3\n",
      "Logging to genetic_distances.log.\n",
      "Options in effect:\n",
      "  --bfile /home/hice1/kbook6/biol6150/ProjectSubmissions/Group8/Project9/scratch/1000Genomes.Phase3.Chr2.QCFinal\n",
      "  --genome\n",
      "  --out genetic_distances\n",
      "\n",
      "772152 MB RAM detected; reserving 386076 MB for main workspace.\n",
      "17106 variants loaded from .bim file.\n",
      "2504 people (0 males, 0 females, 2504 ambiguous) loaded from .fam.\n",
      "Ambiguous sex IDs written to genetic_distances.nosex .\n",
      "Using up to 23 threads (change this with --threads).\n",
      "Before main variant filters, 2504 founders and 0 nonfounders present.\n",
      "Calculating allele frequencies... 10111213141516171819202122232425262728293031323334353637383940414243444546474849505152535455565758596061626364656667686970717273747576777879808182838485868788899091929394959697989 done.\n",
      "17106 variants and 2504 people pass filters and QC.\n",
      "Note: No phenotypes present.\n",
      "IBD calculations complete.  \n",
      "Finished writing genetic_distances.genome .\n"
     ]
    }
   ],
   "source": [
    "# generate a distance matrix\n",
    "!plink --bfile ~/biol6150/ProjectSubmissions/Group8/Project9/scratch/1000Genomes.Phase3.Chr2.QCFinal --genome --out genetic_distances"
   ]
  },
  {
   "cell_type": "code",
   "execution_count": 1,
   "id": "256aeb88",
   "metadata": {
    "scrolled": true
   },
   "outputs": [
    {
     "name": "stdout",
     "output_type": "stream",
     "text": [
      " FID1     IID1 FID2     IID2 RT    EZ      Z0      Z1      Z2  PI_HAT PHE       DST     PPC   RATIO\n",
      "   0  HG00096   0  HG00097 OT     0  0.7789  0.1784  0.0427  0.1319  -1  0.717000  0.9999  3.0194\n",
      "   0  HG00096   0  HG00099 OT     0  0.7528  0.2190  0.0282  0.1377  -1  0.716941  0.9999  3.0485\n",
      "   0  HG00096   0  HG00100 OT     0  0.7397  0.2473  0.0130  0.1367  -1  0.715275  0.9933  2.6154\n",
      "   0  HG00096   0  HG00101 OT     0  0.7422  0.2345  0.0233  0.1406  -1  0.717117  0.9478  2.3790\n",
      "   0  HG00096   0  HG00102 OT     0  0.7870  0.1354  0.0776  0.1453  -1  0.723255  1.0000  3.3505\n",
      "   0  HG00096   0  HG00103 OT     0  0.7646  0.1845  0.0509  0.1431  -1  0.720274  0.9989  2.8018\n",
      "   0  HG00096   0  HG00105 OT     0  0.7808  0.1997  0.0195  0.1194  -1  0.712031  0.9530  2.3967\n",
      "   0  HG00096   0  HG00106 OT     0  0.7920  0.1682  0.0398  0.1239  -1  0.714954  0.9544  2.3952\n",
      "   0  HG00096   0  HG00107 OT     0  0.6917  0.2708  0.0375  0.1729  -1  0.725623  1.0000  3.1700\n"
     ]
    }
   ],
   "source": [
    "#head the GRM\n",
    "!head ~/biol6150/ProjectSubmissions/Group8/Project9/genetic_distances.genome"
   ]
  },
  {
   "cell_type": "code",
   "execution_count": 2,
   "id": "d11a8343",
   "metadata": {},
   "outputs": [
    {
     "name": "stdout",
     "output_type": "stream",
     "text": [
      "PLINK v1.90b6.21 64-bit (19 Oct 2020)\r\n",
      "Options in effect:\r\n",
      "  --bfile /home/hice1/kbook6/biol6150/ProjectSubmissions/Group8/Project9/scratch/1000Genomes.Phase3.Chr2.QCFinal\r\n",
      "  --genome\r\n",
      "  --out genetic_distances\r\n",
      "\r\n",
      "Hostname: atl1-1-02-003-19-2.pace.gatech.edu\r\n",
      "Working directory: /storage/ice-shared/biol6150/ProjectSubmissions/Group8/Project9\r\n",
      "Start time: Sat Nov 23 11:11:05 2024\r\n",
      "\r\n"
     ]
    }
   ],
   "source": [
    "#head the plink2 log \n",
    "!head ~/biol6150/ProjectSubmissions/Group8/Project9/genetic_distances.log"
   ]
  },
  {
   "cell_type": "markdown",
   "id": "7bd4bf19",
   "metadata": {},
   "source": [
    "<div class=\"alert alert-block alert-warning\">\n",
    "    <h3>1.2 Find pairs of closest individuals within each population</h3>\n",
    "    <p>You have 26 populations in the 1000 genomes data. Find out top 3 pairs of closest individuals within each population.</p>\n",
    "</div>"
   ]
  },
  {
   "cell_type": "code",
   "execution_count": null,
   "id": "a09a205e",
   "metadata": {},
   "outputs": [],
   "source": [
    "#Show individuals here."
   ]
  },
  {
   "cell_type": "code",
   "execution_count": 2,
   "id": "b1196d93",
   "metadata": {
    "tags": []
   },
   "outputs": [
    {
     "name": "stdout",
     "output_type": "stream",
     "text": [
      "\n",
      "## GBR\n",
      "           IID1     IID2  PI_HAT\n",
      "194657  HG00238  HG00240  0.2936\n",
      "42415   HG00115  HG00116  0.2746\n",
      "44904   HG00116  HG00120  0.2283\n",
      "\n",
      "## FIN\n",
      "           IID1     IID2  PI_HAT\n",
      "401803  HG00362  HG00364  0.2032\n",
      "347811  HG00332  HG00379  0.1974\n",
      "288503  HG00284  HG00368  0.1967\n",
      "\n",
      "## CHS\n",
      "           IID1     IID2  PI_HAT\n",
      "565255  HG00581  HG00607  0.2971\n",
      "473787  HG00442  HG00446  0.2773\n",
      "496809  HG00463  HG00524  0.2574\n",
      "\n",
      "## PUR\n",
      "           IID1     IID2  PI_HAT\n",
      "780448  HG01067  HG01183  0.1925\n",
      "906656  HG01187  HG01200  0.1803\n",
      "825730  HG01102  HG01104  0.1799\n",
      "\n",
      "## CDX\n",
      "            IID1     IID2  PI_HAT\n",
      "1846555  HG02353  HG02379  0.3878\n",
      "725844   HG00851  HG00881  0.3583\n",
      "1356409  HG01795  HG02179  0.2886\n",
      "\n",
      "## CLM\n",
      "           IID1     IID2  PI_HAT\n",
      "860027  HG01133  HG01284  0.2190\n",
      "961253  HG01280  HG01465  0.2113\n",
      "946574  HG01259  HG01275  0.2091\n",
      "\n",
      "## IBS\n",
      "            IID1     IID2  PI_HAT\n",
      "1314478  HG01761  HG01762  0.1850\n",
      "1221813  HG01607  HG01761  0.1811\n",
      "1312577  HG01757  HG01771  0.1803\n",
      "\n",
      "## PEL\n",
      "            IID1     IID2  PI_HAT\n",
      "1784853  HG02271  HG02272  0.3216\n",
      "1538036  HG01968  HG02102  0.2961\n",
      "1500322  HG01932  HG02105  0.2933\n",
      "\n",
      "## PJL\n",
      "            IID1     IID2  PI_HAT\n",
      "2333011  HG03228  HG03229  0.2567\n",
      "2064661  HG02687  HG03705  0.2363\n",
      "2120900  HG02786  HG03706  0.2293\n",
      "\n",
      "## KHV\n",
      "            IID1     IID2  PI_HAT\n",
      "1449316  HG01871  HG02049  0.2462\n",
      "1612134  HG02049  HG02079  0.2428\n",
      "1612135  HG02049  HG02081  0.2392\n",
      "\n",
      "## ACB\n",
      "            IID1     IID2  PI_HAT\n",
      "1906810  HG02429  HG02479  0.5542\n",
      "1484187  HG01915  HG02484  0.2193\n",
      "1584294  HG02014  HG02496  0.2071\n",
      "\n",
      "## GWD\n",
      "            IID1     IID2  PI_HAT\n",
      "2011016  HG02610  HG02642  0.2690\n",
      "2021474  HG02624  HG02642  0.2673\n",
      "2011017  HG02610  HG02643  0.2628\n",
      "\n",
      "## ESN\n",
      "            IID1     IID2  PI_HAT\n",
      "2371762  HG03343  HG03352  0.3149\n",
      "2364350  HG03301  HG03372  0.2699\n",
      "2314020  HG03169  HG03521  0.2671\n",
      "\n",
      "## BEB\n",
      "            IID1     IID2  PI_HAT\n",
      "2745235  HG04161  HG04162  0.3189\n",
      "2586239  HG03793  HG03910  0.1744\n",
      "2745247  HG04161  HG04189  0.1708\n",
      "\n",
      "## MSL\n",
      "            IID1     IID2  PI_HAT\n",
      "2426302  HG03478  HG03484  0.3959\n",
      "2419151  HG03464  HG03478  0.3690\n",
      "2252641  HG03073  HG03097  0.3309\n",
      "\n",
      "## STU\n",
      "            IID1     IID2  PI_HAT\n",
      "2542527  HG03733  HG03899  0.6077\n",
      "2553255  HG03750  HG03754  0.5216\n",
      "2519456  HG03696  HG03848  0.2395\n",
      "\n",
      "## ITU\n",
      "            IID1     IID2  PI_HAT\n",
      "2624217  HG03866  HG03873  0.2894\n",
      "2568248  HG03773  HG03784  0.2009\n",
      "2579916  HG03786  HG03861  0.1904\n",
      "\n",
      "## CEU\n",
      "            IID1     IID2  PI_HAT\n",
      "2798816  NA11932  NA12383  0.2236\n",
      "2807728  NA12045  NA12046  0.2087\n",
      "2786444  NA11829  NA12413  0.2016\n",
      "\n",
      "## YRI\n",
      "            IID1     IID2  PI_HAT\n",
      "2938772  NA18858  NA18909  0.2251\n",
      "2942015  NA18868  NA19102  0.2227\n",
      "2856626  NA18499  NA18519  0.2140\n",
      "\n",
      "## CHB\n",
      "            IID1     IID2  PI_HAT\n",
      "2880664  NA18546  NA18579  0.2484\n",
      "2889807  NA18562  NA18565  0.2443\n",
      "2889137  NA18561  NA18614  0.2435\n",
      "\n",
      "## JPT\n",
      "            IID1     IID2  PI_HAT\n",
      "2990378  NA19004  NA19007  0.2487\n",
      "2993087  NA19010  NA19084  0.2475\n",
      "3004985  NA19056  NA19065  0.2421\n",
      "\n",
      "## LWK\n",
      "            IID1     IID2  PI_HAT\n",
      "3054356  NA19331  NA19334  0.4808\n",
      "3047439  NA19307  NA19312  0.3741\n",
      "3050749  NA19317  NA19376  0.3632\n",
      "\n",
      "## ASW\n",
      "            IID1     IID2  PI_HAT\n",
      "3108331  NA20320  NA20321  0.5494\n",
      "3111178  NA20359  NA20362  0.5299\n",
      "3107878  NA20317  NA20318  0.5218\n",
      "\n",
      "## MXL\n",
      "            IID1     IID2  PI_HAT\n",
      "3080187  NA19657  NA19786  0.3512\n",
      "3090121  NA19732  NA19783  0.2500\n",
      "3089503  NA19729  NA19731  0.2497\n",
      "\n",
      "## TSI\n",
      "            IID1     IID2  PI_HAT\n",
      "3117140  NA20531  NA20770  0.2264\n",
      "3118222  NA20538  NA20790  0.1967\n",
      "3117138  NA20531  NA20768  0.1849\n",
      "\n",
      "## GIH\n",
      "            IID1     IID2  PI_HAT\n",
      "3130995  NA20882  NA20900  0.5271\n",
      "3131551  NA20891  NA20900  0.5245\n",
      "3133399  NA21109  NA21135  0.2714\n",
      "Saved all results to closest_pairs_all_populations.csv\n"
     ]
    }
   ],
   "source": [
    "#find top 3 pairs of closest individuals\n",
    "import pandas as pd\n",
    "\n",
    "# Load the .fam file to get individual data\n",
    "fam_file = \"~/biol6150/ProjectSubmissions/Group8/Project9/scratch/1000Genomes.Phase3.Chr2.QCFinal.fam\"\n",
    "fam_data = pd.read_csv(fam_file, delim_whitespace=True, header=None, names=[\"FID\", \"IID\", \"PID\", \"MID\", \"Sex\", \"Phenotype\"])\n",
    "\n",
    "# Load the sample-population mapping file\n",
    "pop_file = \"~/biol6150/ProjectSubmissions/Group8/Project9/sample_pop_info.txt\"\n",
    "pop_data = pd.read_csv(pop_file, delim_whitespace=True, header=0, names=[\"sample\", \"pop\"])\n",
    "\n",
    "# Merge population data with FAM data based on the IID/sample column\n",
    "fam_data = fam_data.merge(pop_data, how='left', left_on='IID', right_on='sample')\n",
    "\n",
    "# Load the .genome file (output from Step 2)\n",
    "genome_file = \"~/biol6150/ProjectSubmissions/Group8/Project9/genetic_distances.genome\"\n",
    "genome_data = pd.read_csv(genome_file, delim_whitespace=True)\n",
    "\n",
    "# Group by population\n",
    "results = {}\n",
    "\n",
    "for pop in fam_data['pop'].unique():\n",
    "    # Filter individuals from this population\n",
    "    pop_individuals = fam_data[fam_data['pop'] == pop]['IID']\n",
    "    \n",
    "    # Filter genome data for pairs within this population\n",
    "    pop_genome_data = genome_data[\n",
    "        genome_data['IID1'].isin(pop_individuals) & genome_data['IID2'].isin(pop_individuals)\n",
    "    ]\n",
    "    \n",
    "    # Sort by genetic distance (PI_HAT) and pick the top 3 closest pairs\n",
    "    closest_pairs = pop_genome_data.sort_values(by='PI_HAT', ascending=False).head(3)\n",
    "    results[pop] = closest_pairs\n",
    "\n",
    "# Print or save the results\n",
    "for pop, pairs in results.items():\n",
    "    print(f\"\\n## {pop}\")\n",
    "    print(pairs[['IID1', 'IID2', 'PI_HAT']])\n",
    "\n",
    "# Combine all populations into one DataFrame\n",
    "all_results = []\n",
    "\n",
    "for pop, pairs in results.items():\n",
    "    pairs['Population'] = pop  # Add population column\n",
    "    all_results.append(pairs[['Population', 'IID1', 'IID2', 'PI_HAT']])\n",
    "\n",
    "# Concatenate and save to a single CSV\n",
    "combined_results = pd.concat(all_results)\n",
    "combined_results.to_csv(\"closest_pairs_all_populations.csv\", index=False)\n",
    "print(\"Saved all results to closest_pairs_all_populations.csv\")\n"
   ]
  },
  {
   "cell_type": "markdown",
   "id": "9841242e",
   "metadata": {},
   "source": [
    "# **2. PCA**\n",
    "### *Total questions: 3*\n",
    "### *Total Points:  20+20+20=60*\n",
    "\n",
    "\n",
    "---"
   ]
  },
  {
   "cell_type": "markdown",
   "id": "af0be29a",
   "metadata": {},
   "source": [
    "<div class=\"alert alert-block alert-warning\">\n",
    "    <h3>2.1 Perform a PCA on 1000 genomes data</h3>\n",
    "    <p>Perform appropirate QC steps as following:</p>\n",
    "    <li>Missingness (at most 25% missingness allowed)</li>\n",
    "    <li>Minor Allele frequency to remove rare variants (<5% frequency)</li>\n",
    "    <li>Appropriate LD pruning to extract 100,000 - 300,000 markers (variants)</li>\n",
    "    <p>Finally perform PCA on the 1000 genomes data which is QCed</p>  \n",
    "</div>"
   ]
  },
  {
   "cell_type": "code",
   "execution_count": 1,
   "id": "c550957f",
   "metadata": {},
   "outputs": [],
   "source": [
    "## All work here.\n",
    "# finish running these commands"
   ]
  },
  {
   "cell_type": "code",
   "execution_count": 13,
   "id": "b98ceea5",
   "metadata": {
    "tags": []
   },
   "outputs": [
    {
     "name": "stdout",
     "output_type": "stream",
     "text": [
      "PLINK v2.00a5LM 64-bit Intel (23 Sep 2023)     www.cog-genomics.org/plink/2.0/\n",
      "(C) 2005-2023 Shaun Purcell, Christopher Chang   GNU General Public License v3\n",
      "Logging to /home/hice1/jkim3607/biol6150/ProjectSubmissions/Group8/Project9/scratch/1000Genomes.Phase3.Chr2.QCFinal.PCA.log.\n",
      "Options in effect:\n",
      "  --bfile /home/hice1/jkim3607/biol6150/ProjectSubmissions/Group8/Project9/scratch/1000Genomes.Phase3.Chr2.QCFinal\n",
      "  --out /home/hice1/jkim3607/biol6150/ProjectSubmissions/Group8/Project9/scratch/1000Genomes.Phase3.Chr2.QCFinal.PCA\n",
      "  --pca\n",
      "\n",
      "Start time: Fri Nov 22 14:46:49 2024\n",
      "772152 MiB RAM detected, ~756182 available; reserving 386076 MiB for main\n",
      "workspace.\n",
      "Using 1 compute thread.\n",
      "2504 samples (0 females, 0 males, 2504 ambiguous; 2504 founders) loaded from\n",
      "/home/hice1/jkim3607/biol6150/ProjectSubmissions/Group8/Project9/scratch/1000Genomes.Phase3.Chr2.QCFinal.fam.\n",
      "17106 variants loaded from\n",
      "/home/hice1/jkim3607/biol6150/ProjectSubmissions/Group8/Project9/scratch/1000Genomes.Phase3.Chr2.QCFinal.bim.\n",
      "Note: No phenotype data present.\n",
      "Calculating allele frequencies... done.\n",
      "Constructing GRM: 10111213141515161718192021222324252627282930313233343536373839404142434445464748495051525354555657585960616263646566676869707172737475767778798081828384858687888990919293949596979899done.\n",
      "Extracting eigenvalues and eigenvectors... done.\n",
      "--pca: Eigenvectors written to\n",
      "/home/hice1/jkim3607/biol6150/ProjectSubmissions/Group8/Project9/scratch/1000Genomes.Phase3.Chr2.QCFinal.PCA.eigenvec\n",
      ", and eigenvalues written to\n",
      "/home/hice1/jkim3607/biol6150/ProjectSubmissions/Group8/Project9/scratch/1000Genomes.Phase3.Chr2.QCFinal.PCA.eigenval\n",
      ".\n",
      "End time: Fri Nov 22 14:47:07 2024\n"
     ]
    }
   ],
   "source": [
    "#QC performed in 1.1\n",
    "#run PCA\n",
    "!plink2 --bfile ~/biol6150/ProjectSubmissions/Group8/Project9/scratch/1000Genomes.Phase3.Chr2.QCFinal --pca --out ~/biol6150/ProjectSubmissions/Group8/Project9/scratch/1000Genomes.Phase3.Chr2.QCFinal.PCA"
   ]
  },
  {
   "cell_type": "markdown",
   "id": "a5c2e7cc",
   "metadata": {},
   "source": [
    "<div class=\"alert alert-block alert-warning\">\n",
    "    <h3>2.2 Plot PCA plot</h3>\n",
    "    <p>Points should be colored by continental population category of samples</p>\n",
    "</div>"
   ]
  },
  {
   "cell_type": "code",
   "execution_count": null,
   "id": "b8779862",
   "metadata": {},
   "outputs": [],
   "source": [
    "## All work here.\n",
    "# work done in R, shown below:\n",
    "library(ggplot2)\n",
    "library(data.table)\n",
    "library(dplyr)\n",
    "\n",
    "# Load PCA eigenvector data\n",
    "eigenvec <- as.data.frame(fread(\"1000Genomes.Phase3.Chr2.QCFinal.PCA.eigenvec\"))\n",
    "colnames(eigenvec) <- c(\"FID\", \"IID\", paste0(\"PC\", 1:20))  # Rename columns for clarity\n",
    "\n",
    "# Load population mapping file\n",
    "pop_info <- fread(\"sample_pop_info.txt\")\n",
    "colnames(pop_info) <- c(\"IID\", \"Population\")\n",
    "\n",
    "# Map population to continents\n",
    "pop_info <- pop_info %>%\n",
    "  mutate(Continent = case_when(\n",
    "    Population %in% c(\"YRI\", \"LWK\", \"GWD\", \"MSL\", \"ESN\",\"ACB\",\"ASW\") ~ \"AFR\",\n",
    "    Population %in% c(\"CEU\", \"TSI\", \"FIN\", \"GBR\", \"IBS\") ~ \"EUR\",\n",
    "    Population %in% c(\"CHB\", \"JPT\", \"CHS\", \"CDX\", \"KHV\") ~ \"EAS\",\n",
    "    Population %in% c(\"PJL\", \"BEB\", \"GIH\", \"ITU\", \"STU\") ~ \"SAS\",\n",
    "    Population %in% c(\"CLM\", \"MXL\", \"PUR\", \"PEL\") ~ \"AMR\",\n",
    "    TRUE ~ \"Other\"\n",
    "  ))\n",
    "\n",
    "# Merge data\n",
    "eigenvec <- eigenvec %>%\n",
    "  left_join(pop_info, by = \"IID\")\n",
    "\n",
    "# Validate merge\n",
    "if (any(is.na(eigenvec$Continent))) {\n",
    "  warning(\"Some IIDs do not have a mapped continent. Check data consistency.\")\n",
    "}\n",
    "\n",
    "# Plot\n",
    "ggplot(data = eigenvec, aes(x = PC1, y = PC2, color = Continent)) +\n",
    "  geom_point(size = 2, alpha = 0.7) +\n",
    "  theme_minimal() +\n",
    "  labs(\n",
    "    title = \"PCA Plot Colored by Continental Population\",\n",
    "    x = \"Principal Component 1\",\n",
    "    y = \"Principal Component 2\",\n",
    "    color = \"Continent\"\n",
    "  ) +\n",
    "  theme(\n",
    "    legend.position = \"right\",\n",
    "    axis.text = element_text(size = 12),\n",
    "    axis.title = element_text(size = 14),\n",
    "    plot.title = element_text(hjust = 0.5, size = 16)\n",
    "  )"
   ]
  },
  {
   "attachments": {},
   "cell_type": "markdown",
   "id": "9ac5b88a",
   "metadata": {},
   "source": [
    "![PCA_Continent_Project9.png](attachment:PCA_Continent_Project9.png)"
   ]
  },
  {
   "cell_type": "markdown",
   "id": "f89b3695",
   "metadata": {},
   "source": [
    "Above is the image of the PCA plot colored by continental populations. We used the suggested methods of inserting the picture, but only some of our group members can see it in the notebook. If this is the case for the grader, the image can be found in the 'Project9' folder under the name 'PCA_Continent_Project9.png'"
   ]
  },
  {
   "cell_type": "markdown",
   "id": "cd6e600e",
   "metadata": {},
   "source": [
    "<div class=\"alert alert-block alert-warning\">\n",
    "    <h3>2.3 Plot PCA plot with top genetically similar individuals</h3>\n",
    "    <p>Highlight the individuals obtained in 1.2. Rest of the individuals on the PCA plot can be colored in grey</p>\n",
    "</div>"
   ]
  },
  {
   "cell_type": "code",
   "execution_count": null,
   "id": "25364e4c",
   "metadata": {},
   "outputs": [],
   "source": [
    "# work done in R, shown below:\n",
    "# Load necessary libraries\n",
    "library(data.table)\n",
    "library(dplyr)\n",
    "library(ggplot2)\n",
    "\n",
    "# Load PCA eigenvector data\n",
    "eigenvec <- as.data.frame(fread(\"~/biol6150/ProjectSubmissions/Group8/Project9/scratch/1000Genomes.Phase3.Chr2.QCFinal.PCA.eigenvec\"))\n",
    "colnames(eigenvec) <- c(\"FID\", \"IID\", paste0(\"PC\", 1:20))  # Rename columns for clarity\n",
    "\n",
    "# Load closest pairs data\n",
    "highlighted <- read.csv(\"closest_pairs_all_populations.csv\")\n",
    "\n",
    "# Identify unique individuals to highlight\n",
    "highlight_ids <- unique(c(highlighted$IID1, highlighted$IID2))\n",
    "\n",
    "# Add a column to eigenvec to indicate whether an individual is highlighted\n",
    "eigenvec <- eigenvec %>%\n",
    "  mutate(highlight = ifelse(IID %in% highlight_ids, \"Highlighted\", \"Other\"))\n",
    "\n",
    "# Create PCA plot\n",
    "ggplot(eigenvec, aes(x = PC1, y = PC2, color = highlight)) +\n",
    "  geom_point(size = 2, alpha = 0.7) +\n",
    "  scale_color_manual(values = c(\"Highlighted\" = \"hotpink\", \"Other\" = \"grey\")) +\n",
    "  labs(\n",
    "    title = \"PCA Plot with Highlighted Individuals\",\n",
    "    x = \"Principal Component 1\",\n",
    "    y = \"Principal Component 2\",\n",
    "    color = \"Individual Type\"\n",
    "  ) +\n",
    "  theme_minimal() +\n",
    "  theme(\n",
    "    legend.position = \"top\",\n",
    "    axis.text = element_text(size = 12),\n",
    "    axis.title = element_text(size = 14),\n",
    "    plot.title = element_text(hjust = 0.5, size = 16)\n",
    "  )\n",
    "\n"
   ]
  },
  {
   "cell_type": "markdown",
   "id": "dee9b08e",
   "metadata": {},
   "source": [
    "![2.3_PCA_plot.png](attachment:2.3_PCA_plot.png)"
   ]
  },
  {
   "cell_type": "markdown",
   "id": "bcd9f770",
   "metadata": {},
   "source": [
    "Above is the image of the refined PCA plot. We used the suggested methods of inserting the picture, but only some of our group members can see it in the notebook. If this is the case for the grader, the image can be found in the Project 9 folder under the name 2.3_PCA_plot.png"
   ]
  }
 ],
 "metadata": {
  "kernelspec": {
   "display_name": "Python [conda env:biol6150]",
   "language": "python",
   "name": "conda-env-biol6150-py"
  },
  "language_info": {
   "codemirror_mode": {
    "name": "ipython",
    "version": 3
   },
   "file_extension": ".py",
   "mimetype": "text/x-python",
   "name": "python",
   "nbconvert_exporter": "python",
   "pygments_lexer": "ipython3",
   "version": "3.11.5"
  }
 },
 "nbformat": 4,
 "nbformat_minor": 5
}
